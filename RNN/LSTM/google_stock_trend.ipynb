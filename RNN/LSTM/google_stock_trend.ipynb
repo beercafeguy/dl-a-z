{
 "cells": [
  {
   "cell_type": "markdown",
   "metadata": {},
   "source": [
    "# Load the data"
   ]
  },
  {
   "cell_type": "code",
   "execution_count": 1,
   "metadata": {},
   "outputs": [],
   "source": [
    "import numpy as np\n",
    "import matplotlib.pyplot as plt\n",
    "import pandas as pd\n"
   ]
  },
  {
   "cell_type": "markdown",
   "metadata": {},
   "source": [
    "## Import training set"
   ]
  },
  {
   "cell_type": "code",
   "execution_count": 2,
   "metadata": {},
   "outputs": [
    {
     "data": {
      "text/html": [
       "<div>\n",
       "<style scoped>\n",
       "    .dataframe tbody tr th:only-of-type {\n",
       "        vertical-align: middle;\n",
       "    }\n",
       "\n",
       "    .dataframe tbody tr th {\n",
       "        vertical-align: top;\n",
       "    }\n",
       "\n",
       "    .dataframe thead th {\n",
       "        text-align: right;\n",
       "    }\n",
       "</style>\n",
       "<table border=\"1\" class=\"dataframe\">\n",
       "  <thead>\n",
       "    <tr style=\"text-align: right;\">\n",
       "      <th></th>\n",
       "      <th>Date</th>\n",
       "      <th>Open</th>\n",
       "      <th>High</th>\n",
       "      <th>Low</th>\n",
       "      <th>Close</th>\n",
       "      <th>Volume</th>\n",
       "    </tr>\n",
       "  </thead>\n",
       "  <tbody>\n",
       "    <tr>\n",
       "      <th>0</th>\n",
       "      <td>1/3/2012</td>\n",
       "      <td>325.25</td>\n",
       "      <td>332.83</td>\n",
       "      <td>324.97</td>\n",
       "      <td>663.59</td>\n",
       "      <td>7,380,500</td>\n",
       "    </tr>\n",
       "    <tr>\n",
       "      <th>1</th>\n",
       "      <td>1/4/2012</td>\n",
       "      <td>331.27</td>\n",
       "      <td>333.87</td>\n",
       "      <td>329.08</td>\n",
       "      <td>666.45</td>\n",
       "      <td>5,749,400</td>\n",
       "    </tr>\n",
       "    <tr>\n",
       "      <th>2</th>\n",
       "      <td>1/5/2012</td>\n",
       "      <td>329.83</td>\n",
       "      <td>330.75</td>\n",
       "      <td>326.89</td>\n",
       "      <td>657.21</td>\n",
       "      <td>6,590,300</td>\n",
       "    </tr>\n",
       "    <tr>\n",
       "      <th>3</th>\n",
       "      <td>1/6/2012</td>\n",
       "      <td>328.34</td>\n",
       "      <td>328.77</td>\n",
       "      <td>323.68</td>\n",
       "      <td>648.24</td>\n",
       "      <td>5,405,900</td>\n",
       "    </tr>\n",
       "    <tr>\n",
       "      <th>4</th>\n",
       "      <td>1/9/2012</td>\n",
       "      <td>322.04</td>\n",
       "      <td>322.29</td>\n",
       "      <td>309.46</td>\n",
       "      <td>620.76</td>\n",
       "      <td>11,688,800</td>\n",
       "    </tr>\n",
       "    <tr>\n",
       "      <th>...</th>\n",
       "      <td>...</td>\n",
       "      <td>...</td>\n",
       "      <td>...</td>\n",
       "      <td>...</td>\n",
       "      <td>...</td>\n",
       "      <td>...</td>\n",
       "    </tr>\n",
       "    <tr>\n",
       "      <th>1253</th>\n",
       "      <td>12/23/2016</td>\n",
       "      <td>790.90</td>\n",
       "      <td>792.74</td>\n",
       "      <td>787.28</td>\n",
       "      <td>789.91</td>\n",
       "      <td>623,400</td>\n",
       "    </tr>\n",
       "    <tr>\n",
       "      <th>1254</th>\n",
       "      <td>12/27/2016</td>\n",
       "      <td>790.68</td>\n",
       "      <td>797.86</td>\n",
       "      <td>787.66</td>\n",
       "      <td>791.55</td>\n",
       "      <td>789,100</td>\n",
       "    </tr>\n",
       "    <tr>\n",
       "      <th>1255</th>\n",
       "      <td>12/28/2016</td>\n",
       "      <td>793.70</td>\n",
       "      <td>794.23</td>\n",
       "      <td>783.20</td>\n",
       "      <td>785.05</td>\n",
       "      <td>1,153,800</td>\n",
       "    </tr>\n",
       "    <tr>\n",
       "      <th>1256</th>\n",
       "      <td>12/29/2016</td>\n",
       "      <td>783.33</td>\n",
       "      <td>785.93</td>\n",
       "      <td>778.92</td>\n",
       "      <td>782.79</td>\n",
       "      <td>744,300</td>\n",
       "    </tr>\n",
       "    <tr>\n",
       "      <th>1257</th>\n",
       "      <td>12/30/2016</td>\n",
       "      <td>782.75</td>\n",
       "      <td>782.78</td>\n",
       "      <td>770.41</td>\n",
       "      <td>771.82</td>\n",
       "      <td>1,770,000</td>\n",
       "    </tr>\n",
       "  </tbody>\n",
       "</table>\n",
       "<p>1258 rows × 6 columns</p>\n",
       "</div>"
      ],
      "text/plain": [
       "            Date    Open    High     Low   Close      Volume\n",
       "0       1/3/2012  325.25  332.83  324.97  663.59   7,380,500\n",
       "1       1/4/2012  331.27  333.87  329.08  666.45   5,749,400\n",
       "2       1/5/2012  329.83  330.75  326.89  657.21   6,590,300\n",
       "3       1/6/2012  328.34  328.77  323.68  648.24   5,405,900\n",
       "4       1/9/2012  322.04  322.29  309.46  620.76  11,688,800\n",
       "...          ...     ...     ...     ...     ...         ...\n",
       "1253  12/23/2016  790.90  792.74  787.28  789.91     623,400\n",
       "1254  12/27/2016  790.68  797.86  787.66  791.55     789,100\n",
       "1255  12/28/2016  793.70  794.23  783.20  785.05   1,153,800\n",
       "1256  12/29/2016  783.33  785.93  778.92  782.79     744,300\n",
       "1257  12/30/2016  782.75  782.78  770.41  771.82   1,770,000\n",
       "\n",
       "[1258 rows x 6 columns]"
      ]
     },
     "execution_count": 2,
     "metadata": {},
     "output_type": "execute_result"
    }
   ],
   "source": [
    "dataset_train = pd.read_csv('../../data/google-stock-price/Google_Stock_Price_Train.csv')\n",
    "dataset_train"
   ]
  },
  {
   "cell_type": "code",
   "execution_count": 3,
   "metadata": {},
   "outputs": [
    {
     "data": {
      "text/plain": [
       "array([[325.25],\n",
       "       [331.27],\n",
       "       [329.83],\n",
       "       ...,\n",
       "       [793.7 ],\n",
       "       [783.33],\n",
       "       [782.75]])"
      ]
     },
     "execution_count": 3,
     "metadata": {},
     "output_type": "execute_result"
    }
   ],
   "source": [
    "# create numpy array\n",
    "training_set = dataset_train.iloc[:,1:2].values\n",
    "training_set"
   ]
  },
  {
   "cell_type": "markdown",
   "metadata": {},
   "source": [
    "## Feature scaling (Normalization)"
   ]
  },
  {
   "cell_type": "code",
   "execution_count": 4,
   "metadata": {},
   "outputs": [],
   "source": [
    "from sklearn.preprocessing import MinMaxScaler\n",
    "\n",
    "scaler = MinMaxScaler(feature_range=(0,1))\n",
    "training_set_scaled = scaler.fit_transform(training_set)"
   ]
  },
  {
   "cell_type": "markdown",
   "metadata": {},
   "source": [
    "## Creating Timesteps"
   ]
  },
  {
   "cell_type": "code",
   "execution_count": 10,
   "metadata": {},
   "outputs": [
    {
     "data": {
      "text/plain": [
       "1258"
      ]
     },
     "execution_count": 10,
     "metadata": {},
     "output_type": "execute_result"
    }
   ],
   "source": [
    "training_set_scaled.shape[0]"
   ]
  },
  {
   "cell_type": "code",
   "execution_count": 17,
   "metadata": {},
   "outputs": [
    {
     "data": {
      "text/plain": [
       "array([[0.08581368],\n",
       "       [0.09701243],\n",
       "       [0.09433366],\n",
       "       ...,\n",
       "       [0.95725128],\n",
       "       [0.93796041],\n",
       "       [0.93688146]])"
      ]
     },
     "execution_count": 17,
     "metadata": {},
     "output_type": "execute_result"
    }
   ],
   "source": [
    "training_set_scaled"
   ]
  },
  {
   "cell_type": "code",
   "execution_count": 5,
   "metadata": {},
   "outputs": [],
   "source": [
    "X_train = []\n",
    "y_train = []\n",
    "\n",
    "for i in range(60, training_set_scaled.shape[0]): # from 60 days back till the end (1258)\n",
    "    X_train.append(training_set_scaled[i - 60 : i, 0])\n",
    "    y_train.append(training_set_scaled[i, 0])\n",
    "\n",
    "X_train , y_train = np.array(X_train), np.array(y_train)"
   ]
  },
  {
   "cell_type": "code",
   "execution_count": 16,
   "metadata": {},
   "outputs": [
    {
     "data": {
      "text/plain": [
       "((1198, 60), (1198,))"
      ]
     },
     "execution_count": 16,
     "metadata": {},
     "output_type": "execute_result"
    }
   ],
   "source": [
    "X_train.shape , y_train.shape"
   ]
  },
  {
   "cell_type": "markdown",
   "metadata": {},
   "source": [
    "## Reshape inputs"
   ]
  },
  {
   "cell_type": "code",
   "execution_count": 6,
   "metadata": {},
   "outputs": [],
   "source": [
    "X_train_shaped = np.reshape(X_train, (X_train.shape[0], X_train.shape[1] , 1)) # (batch_size, timesteps, number of predictors)"
   ]
  },
  {
   "cell_type": "markdown",
   "metadata": {},
   "source": [
    "# Build RNN"
   ]
  },
  {
   "cell_type": "code",
   "execution_count": 7,
   "metadata": {},
   "outputs": [],
   "source": [
    "from keras.models import Sequential\n",
    "from keras.layers import Dense\n",
    "from keras.layers import LSTM\n",
    "from keras.layers import Dropout\n",
    "from keras.layers import BatchNormalization"
   ]
  },
  {
   "cell_type": "markdown",
   "metadata": {},
   "source": [
    "## Design the model"
   ]
  },
  {
   "cell_type": "code",
   "execution_count": 8,
   "metadata": {},
   "outputs": [],
   "source": [
    "# Initilize\n",
    "regressor = Sequential()\n",
    "\n",
    "# Add layers\n",
    "regressor.add(LSTM(units=50, return_sequences=True, input_shape=(X_train_shaped.shape[1], 1))) # (shape -> (timesteps, predictors))\n",
    "regressor.add(Dropout(0.2))\n",
    "\n",
    "regressor.add(LSTM(units = 50, return_sequences = True))\n",
    "regressor.add(Dropout(0.2))\n",
    "\n",
    "regressor.add(LSTM(units = 50, return_sequences = True))\n",
    "regressor.add(Dropout(0.2))\n",
    "\n",
    "regressor.add(LSTM(units = 50))\n",
    "regressor.add(Dropout(0.2))\n",
    "\n",
    "regressor.add(Dense(units=1))\n"
   ]
  },
  {
   "cell_type": "code",
   "execution_count": 9,
   "metadata": {},
   "outputs": [
    {
     "name": "stdout",
     "output_type": "stream",
     "text": [
      "Model: \"sequential\"\n",
      "_________________________________________________________________\n",
      " Layer (type)                Output Shape              Param #   \n",
      "=================================================================\n",
      " lstm (LSTM)                 (None, 60, 50)            10400     \n",
      "                                                                 \n",
      " dropout (Dropout)           (None, 60, 50)            0         \n",
      "                                                                 \n",
      " lstm_1 (LSTM)               (None, 60, 50)            20200     \n",
      "                                                                 \n",
      " dropout_1 (Dropout)         (None, 60, 50)            0         \n",
      "                                                                 \n",
      " lstm_2 (LSTM)               (None, 60, 50)            20200     \n",
      "                                                                 \n",
      " dropout_2 (Dropout)         (None, 60, 50)            0         \n",
      "                                                                 \n",
      " lstm_3 (LSTM)               (None, 50)                20200     \n",
      "                                                                 \n",
      " dropout_3 (Dropout)         (None, 50)                0         \n",
      "                                                                 \n",
      " dense (Dense)               (None, 1)                 51        \n",
      "                                                                 \n",
      "=================================================================\n",
      "Total params: 71051 (277.54 KB)\n",
      "Trainable params: 71051 (277.54 KB)\n",
      "Non-trainable params: 0 (0.00 Byte)\n",
      "_________________________________________________________________\n"
     ]
    }
   ],
   "source": [
    "regressor.summary()"
   ]
  },
  {
   "cell_type": "markdown",
   "metadata": {},
   "source": [
    "## Compile the model"
   ]
  },
  {
   "cell_type": "code",
   "execution_count": 12,
   "metadata": {},
   "outputs": [],
   "source": [
    "regressor.compile(optimizer = 'adam', loss = 'mean_squared_error')"
   ]
  },
  {
   "cell_type": "markdown",
   "metadata": {},
   "source": [
    "## Train the model"
   ]
  },
  {
   "cell_type": "code",
   "execution_count": 13,
   "metadata": {},
   "outputs": [
    {
     "name": "stdout",
     "output_type": "stream",
     "text": [
      "Epoch 1/100\n"
     ]
    },
    {
     "name": "stdout",
     "output_type": "stream",
     "text": [
      "38/38 [==============================] - 8s 64ms/step - loss: 0.0418\n",
      "Epoch 2/100\n",
      "38/38 [==============================] - 3s 71ms/step - loss: 0.0074\n",
      "Epoch 3/100\n",
      "38/38 [==============================] - 3s 75ms/step - loss: 0.0056\n",
      "Epoch 4/100\n",
      "38/38 [==============================] - 3s 86ms/step - loss: 0.0055\n",
      "Epoch 5/100\n",
      "38/38 [==============================] - 4s 93ms/step - loss: 0.0055\n",
      "Epoch 6/100\n",
      "38/38 [==============================] - 3s 89ms/step - loss: 0.0055\n",
      "Epoch 7/100\n",
      "38/38 [==============================] - 4s 96ms/step - loss: 0.0050\n",
      "Epoch 8/100\n",
      "38/38 [==============================] - 3s 92ms/step - loss: 0.0045\n",
      "Epoch 9/100\n",
      "38/38 [==============================] - 3s 91ms/step - loss: 0.0052\n",
      "Epoch 10/100\n",
      "38/38 [==============================] - 3s 92ms/step - loss: 0.0046\n",
      "Epoch 11/100\n",
      "38/38 [==============================] - 4s 100ms/step - loss: 0.0045\n",
      "Epoch 12/100\n",
      "38/38 [==============================] - 4s 99ms/step - loss: 0.0044\n",
      "Epoch 13/100\n",
      "38/38 [==============================] - 4s 96ms/step - loss: 0.0039\n",
      "Epoch 14/100\n",
      "38/38 [==============================] - 4s 94ms/step - loss: 0.0037\n",
      "Epoch 15/100\n",
      "38/38 [==============================] - 4s 98ms/step - loss: 0.0038\n",
      "Epoch 16/100\n",
      "38/38 [==============================] - 4s 94ms/step - loss: 0.0036\n",
      "Epoch 17/100\n",
      "38/38 [==============================] - 4s 96ms/step - loss: 0.0040\n",
      "Epoch 18/100\n",
      "38/38 [==============================] - 4s 107ms/step - loss: 0.0039\n",
      "Epoch 19/100\n",
      "38/38 [==============================] - 4s 106ms/step - loss: 0.0040\n",
      "Epoch 20/100\n",
      "38/38 [==============================] - 4s 114ms/step - loss: 0.0037\n",
      "Epoch 21/100\n",
      "38/38 [==============================] - 4s 101ms/step - loss: 0.0036\n",
      "Epoch 22/100\n",
      "38/38 [==============================] - 4s 107ms/step - loss: 0.0039\n",
      "Epoch 23/100\n",
      "38/38 [==============================] - 4s 99ms/step - loss: 0.0036\n",
      "Epoch 24/100\n",
      "38/38 [==============================] - 4s 99ms/step - loss: 0.0030\n",
      "Epoch 25/100\n",
      "38/38 [==============================] - 4s 116ms/step - loss: 0.0039\n",
      "Epoch 26/100\n",
      "38/38 [==============================] - 4s 119ms/step - loss: 0.0031\n",
      "Epoch 27/100\n",
      "38/38 [==============================] - 5s 121ms/step - loss: 0.0033\n",
      "Epoch 28/100\n",
      "38/38 [==============================] - 4s 104ms/step - loss: 0.0031\n",
      "Epoch 29/100\n",
      "38/38 [==============================] - 4s 118ms/step - loss: 0.0031\n",
      "Epoch 30/100\n",
      "38/38 [==============================] - 4s 104ms/step - loss: 0.0032\n",
      "Epoch 31/100\n",
      "38/38 [==============================] - 4s 106ms/step - loss: 0.0028\n",
      "Epoch 32/100\n",
      "38/38 [==============================] - 4s 111ms/step - loss: 0.0028\n",
      "Epoch 33/100\n",
      "38/38 [==============================] - 4s 111ms/step - loss: 0.0032\n",
      "Epoch 34/100\n",
      "38/38 [==============================] - 4s 102ms/step - loss: 0.0031\n",
      "Epoch 35/100\n",
      "38/38 [==============================] - 4s 103ms/step - loss: 0.0027\n",
      "Epoch 36/100\n",
      "38/38 [==============================] - 4s 93ms/step - loss: 0.0029\n",
      "Epoch 37/100\n",
      "38/38 [==============================] - 4s 97ms/step - loss: 0.0029\n",
      "Epoch 38/100\n",
      "38/38 [==============================] - 4s 97ms/step - loss: 0.0028\n",
      "Epoch 39/100\n",
      "38/38 [==============================] - 4s 100ms/step - loss: 0.0026\n",
      "Epoch 40/100\n",
      "38/38 [==============================] - 4s 96ms/step - loss: 0.0025\n",
      "Epoch 41/100\n",
      "38/38 [==============================] - 4s 103ms/step - loss: 0.0027\n",
      "Epoch 42/100\n",
      "38/38 [==============================] - 4s 110ms/step - loss: 0.0026\n",
      "Epoch 43/100\n",
      "38/38 [==============================] - 4s 98ms/step - loss: 0.0025\n",
      "Epoch 44/100\n",
      "38/38 [==============================] - 4s 97ms/step - loss: 0.0023\n",
      "Epoch 45/100\n",
      "38/38 [==============================] - 4s 98ms/step - loss: 0.0030\n",
      "Epoch 46/100\n",
      "38/38 [==============================] - 4s 95ms/step - loss: 0.0025\n",
      "Epoch 47/100\n",
      "38/38 [==============================] - 4s 97ms/step - loss: 0.0025\n",
      "Epoch 48/100\n",
      "38/38 [==============================] - 4s 97ms/step - loss: 0.0023\n",
      "Epoch 49/100\n",
      "38/38 [==============================] - 4s 94ms/step - loss: 0.0024\n",
      "Epoch 50/100\n",
      "38/38 [==============================] - 4s 98ms/step - loss: 0.0024\n",
      "Epoch 51/100\n",
      "38/38 [==============================] - 4s 99ms/step - loss: 0.0022\n",
      "Epoch 52/100\n",
      "38/38 [==============================] - 4s 97ms/step - loss: 0.0024\n",
      "Epoch 53/100\n",
      "38/38 [==============================] - 4s 96ms/step - loss: 0.0026\n",
      "Epoch 54/100\n",
      "38/38 [==============================] - 4s 101ms/step - loss: 0.0023\n",
      "Epoch 55/100\n",
      "38/38 [==============================] - 4s 103ms/step - loss: 0.0027\n",
      "Epoch 56/100\n",
      "38/38 [==============================] - 4s 103ms/step - loss: 0.0024\n",
      "Epoch 57/100\n",
      "38/38 [==============================] - 4s 116ms/step - loss: 0.0021\n",
      "Epoch 58/100\n",
      "38/38 [==============================] - 4s 109ms/step - loss: 0.0024\n",
      "Epoch 59/100\n",
      "38/38 [==============================] - 4s 96ms/step - loss: 0.0023\n",
      "Epoch 60/100\n",
      "38/38 [==============================] - 4s 100ms/step - loss: 0.0020\n",
      "Epoch 61/100\n",
      "38/38 [==============================] - 4s 103ms/step - loss: 0.0020\n",
      "Epoch 62/100\n",
      "38/38 [==============================] - 4s 101ms/step - loss: 0.0022\n",
      "Epoch 63/100\n",
      "38/38 [==============================] - 4s 107ms/step - loss: 0.0020\n",
      "Epoch 64/100\n",
      "38/38 [==============================] - 4s 101ms/step - loss: 0.0021\n",
      "Epoch 65/100\n",
      "38/38 [==============================] - 4s 100ms/step - loss: 0.0019\n",
      "Epoch 66/100\n",
      "38/38 [==============================] - 4s 98ms/step - loss: 0.0018\n",
      "Epoch 67/100\n",
      "38/38 [==============================] - 4s 104ms/step - loss: 0.0018\n",
      "Epoch 68/100\n",
      "38/38 [==============================] - 4s 110ms/step - loss: 0.0019\n",
      "Epoch 69/100\n",
      "38/38 [==============================] - 4s 105ms/step - loss: 0.0018\n",
      "Epoch 70/100\n",
      "38/38 [==============================] - 4s 99ms/step - loss: 0.0018\n",
      "Epoch 71/100\n",
      "38/38 [==============================] - 4s 100ms/step - loss: 0.0018\n",
      "Epoch 72/100\n",
      "38/38 [==============================] - 4s 103ms/step - loss: 0.0016\n",
      "Epoch 73/100\n",
      "38/38 [==============================] - 4s 114ms/step - loss: 0.0020\n",
      "Epoch 74/100\n",
      "38/38 [==============================] - 4s 104ms/step - loss: 0.0019\n",
      "Epoch 75/100\n",
      "38/38 [==============================] - 4s 103ms/step - loss: 0.0017\n",
      "Epoch 76/100\n",
      "38/38 [==============================] - 4s 101ms/step - loss: 0.0016\n",
      "Epoch 77/100\n",
      "38/38 [==============================] - 4s 99ms/step - loss: 0.0015\n",
      "Epoch 78/100\n",
      "38/38 [==============================] - 4s 109ms/step - loss: 0.0017\n",
      "Epoch 79/100\n",
      "38/38 [==============================] - 4s 106ms/step - loss: 0.0016\n",
      "Epoch 80/100\n",
      "38/38 [==============================] - 4s 100ms/step - loss: 0.0018\n",
      "Epoch 81/100\n",
      "38/38 [==============================] - 4s 101ms/step - loss: 0.0016\n",
      "Epoch 82/100\n",
      "38/38 [==============================] - 4s 97ms/step - loss: 0.0016\n",
      "Epoch 83/100\n",
      "38/38 [==============================] - 4s 100ms/step - loss: 0.0018\n",
      "Epoch 84/100\n",
      "38/38 [==============================] - 4s 96ms/step - loss: 0.0017\n",
      "Epoch 85/100\n",
      "38/38 [==============================] - 4s 99ms/step - loss: 0.0017\n",
      "Epoch 86/100\n",
      "38/38 [==============================] - 4s 99ms/step - loss: 0.0018\n",
      "Epoch 87/100\n",
      "38/38 [==============================] - 4s 99ms/step - loss: 0.0016\n",
      "Epoch 88/100\n",
      "38/38 [==============================] - 4s 115ms/step - loss: 0.0016\n",
      "Epoch 89/100\n",
      "38/38 [==============================] - 4s 107ms/step - loss: 0.0015\n",
      "Epoch 90/100\n",
      "38/38 [==============================] - 4s 97ms/step - loss: 0.0016\n",
      "Epoch 91/100\n",
      "38/38 [==============================] - 4s 97ms/step - loss: 0.0015\n",
      "Epoch 92/100\n",
      "38/38 [==============================] - 4s 94ms/step - loss: 0.0016\n",
      "Epoch 93/100\n",
      "38/38 [==============================] - 4s 97ms/step - loss: 0.0015\n",
      "Epoch 94/100\n",
      "38/38 [==============================] - 4s 95ms/step - loss: 0.0014\n",
      "Epoch 95/100\n",
      "38/38 [==============================] - 4s 95ms/step - loss: 0.0015\n",
      "Epoch 96/100\n",
      "38/38 [==============================] - 4s 96ms/step - loss: 0.0016\n",
      "Epoch 97/100\n",
      "38/38 [==============================] - 4s 98ms/step - loss: 0.0014\n",
      "Epoch 98/100\n",
      "38/38 [==============================] - 4s 97ms/step - loss: 0.0016\n",
      "Epoch 99/100\n",
      "38/38 [==============================] - 4s 97ms/step - loss: 0.0014\n",
      "Epoch 100/100\n",
      "38/38 [==============================] - 4s 96ms/step - loss: 0.0013\n"
     ]
    },
    {
     "data": {
      "text/plain": [
       "<keras.src.callbacks.History at 0x1b4db00d420>"
      ]
     },
     "execution_count": 13,
     "metadata": {},
     "output_type": "execute_result"
    }
   ],
   "source": [
    "regressor.fit(X_train_shaped, y_train, epochs = 100, batch_size = 32)"
   ]
  },
  {
   "cell_type": "markdown",
   "metadata": {},
   "source": [
    "# Make Predictions"
   ]
  },
  {
   "cell_type": "markdown",
   "metadata": {},
   "source": [
    "## Read test data"
   ]
  },
  {
   "cell_type": "code",
   "execution_count": 17,
   "metadata": {},
   "outputs": [],
   "source": [
    "dataset_test = pd.read_csv('../../data/google-stock-price/Google_Stock_Price_Test.csv')\n",
    "real_stock_data = dataset_test.iloc[:,1:2].values # real google stock price"
   ]
  },
  {
   "cell_type": "markdown",
   "metadata": {},
   "source": [
    "## Preprocess test data"
   ]
  },
  {
   "cell_type": "code",
   "execution_count": 20,
   "metadata": {},
   "outputs": [
    {
     "data": {
      "text/plain": [
       "array([[0.93113327],\n",
       "       [0.92750577],\n",
       "       [0.94415507],\n",
       "       [0.93876032],\n",
       "       [0.93403527],\n",
       "       [0.93483518],\n",
       "       [0.9313937 ],\n",
       "       [0.94636878],\n",
       "       [0.96569685]])"
      ]
     },
     "execution_count": 20,
     "metadata": {},
     "output_type": "execute_result"
    }
   ],
   "source": [
    "dataset_total = pd.concat((dataset_train['Open'], dataset_test['Open']), axis = 0)\n",
    "inputs = dataset_total[len(dataset_total) - len(dataset_test) - 60:].values\n",
    "\n",
    "inputs = inputs.reshape(-1,1)\n",
    "inputs = scaler.transform(inputs)\n",
    "\n",
    "# dummy\n",
    "inputs[1:10]"
   ]
  },
  {
   "cell_type": "code",
   "execution_count": 21,
   "metadata": {},
   "outputs": [],
   "source": [
    "X_test = []\n",
    "for i in range(60, 80):\n",
    "    X_test.append(inputs[i-60:i, 0])\n",
    "X_test = np.array(X_test)\n",
    "X_test = np.reshape(X_test, (X_test.shape[0], X_test.shape[1], 1))"
   ]
  },
  {
   "cell_type": "markdown",
   "metadata": {},
   "source": [
    "## Run Prediction"
   ]
  },
  {
   "cell_type": "code",
   "execution_count": 22,
   "metadata": {},
   "outputs": [
    {
     "name": "stdout",
     "output_type": "stream",
     "text": [
      "1/1 [==============================] - 1s 1s/step\n"
     ]
    }
   ],
   "source": [
    "predicted_stock_price = regressor.predict(X_test)"
   ]
  },
  {
   "cell_type": "code",
   "execution_count": 23,
   "metadata": {},
   "outputs": [],
   "source": [
    "# inverse transform to remove scaling\n",
    "predicted_stock_price = scaler.inverse_transform(predicted_stock_price)"
   ]
  },
  {
   "cell_type": "code",
   "execution_count": 26,
   "metadata": {},
   "outputs": [
    {
     "data": {
      "text/plain": [
       "((20, 1), (20, 1))"
      ]
     },
     "execution_count": 26,
     "metadata": {},
     "output_type": "execute_result"
    }
   ],
   "source": [
    "predicted_stock_price.shape, real_stock_data.shape"
   ]
  },
  {
   "cell_type": "markdown",
   "metadata": {},
   "source": [
    "# Visualize op"
   ]
  },
  {
   "cell_type": "code",
   "execution_count": 28,
   "metadata": {},
   "outputs": [
    {
     "data": {
      "image/png": "[encoded data removed]",
      "text/plain": [
       "<Figure size 640x480 with 1 Axes>"
      ]
     },
     "metadata": {},
     "output_type": "display_data"
    }
   ],
   "source": [
    "plt.plot(real_stock_data, color='red', label='Real Stock Price')\n",
    "plt.plot(predicted_stock_price, color='blue', label='Predicted Stock Price')\n",
    "plt.title('Google Stock Price Prediction')\n",
    "plt.xlabel('Time')\n",
    "plt.ylabel('Google Stock Price')\n",
    "plt.legend()\n",
    "plt.grid()\n",
    "plt.show()"
   ]
  },
  {
   "cell_type": "code",
   "execution_count": null,
   "metadata": {},
   "outputs": [],
   "source": []
  }
 ],
 "metadata": {
  "kernelspec": {
   "display_name": ".venv",
   "language": "python",
   "name": "python3"
  },
  "language_info": {
   "codemirror_mode": {
    "name": "ipython",
    "version": 3
   },
   "file_extension": ".py",
   "mimetype": "text/x-python",
   "name": "python",
   "nbconvert_exporter": "python",
   "pygments_lexer": "ipython3",
   "version": "3.10.11"
  }
 },
 "nbformat": 4,
 "nbformat_minor": 2
}
