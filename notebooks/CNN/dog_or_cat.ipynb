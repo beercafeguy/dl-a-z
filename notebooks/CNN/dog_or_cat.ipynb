{
 "cells": [
  {
   "cell_type": "markdown",
   "metadata": {},
   "source": [
    "# import libs"
   ]
  },
  {
   "cell_type": "code",
   "execution_count": 2,
   "metadata": {},
   "outputs": [],
   "source": [
    "import tensorflow as tf\n",
    "\n",
    "from keras.preprocessing.image import ImageDataGenerator"
   ]
  },
  {
   "cell_type": "code",
   "execution_count": 3,
   "metadata": {},
   "outputs": [
    {
     "data": {
      "text/plain": [
       "'2.14.0'"
      ]
     },
     "execution_count": 3,
     "metadata": {},
     "output_type": "execute_result"
    }
   ],
   "source": [
    "tf.__version__"
   ]
  },
  {
   "cell_type": "markdown",
   "metadata": {},
   "source": [
    "# Data Processing"
   ]
  },
  {
   "cell_type": "markdown",
   "metadata": {},
   "source": [
    "## Image augmentation"
   ]
  },
  {
   "cell_type": "code",
   "execution_count": 11,
   "metadata": {},
   "outputs": [
    {
     "name": "stdout",
     "output_type": "stream",
     "text": [
      "Found 8000 images belonging to 2 classes.\n"
     ]
    }
   ],
   "source": [
    "data_loc_base = \"../../data/cnn_cat_vs_dogs\"\n",
    "\n",
    "\n",
    "train_datagen = ImageDataGenerator(\n",
    "    rescale=1.0/255,\n",
    "    shear_range=0.2,\n",
    "    zoom_range=0.2,\n",
    "    horizontal_flip=True\n",
    ")\n",
    "\n",
    "training_set = train_datagen.flow_from_directory(\n",
    "    f\"{data_loc_base}/training_set\",\n",
    "    target_size=(64,64),\n",
    "    batch_size= 32,\n",
    "    class_mode= 'binary'\n",
    ")"
   ]
  },
  {
   "cell_type": "code",
   "execution_count": 12,
   "metadata": {},
   "outputs": [
    {
     "name": "stdout",
     "output_type": "stream",
     "text": [
      "Found 2000 images belonging to 2 classes.\n"
     ]
    }
   ],
   "source": [
    "test_datagen = ImageDataGenerator(rescale=1.0/255)\n",
    "test_set = test_datagen.flow_from_directory(\n",
    "    f\"{data_loc_base}/test_set\",\n",
    "    target_size=(64,64),\n",
    "    batch_size= 32,\n",
    "    class_mode= 'binary'\n",
    ")"
   ]
  },
  {
   "cell_type": "markdown",
   "metadata": {},
   "source": [
    "#  Building the CNN"
   ]
  },
  {
   "cell_type": "code",
   "execution_count": 13,
   "metadata": {},
   "outputs": [],
   "source": [
    "cnn = tf.keras.models.Sequential()"
   ]
  },
  {
   "cell_type": "markdown",
   "metadata": {},
   "source": [
    "## Convolution"
   ]
  },
  {
   "cell_type": "code",
   "execution_count": 14,
   "metadata": {},
   "outputs": [],
   "source": [
    "cnn.add(tf.keras.layers.Conv2D(filters=32, kernel_size=3, activation='relu', input_shape=[64, 64, 3]))"
   ]
  },
  {
   "cell_type": "markdown",
   "metadata": {},
   "source": [
    "## Pooling"
   ]
  },
  {
   "cell_type": "code",
   "execution_count": 15,
   "metadata": {},
   "outputs": [],
   "source": [
    "cnn.add(tf.keras.layers.MaxPool2D(pool_size=2, strides=2))"
   ]
  },
  {
   "cell_type": "markdown",
   "metadata": {},
   "source": [
    "## Another convolution"
   ]
  },
  {
   "cell_type": "code",
   "execution_count": 16,
   "metadata": {},
   "outputs": [],
   "source": [
    "cnn.add(tf.keras.layers.Conv2D(filters=32, kernel_size=3, activation='relu'))"
   ]
  },
  {
   "cell_type": "markdown",
   "metadata": {},
   "source": [
    "## Another pooling"
   ]
  },
  {
   "cell_type": "code",
   "execution_count": 17,
   "metadata": {},
   "outputs": [],
   "source": [
    "cnn.add(tf.keras.layers.MaxPool2D(pool_size=2, strides=2))"
   ]
  },
  {
   "cell_type": "markdown",
   "metadata": {},
   "source": [
    "## Flattening"
   ]
  },
  {
   "cell_type": "code",
   "execution_count": 18,
   "metadata": {},
   "outputs": [],
   "source": [
    "cnn.add(tf.keras.layers.Flatten())"
   ]
  },
  {
   "cell_type": "markdown",
   "metadata": {},
   "source": [
    "## Full Connection"
   ]
  },
  {
   "cell_type": "code",
   "execution_count": 19,
   "metadata": {},
   "outputs": [],
   "source": [
    "cnn.add(tf.keras.layers.Dense(units=128, activation='relu'))"
   ]
  },
  {
   "cell_type": "markdown",
   "metadata": {},
   "source": [
    "## Output layer"
   ]
  },
  {
   "cell_type": "code",
   "execution_count": 20,
   "metadata": {},
   "outputs": [],
   "source": [
    "cnn.add(tf.keras.layers.Dense(1, activation='sigmoid'))"
   ]
  },
  {
   "cell_type": "markdown",
   "metadata": {},
   "source": [
    "# Training the CNN"
   ]
  },
  {
   "cell_type": "markdown",
   "metadata": {},
   "source": [
    "## Compile Model"
   ]
  },
  {
   "cell_type": "code",
   "execution_count": 21,
   "metadata": {},
   "outputs": [],
   "source": [
    "cnn.compile(\n",
    "    optimizer=tf.keras.optimizers.Adam(),\n",
    "    loss = tf.keras.losses.BinaryCrossentropy(),\n",
    "    metrics= [ \n",
    "        tf.keras.metrics.Accuracy(), \n",
    "        tf.keras.metrics.AUC(), \n",
    "        #tf.keras.metrics.PrecisionAtRecall(recall=0.05), \n",
    "        #tf.keras.metrics.F1Score()\n",
    "        ]\n",
    ")"
   ]
  },
  {
   "cell_type": "markdown",
   "metadata": {},
   "source": [
    "## Training and validation"
   ]
  },
  {
   "cell_type": "code",
   "execution_count": 22,
   "metadata": {},
   "outputs": [
    {
     "name": "stdout",
     "output_type": "stream",
     "text": [
      "Epoch 1/25\n",
      "250/250 [==============================] - 55s 214ms/step - loss: 0.6726 - accuracy: 0.0000e+00 - auc: 0.6188 - val_loss: 0.6309 - val_accuracy: 0.0000e+00 - val_auc: 0.7038\n",
      "Epoch 2/25\n",
      "250/250 [==============================] - 34s 137ms/step - loss: 0.6186 - accuracy: 0.0000e+00 - auc: 0.7176 - val_loss: 0.5998 - val_accuracy: 0.0000e+00 - val_auc: 0.7700\n",
      "Epoch 3/25\n",
      "250/250 [==============================] - 37s 149ms/step - loss: 0.5802 - accuracy: 0.0000e+00 - auc: 0.7645 - val_loss: 0.5368 - val_accuracy: 0.0000e+00 - val_auc: 0.8170\n",
      "Epoch 4/25\n",
      "250/250 [==============================] - 44s 174ms/step - loss: 0.5502 - accuracy: 0.0000e+00 - auc: 0.7933 - val_loss: 0.5397 - val_accuracy: 0.0000e+00 - val_auc: 0.8265\n",
      "Epoch 5/25\n",
      "250/250 [==============================] - 42s 169ms/step - loss: 0.5266 - accuracy: 0.0000e+00 - auc: 0.8141 - val_loss: 0.5116 - val_accuracy: 0.0000e+00 - val_auc: 0.8417\n",
      "Epoch 6/25\n",
      "250/250 [==============================] - 40s 162ms/step - loss: 0.5082 - accuracy: 0.0000e+00 - auc: 0.8298 - val_loss: 0.5281 - val_accuracy: 0.0000e+00 - val_auc: 0.8530\n",
      "Epoch 7/25\n",
      "250/250 [==============================] - 41s 165ms/step - loss: 0.4782 - accuracy: 0.0000e+00 - auc: 0.8528 - val_loss: 0.4944 - val_accuracy: 0.0000e+00 - val_auc: 0.8489\n",
      "Epoch 8/25\n",
      "250/250 [==============================] - 39s 157ms/step - loss: 0.4714 - accuracy: 0.0000e+00 - auc: 0.8563 - val_loss: 0.4793 - val_accuracy: 0.0000e+00 - val_auc: 0.8579\n",
      "Epoch 9/25\n",
      "250/250 [==============================] - 40s 161ms/step - loss: 0.4555 - accuracy: 0.0000e+00 - auc: 0.8666 - val_loss: 0.4964 - val_accuracy: 0.0000e+00 - val_auc: 0.8539\n",
      "Epoch 10/25\n",
      "250/250 [==============================] - 40s 162ms/step - loss: 0.4445 - accuracy: 0.0000e+00 - auc: 0.8737 - val_loss: 0.4797 - val_accuracy: 0.0000e+00 - val_auc: 0.8545\n",
      "Epoch 11/25\n",
      "250/250 [==============================] - 48s 192ms/step - loss: 0.4363 - accuracy: 0.0000e+00 - auc: 0.8792 - val_loss: 0.4819 - val_accuracy: 0.0000e+00 - val_auc: 0.8585\n",
      "Epoch 12/25\n",
      "250/250 [==============================] - 54s 215ms/step - loss: 0.4255 - accuracy: 0.0000e+00 - auc: 0.8849 - val_loss: 0.4687 - val_accuracy: 0.0000e+00 - val_auc: 0.8615\n",
      "Epoch 13/25\n",
      "250/250 [==============================] - 40s 158ms/step - loss: 0.4147 - accuracy: 0.0000e+00 - auc: 0.8915 - val_loss: 0.4697 - val_accuracy: 0.0000e+00 - val_auc: 0.8633\n",
      "Epoch 14/25\n",
      "250/250 [==============================] - 41s 162ms/step - loss: 0.4012 - accuracy: 0.0000e+00 - auc: 0.8993 - val_loss: 0.5117 - val_accuracy: 0.0000e+00 - val_auc: 0.8692\n",
      "Epoch 15/25\n",
      "250/250 [==============================] - 43s 173ms/step - loss: 0.3937 - accuracy: 0.0000e+00 - auc: 0.9027 - val_loss: 0.5439 - val_accuracy: 0.0000e+00 - val_auc: 0.8657\n",
      "Epoch 16/25\n",
      "250/250 [==============================] - 44s 176ms/step - loss: 0.3810 - accuracy: 0.0000e+00 - auc: 0.9094 - val_loss: 0.4869 - val_accuracy: 0.0000e+00 - val_auc: 0.8650\n",
      "Epoch 17/25\n",
      "250/250 [==============================] - 41s 166ms/step - loss: 0.3704 - accuracy: 0.0000e+00 - auc: 0.9149 - val_loss: 0.5145 - val_accuracy: 0.0000e+00 - val_auc: 0.8655\n",
      "Epoch 18/25\n",
      "250/250 [==============================] - 41s 164ms/step - loss: 0.3514 - accuracy: 0.0000e+00 - auc: 0.9243 - val_loss: 0.5174 - val_accuracy: 0.0000e+00 - val_auc: 0.8753\n",
      "Epoch 19/25\n",
      "250/250 [==============================] - 40s 160ms/step - loss: 0.3429 - accuracy: 0.0000e+00 - auc: 0.9278 - val_loss: 0.5468 - val_accuracy: 0.0000e+00 - val_auc: 0.8652\n",
      "Epoch 20/25\n",
      "250/250 [==============================] - 39s 155ms/step - loss: 0.3322 - accuracy: 0.0000e+00 - auc: 0.9324 - val_loss: 0.4870 - val_accuracy: 0.0000e+00 - val_auc: 0.8694\n",
      "Epoch 21/25\n",
      "250/250 [==============================] - 41s 162ms/step - loss: 0.3162 - accuracy: 1.2500e-04 - auc: 0.9392 - val_loss: 0.5130 - val_accuracy: 0.0000e+00 - val_auc: 0.8732\n",
      "Epoch 22/25\n",
      "250/250 [==============================] - 37s 149ms/step - loss: 0.3071 - accuracy: 0.0000e+00 - auc: 0.9424 - val_loss: 0.4936 - val_accuracy: 0.0000e+00 - val_auc: 0.8710\n",
      "Epoch 23/25\n",
      "250/250 [==============================] - 39s 155ms/step - loss: 0.2964 - accuracy: 0.0000e+00 - auc: 0.9467 - val_loss: 0.4878 - val_accuracy: 0.0000e+00 - val_auc: 0.8745\n",
      "Epoch 24/25\n",
      "250/250 [==============================] - 43s 172ms/step - loss: 0.2859 - accuracy: 0.0000e+00 - auc: 0.9507 - val_loss: 0.5161 - val_accuracy: 0.0000e+00 - val_auc: 0.8698\n",
      "Epoch 25/25\n",
      "250/250 [==============================] - 49s 198ms/step - loss: 0.2730 - accuracy: 1.2500e-04 - auc: 0.9550 - val_loss: 0.5307 - val_accuracy: 0.0000e+00 - val_auc: 0.8739\n"
     ]
    },
    {
     "data": {
      "text/plain": [
       "<keras.src.callbacks.History at 0x16c1b9d4160>"
      ]
     },
     "execution_count": 22,
     "metadata": {},
     "output_type": "execute_result"
    }
   ],
   "source": [
    "callback_es = tf.keras.callbacks.EarlyStopping(monitor = 'val_loss', patience=5, restore_best_weights=True)\n",
    "cnn.fit(x = training_set, validation_data = test_set, epochs = 25, callbacks=[callback_es])"
   ]
  },
  {
   "cell_type": "markdown",
   "metadata": {},
   "source": [
    "# Making Predictions"
   ]
  },
  {
   "cell_type": "code",
   "execution_count": 24,
   "metadata": {},
   "outputs": [
    {
     "data": {
      "image/jpeg": "[encoded data removed]",
      "image/png": "[encoded data removed]",
      "text/plain": [
       "<PIL.Image.Image image mode=RGB size=64x64>"
      ]
     },
     "execution_count": 24,
     "metadata": {},
     "output_type": "execute_result"
    }
   ],
   "source": [
    "import numpy as np\n",
    "\n",
    "from keras.preprocessing import image\n",
    "\n",
    "test_img = image.load_img('../../data/cnn_cat_vs_dogs/single_prediction/cat_or_dog_1.jpg', target_size=(64,64))\n",
    "test_img"
   ]
  },
  {
   "cell_type": "markdown",
   "metadata": {},
   "source": [
    "## Convert image to array"
   ]
  },
  {
   "cell_type": "code",
   "execution_count": 25,
   "metadata": {},
   "outputs": [],
   "source": [
    "test_img_array = image.img_to_array(test_img)"
   ]
  },
  {
   "cell_type": "markdown",
   "metadata": {},
   "source": [
    "## Scale Input Image"
   ]
  },
  {
   "cell_type": "code",
   "execution_count": 28,
   "metadata": {},
   "outputs": [],
   "source": [
    "test_img_scaled = test_img_array / 255.0"
   ]
  },
  {
   "cell_type": "code",
   "execution_count": 30,
   "metadata": {},
   "outputs": [],
   "source": [
    "test_img_batch = np.expand_dims(test_img_scaled, axis=0)"
   ]
  },
  {
   "cell_type": "code",
   "execution_count": 31,
   "metadata": {},
   "outputs": [
    {
     "name": "stdout",
     "output_type": "stream",
     "text": [
      "1/1 [==============================] - 0s 135ms/step\n"
     ]
    }
   ],
   "source": [
    "result = cnn.predict(test_img_batch)"
   ]
  },
  {
   "cell_type": "code",
   "execution_count": 33,
   "metadata": {},
   "outputs": [
    {
     "name": "stdout",
     "output_type": "stream",
     "text": [
      "This is a DOG\n"
     ]
    }
   ],
   "source": [
    "if result[0][0] > 0.5:\n",
    "    print(\"This is a DOG\")\n",
    "else:\n",
    "    print(\"This is a cat\")"
   ]
  },
  {
   "cell_type": "markdown",
   "metadata": {},
   "source": [
    "## One more test\n",
    "\n"
   ]
  },
  {
   "cell_type": "code",
   "execution_count": 34,
   "metadata": {},
   "outputs": [
    {
     "data": {
      "image/jpeg": "[encoded data removed]",
      "image/png": "[encoded data removed]",
      "text/plain": [
       "<PIL.Image.Image image mode=RGB size=64x64>"
      ]
     },
     "execution_count": 34,
     "metadata": {},
     "output_type": "execute_result"
    }
   ],
   "source": [
    "import numpy as np\n",
    "\n",
    "from keras.preprocessing import image\n",
    "\n",
    "test_img = image.load_img('../../data/cnn_cat_vs_dogs/single_prediction/cat_or_dog_2.jpg', target_size=(64,64))\n",
    "test_img"
   ]
  },
  {
   "cell_type": "code",
   "execution_count": 37,
   "metadata": {},
   "outputs": [
    {
     "name": "stdout",
     "output_type": "stream",
     "text": [
      "1/1 [==============================] - 0s 40ms/step\n",
      "This is a cat with probablilty : 0.9208823293447495\n"
     ]
    }
   ],
   "source": [
    "test_img_array = image.img_to_array(test_img)\n",
    "test_img_scaled = test_img_array / 255.0\n",
    "test_img_batch = np.expand_dims(test_img_scaled, axis=0)\n",
    "result = cnn.predict(test_img_batch)\n",
    "\n",
    "if result[0][0] > 0.5:\n",
    "    print(f\"This is a DOG with probablilty : {result[0][0]}\")\n",
    "else:\n",
    "    print(f\"This is a cat with probablilty : {1 - result[0][0]}\")"
   ]
  },
  {
   "cell_type": "code",
   "execution_count": null,
   "metadata": {},
   "outputs": [],
   "source": []
  }
 ],
 "metadata": {
  "kernelspec": {
   "display_name": ".venv",
   "language": "python",
   "name": "python3"
  },
  "language_info": {
   "codemirror_mode": {
    "name": "ipython",
    "version": 3
   },
   "file_extension": ".py",
   "mimetype": "text/x-python",
   "name": "python",
   "nbconvert_exporter": "python",
   "pygments_lexer": "ipython3",
   "version": "3.10.11"
  }
 },
 "nbformat": 4,
 "nbformat_minor": 2
}
