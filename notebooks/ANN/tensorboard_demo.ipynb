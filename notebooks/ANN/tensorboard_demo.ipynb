{
 "cells": [
  {
   "cell_type": "markdown",
   "metadata": {},
   "source": [
    "# Import Data"
   ]
  },
  {
   "cell_type": "code",
   "execution_count": 1,
   "metadata": {},
   "outputs": [],
   "source": [
    "import pandas as pd\n",
    "import numpy as np\n",
    "import matplotlib.pyplot as plt\n",
    "\n",
    "\n",
    "import tensorflow as tf\n",
    "import tensorflow.keras as keras"
   ]
  },
  {
   "cell_type": "code",
   "execution_count": 2,
   "metadata": {},
   "outputs": [],
   "source": [
    "from sklearn.datasets import fetch_california_housing\n",
    "from sklearn.metrics import mean_squared_error\n",
    "from sklearn.model_selection import train_test_split\n",
    "from sklearn.preprocessing import StandardScaler"
   ]
  },
  {
   "cell_type": "code",
   "execution_count": 3,
   "metadata": {},
   "outputs": [],
   "source": [
    "housing_data = fetch_california_housing()\n",
    "X = housing_data.data\n",
    "y = housing_data.target"
   ]
  },
  {
   "cell_type": "code",
   "execution_count": 4,
   "metadata": {},
   "outputs": [
    {
     "name": "stdout",
     "output_type": "stream",
     "text": [
      "[[ 8.30140000e+00  2.10000000e+01  6.23813708e+00  9.71880492e-01\n",
      "   2.40100000e+03  2.10984183e+00  3.78600000e+01 -1.22220000e+02]\n",
      " [ 7.25740000e+00  5.20000000e+01  8.28813559e+00  1.07344633e+00\n",
      "   4.96000000e+02  2.80225989e+00  3.78500000e+01 -1.22240000e+02]]\n",
      "[3.585 3.521]\n"
     ]
    }
   ],
   "source": [
    "print(X[1:3])\n",
    "print(y[1:3])"
   ]
  },
  {
   "cell_type": "code",
   "execution_count": 5,
   "metadata": {},
   "outputs": [
    {
     "data": {
      "text/plain": [
       "['MedInc',\n",
       " 'HouseAge',\n",
       " 'AveRooms',\n",
       " 'AveBedrms',\n",
       " 'Population',\n",
       " 'AveOccup',\n",
       " 'Latitude',\n",
       " 'Longitude']"
      ]
     },
     "execution_count": 5,
     "metadata": {},
     "output_type": "execute_result"
    }
   ],
   "source": [
    "housing_data.feature_names"
   ]
  },
  {
   "cell_type": "markdown",
   "metadata": {},
   "source": [
    "# Split train test"
   ]
  },
  {
   "cell_type": "code",
   "execution_count": 6,
   "metadata": {},
   "outputs": [],
   "source": [
    "X_temp, X_test,y_temp,y_test = train_test_split(\n",
    "    X,\n",
    "    y,\n",
    "    random_state=2024,\n",
    "    test_size=0.2\n",
    ")\n",
    "\n",
    "X_train, X_valid,y_train, y_valid = train_test_split(\n",
    "    X_temp,\n",
    "    y_temp,\n",
    "    random_state=2024,\n",
    "    test_size=0.2\n",
    ") "
   ]
  },
  {
   "cell_type": "markdown",
   "metadata": {},
   "source": [
    "# Train model"
   ]
  },
  {
   "cell_type": "code",
   "execution_count": 7,
   "metadata": {},
   "outputs": [],
   "source": [
    "tf.random.set_seed(42)\n",
    "norm_layer = tf.keras.layers.Normalization(input_shape=X_train.shape[1:])\n",
    "model = tf.keras.Sequential([\n",
    "    norm_layer,\n",
    "    tf.keras.layers.Dense(50, activation=\"relu\"),\n",
    "    tf.keras.layers.Dense(50, activation=\"relu\"),\n",
    "    tf.keras.layers.Dense(50, activation=\"relu\"),\n",
    "    tf.keras.layers.Dense(1)\n",
    "])\n",
    "optimizer = tf.keras.optimizers.Adam(learning_rate=1e-3)\n",
    "model.compile(loss=\"mse\", optimizer=optimizer, metrics=[\"RootMeanSquaredError\"])"
   ]
  },
  {
   "cell_type": "code",
   "execution_count": 8,
   "metadata": {},
   "outputs": [],
   "source": [
    "# calculate mean and std\n",
    "\n",
    "norm_layer.adapt(X_train)"
   ]
  },
  {
   "cell_type": "markdown",
   "metadata": {},
   "source": [
    "## Tensorboard demo"
   ]
  },
  {
   "cell_type": "code",
   "execution_count": 10,
   "metadata": {},
   "outputs": [],
   "source": [
    "import shutil\n",
    "\n",
    "import keras_tuner\n",
    "shutil.rmtree(\"my_logs\", ignore_errors=True)"
   ]
  },
  {
   "cell_type": "code",
   "execution_count": 11,
   "metadata": {},
   "outputs": [],
   "source": [
    "from pathlib import Path\n",
    "from time import strftime\n",
    "\n",
    "def get_run_logdir(root_logdir=\"my_logs\"):\n",
    "    return Path(root_logdir) / strftime(\"run_%Y_%m_%d_%H_%M_%S\")\n",
    "\n",
    "run_logdir = get_run_logdir()"
   ]
  },
  {
   "cell_type": "markdown",
   "metadata": {},
   "source": [
    "## Fit the model"
   ]
  },
  {
   "cell_type": "code",
   "execution_count": 13,
   "metadata": {},
   "outputs": [
    {
     "name": "stdout",
     "output_type": "stream",
     "text": [
      "Epoch 1/20\n",
      "413/413 [==============================] - 2s 3ms/step - loss: 0.8328 - root_mean_squared_error: 0.9126 - val_loss: 0.4430 - val_root_mean_squared_error: 0.6655\n",
      "Epoch 2/20\n",
      "413/413 [==============================] - 1s 2ms/step - loss: 0.3948 - root_mean_squared_error: 0.6283 - val_loss: 0.3976 - val_root_mean_squared_error: 0.6306\n",
      "Epoch 3/20\n",
      "413/413 [==============================] - 1s 2ms/step - loss: 0.3645 - root_mean_squared_error: 0.6037 - val_loss: 0.3719 - val_root_mean_squared_error: 0.6098\n",
      "Epoch 4/20\n",
      "413/413 [==============================] - 1s 2ms/step - loss: 0.3447 - root_mean_squared_error: 0.5871 - val_loss: 0.3538 - val_root_mean_squared_error: 0.5948\n",
      "Epoch 5/20\n",
      "413/413 [==============================] - 1s 2ms/step - loss: 0.3258 - root_mean_squared_error: 0.5707 - val_loss: 0.3601 - val_root_mean_squared_error: 0.6001\n",
      "Epoch 6/20\n",
      "413/413 [==============================] - 1s 2ms/step - loss: 0.3143 - root_mean_squared_error: 0.5606 - val_loss: 0.3450 - val_root_mean_squared_error: 0.5874\n",
      "Epoch 7/20\n",
      "413/413 [==============================] - 1s 2ms/step - loss: 0.3070 - root_mean_squared_error: 0.5541 - val_loss: 0.3229 - val_root_mean_squared_error: 0.5682\n",
      "Epoch 8/20\n",
      "413/413 [==============================] - 1s 2ms/step - loss: 0.2984 - root_mean_squared_error: 0.5462 - val_loss: 0.3222 - val_root_mean_squared_error: 0.5676\n",
      "Epoch 9/20\n",
      "413/413 [==============================] - 1s 2ms/step - loss: 0.2945 - root_mean_squared_error: 0.5426 - val_loss: 0.3074 - val_root_mean_squared_error: 0.5544\n",
      "Epoch 10/20\n",
      "413/413 [==============================] - 1s 2ms/step - loss: 0.2922 - root_mean_squared_error: 0.5406 - val_loss: 0.3186 - val_root_mean_squared_error: 0.5645\n",
      "Epoch 11/20\n",
      "413/413 [==============================] - 1s 2ms/step - loss: 0.2863 - root_mean_squared_error: 0.5351 - val_loss: 0.3141 - val_root_mean_squared_error: 0.5605\n",
      "Epoch 12/20\n",
      "413/413 [==============================] - 1s 2ms/step - loss: 0.2840 - root_mean_squared_error: 0.5329 - val_loss: 0.3266 - val_root_mean_squared_error: 0.5715\n",
      "Epoch 13/20\n",
      "413/413 [==============================] - 1s 2ms/step - loss: 0.2842 - root_mean_squared_error: 0.5331 - val_loss: 0.3069 - val_root_mean_squared_error: 0.5540\n",
      "Epoch 14/20\n",
      "413/413 [==============================] - 1s 3ms/step - loss: 0.2765 - root_mean_squared_error: 0.5258 - val_loss: 0.3114 - val_root_mean_squared_error: 0.5581\n",
      "Epoch 15/20\n",
      "413/413 [==============================] - 1s 2ms/step - loss: 0.2730 - root_mean_squared_error: 0.5225 - val_loss: 0.3133 - val_root_mean_squared_error: 0.5598\n",
      "Epoch 16/20\n",
      "413/413 [==============================] - 1s 2ms/step - loss: 0.2731 - root_mean_squared_error: 0.5226 - val_loss: 0.2963 - val_root_mean_squared_error: 0.5443\n",
      "Epoch 17/20\n",
      "413/413 [==============================] - 1s 2ms/step - loss: 0.2730 - root_mean_squared_error: 0.5225 - val_loss: 0.3038 - val_root_mean_squared_error: 0.5512\n",
      "Epoch 18/20\n",
      "413/413 [==============================] - 1s 2ms/step - loss: 0.2687 - root_mean_squared_error: 0.5183 - val_loss: 0.3046 - val_root_mean_squared_error: 0.5519\n",
      "Epoch 19/20\n",
      "413/413 [==============================] - 1s 3ms/step - loss: 0.2676 - root_mean_squared_error: 0.5173 - val_loss: 0.3066 - val_root_mean_squared_error: 0.5537\n",
      "Epoch 20/20\n",
      "413/413 [==============================] - 1s 3ms/step - loss: 0.2614 - root_mean_squared_error: 0.5113 - val_loss: 0.3011 - val_root_mean_squared_error: 0.5487\n"
     ]
    }
   ],
   "source": [
    "tensorboard_cb = tf.keras.callbacks.TensorBoard(run_logdir, profile_batch=(100, 200))\n",
    "history = model.fit(X_train, y_train, epochs=20, validation_data=(X_valid, y_valid), callbacks = [tensorboard_cb])"
   ]
  },
  {
   "cell_type": "code",
   "execution_count": 14,
   "metadata": {},
   "outputs": [
    {
     "name": "stdout",
     "output_type": "stream",
     "text": [
      "my_logs\n",
      "  run_2024_04_19_21_53_52\n",
      "    plugins\n",
      "      profile\n",
      "        2024_04_19_16_24_44\n",
      "          LAPTOP-SRAMQVR5.xplane.pb\n",
      "    train\n",
      "      events.out.tfevents.1713543883.LAPTOP-SRAMQVR5.35184.0.v2\n",
      "    validation\n",
      "      events.out.tfevents.1713543885.LAPTOP-SRAMQVR5.35184.1.v2\n"
     ]
    }
   ],
   "source": [
    "print(\"my_logs\")\n",
    "for path in sorted(Path(\"my_logs\").glob(\"**/*\")):\n",
    "    print(\"  \" * (len(path.parts) - 1) + path.parts[-1])"
   ]
  },
  {
   "cell_type": "code",
   "execution_count": 17,
   "metadata": {},
   "outputs": [
    {
     "name": "stdout",
     "output_type": "stream",
     "text": [
      "The tensorboard extension is already loaded. To reload it, use:\n",
      "  %reload_ext tensorboard\n"
     ]
    },
    {
     "data": {
      "text/plain": [
       "Reusing TensorBoard on port 6006 (pid 29124), started 0:01:24 ago. (Use '!kill 29124' to kill it.)"
      ]
     },
     "metadata": {},
     "output_type": "display_data"
    },
    {
     "data": {
      "text/html": [
       "\n",
       "      <iframe id=\"tensorboard-frame-e9c558932f9d23c9\" width=\"100%\" height=\"800\" frameborder=\"0\">\n",
       "      </iframe>\n",
       "      <script>\n",
       "        (function() {\n",
       "          const frame = document.getElementById(\"tensorboard-frame-e9c558932f9d23c9\");\n",
       "          const url = new URL(\"http://localhost\");\n",
       "          const port = 6006;\n",
       "          if (port) {\n",
       "            url.port = port;\n",
       "          }\n",
       "          frame.src = url;\n",
       "        })();\n",
       "      </script>\n",
       "    "
      ],
      "text/plain": [
       "<IPython.core.display.HTML object>"
      ]
     },
     "metadata": {},
     "output_type": "display_data"
    },
    {
     "data": {
      "text/html": [
       "<a href=\"http://localhost:6006/\">http://localhost:6006/</a>"
      ],
      "text/plain": [
       "<IPython.core.display.HTML object>"
      ]
     },
     "metadata": {},
     "output_type": "display_data"
    }
   ],
   "source": [
    "%load_ext tensorboard\n",
    "%tensorboard --logdir=./my_logs\n",
    "\n",
    "from IPython.display import display, HTML\n",
    "display(HTML('<a href=\"http://localhost:6006/\">http://localhost:6006/</a>'))"
   ]
  },
  {
   "cell_type": "code",
   "execution_count": 18,
   "metadata": {},
   "outputs": [
    {
     "name": "stdout",
     "output_type": "stream",
     "text": [
      "Known TensorBoard instances:\n",
      "  - port 6006: logdir logs/fit (started 10:28:58 ago; pid 25480)\n",
      "  - port 6006: logdir ./my_logs (started 0:02:15 ago; pid 29124)\n"
     ]
    }
   ],
   "source": [
    "from tensorboard import notebook\n",
    "\n",
    "notebook.list()"
   ]
  }
 ],
 "metadata": {
  "kernelspec": {
   "display_name": ".venv",
   "language": "python",
   "name": "python3"
  },
  "language_info": {
   "codemirror_mode": {
    "name": "ipython",
    "version": 3
   },
   "file_extension": ".py",
   "mimetype": "text/x-python",
   "name": "python",
   "nbconvert_exporter": "python",
   "pygments_lexer": "ipython3",
   "version": "3.10.11"
  }
 },
 "nbformat": 4,
 "nbformat_minor": 2
}
