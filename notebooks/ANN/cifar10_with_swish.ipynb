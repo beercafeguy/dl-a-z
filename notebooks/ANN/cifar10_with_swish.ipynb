{
 "cells": [
  {
   "cell_type": "markdown",
   "metadata": {},
   "source": [
    "# Task\n",
    "\n",
    " Build a DNN with 20 hidden layers of 100 neurons each (that's too many, but it's the point of this exercise). Use He initialization and the Swish activation function."
   ]
  },
  {
   "cell_type": "code",
   "execution_count": 1,
   "metadata": {},
   "outputs": [],
   "source": [
    "import pandas as pd\n",
    "import numpy as np\n",
    "import matplotlib.pyplot as plt\n",
    "\n",
    "\n",
    "import tensorflow as tf"
   ]
  },
  {
   "cell_type": "markdown",
   "metadata": {},
   "source": [
    "# Read data"
   ]
  },
  {
   "cell_type": "code",
   "execution_count": 2,
   "metadata": {},
   "outputs": [],
   "source": [
    "cifar10 = tf.keras.datasets.cifar10.load_data()\n",
    "(X_train_full, y_train_full), (X_test, y_test) = cifar10\n",
    "\n",
    "X_train = X_train_full[5000:]\n",
    "y_train = y_train_full[5000:]\n",
    "X_valid = X_train_full[:5000]\n",
    "y_valid = y_train_full[:5000]"
   ]
  },
  {
   "cell_type": "markdown",
   "metadata": {},
   "source": [
    "# Build Network"
   ]
  },
  {
   "cell_type": "code",
   "execution_count": 3,
   "metadata": {},
   "outputs": [],
   "source": [
    "tf.random.set_seed(2024)\n",
    "\n",
    "model = tf.keras.Sequential()\n",
    "\n",
    "model.add(tf.keras.layers.Flatten(input_shape=[32,32,3]))\n",
    "\n",
    "for _ in range(20):\n",
    "    model.add(tf.keras.layers.Dense(100, activation='swish', kernel_initializer='he_normal'))"
   ]
  },
  {
   "cell_type": "code",
   "execution_count": 4,
   "metadata": {},
   "outputs": [],
   "source": [
    "model.add(tf.keras.layers.Dense(10, activation=\"softmax\"))"
   ]
  },
  {
   "cell_type": "code",
   "execution_count": 5,
   "metadata": {},
   "outputs": [
    {
     "name": "stdout",
     "output_type": "stream",
     "text": [
      "Model: \"sequential\"\n",
      "_________________________________________________________________\n",
      " Layer (type)                Output Shape              Param #   \n",
      "=================================================================\n",
      " flatten (Flatten)           (None, 3072)              0         \n",
      "                                                                 \n",
      " dense (Dense)               (None, 100)               307300    \n",
      "                                                                 \n",
      " dense_1 (Dense)             (None, 100)               10100     \n",
      "                                                                 \n",
      " dense_2 (Dense)             (None, 100)               10100     \n",
      "                                                                 \n",
      " dense_3 (Dense)             (None, 100)               10100     \n",
      "                                                                 \n",
      " dense_4 (Dense)             (None, 100)               10100     \n",
      "                                                                 \n",
      " dense_5 (Dense)             (None, 100)               10100     \n",
      "                                                                 \n",
      " dense_6 (Dense)             (None, 100)               10100     \n",
      "                                                                 \n",
      " dense_7 (Dense)             (None, 100)               10100     \n",
      "                                                                 \n",
      " dense_8 (Dense)             (None, 100)               10100     \n",
      "                                                                 \n",
      " dense_9 (Dense)             (None, 100)               10100     \n",
      "                                                                 \n",
      " dense_10 (Dense)            (None, 100)               10100     \n",
      "                                                                 \n",
      " dense_11 (Dense)            (None, 100)               10100     \n",
      "                                                                 \n",
      " dense_12 (Dense)            (None, 100)               10100     \n",
      "                                                                 \n",
      " dense_13 (Dense)            (None, 100)               10100     \n",
      "                                                                 \n",
      " dense_14 (Dense)            (None, 100)               10100     \n",
      "                                                                 \n",
      " dense_15 (Dense)            (None, 100)               10100     \n",
      "                                                                 \n",
      " dense_16 (Dense)            (None, 100)               10100     \n",
      "                                                                 \n",
      " dense_17 (Dense)            (None, 100)               10100     \n",
      "                                                                 \n",
      " dense_18 (Dense)            (None, 100)               10100     \n",
      "                                                                 \n",
      " dense_19 (Dense)            (None, 100)               10100     \n",
      "                                                                 \n",
      " dense_20 (Dense)            (None, 10)                1010      \n",
      "                                                                 \n",
      "=================================================================\n",
      "Total params: 500210 (1.91 MB)\n",
      "Trainable params: 500210 (1.91 MB)\n",
      "Non-trainable params: 0 (0.00 Byte)\n",
      "_________________________________________________________________\n"
     ]
    }
   ],
   "source": [
    "model.summary()"
   ]
  },
  {
   "cell_type": "markdown",
   "metadata": {},
   "source": [
    "# Traing the model\n",
    "\n",
    " Using Nadam optimization and early stopping, train the network on the CIFAR10 dataset. You can load it with tf.keras.datasets.cifar10.load_data(). The dataset is composed of 60,000 32 × 32–pixel color images (50,000 for training, 10,000 for testing) with 10 classes, so you'll need a softmax output layer with 10 neurons. Remember to search for the right learning rate each time you change the model's architecture or hyperparameters."
   ]
  },
  {
   "cell_type": "code",
   "execution_count": 5,
   "metadata": {},
   "outputs": [],
   "source": [
    "optimizer = tf.keras.optimizers.Nadam(learning_rate=0.00005)\n",
    "\n",
    "model.compile(\n",
    "    loss = 'sparse_categorical_crossentropy',\n",
    "    metrics=['accuracy'],\n",
    "    optimizer=optimizer\n",
    ")"
   ]
  },
  {
   "cell_type": "code",
   "execution_count": 7,
   "metadata": {},
   "outputs": [],
   "source": [
    "early_stopping_cb = tf.keras.callbacks.EarlyStopping(patience=20, restore_best_weights=True)\n",
    "model_checkpoint_cb = tf.keras.callbacks.ModelCheckpoint(\"models/my_cifar10_model\", save_best_only=True)"
   ]
  },
  {
   "cell_type": "code",
   "execution_count": 8,
   "metadata": {},
   "outputs": [],
   "source": [
    "from pathlib import Path\n",
    "run_index = 1 # increment every time you train the model\n",
    "run_logdir = Path(\"my_logs\") / \"my_cifar10_logs\" / f\"run_{run_index:03d}\"\n",
    "tensorboard_cb = tf.keras.callbacks.TensorBoard(run_logdir)\n",
    "callbacks = [early_stopping_cb, model_checkpoint_cb, tensorboard_cb]"
   ]
  },
  {
   "cell_type": "code",
   "execution_count": 9,
   "metadata": {},
   "outputs": [
    {
     "data": {
      "text/plain": [
       "Reusing TensorBoard on port 6006 (pid 6772), started 0:05:18 ago. (Use '!kill 6772' to kill it.)"
      ]
     },
     "metadata": {},
     "output_type": "display_data"
    },
    {
     "data": {
      "text/html": [
       "\n",
       "      <iframe id=\"tensorboard-frame-1a946ab1ef151bab\" width=\"100%\" height=\"800\" frameborder=\"0\">\n",
       "      </iframe>\n",
       "      <script>\n",
       "        (function() {\n",
       "          const frame = document.getElementById(\"tensorboard-frame-1a946ab1ef151bab\");\n",
       "          const url = new URL(\"http://localhost\");\n",
       "          const port = 6006;\n",
       "          if (port) {\n",
       "            url.port = port;\n",
       "          }\n",
       "          frame.src = url;\n",
       "        })();\n",
       "      </script>\n",
       "    "
      ],
      "text/plain": [
       "<IPython.core.display.HTML object>"
      ]
     },
     "metadata": {},
     "output_type": "display_data"
    }
   ],
   "source": [
    "%load_ext tensorboard\n",
    "%tensorboard --logdir=.my_logs/my_cifar10_logs"
   ]
  },
  {
   "cell_type": "code",
   "execution_count": 10,
   "metadata": {},
   "outputs": [
    {
     "name": "stdout",
     "output_type": "stream",
     "text": [
      "Epoch 1/100\n",
      "1407/1407 [==============================] - ETA: 0s - loss: 6.2898 - accuracy: 0.1456INFO:tensorflow:Assets written to: models\\my_cifar10_model\\assets\n"
     ]
    },
    {
     "name": "stderr",
     "output_type": "stream",
     "text": [
      "INFO:tensorflow:Assets written to: models\\my_cifar10_model\\assets\n"
     ]
    },
    {
     "name": "stdout",
     "output_type": "stream",
     "text": [
      "1407/1407 [==============================] - 19s 10ms/step - loss: 6.2898 - accuracy: 0.1456 - val_loss: 2.2041 - val_accuracy: 0.2058\n",
      "Epoch 2/100\n",
      "1401/1407 [============================>.] - ETA: 0s - loss: 2.0943 - accuracy: 0.2210INFO:tensorflow:Assets written to: models\\my_cifar10_model\\assets\n"
     ]
    },
    {
     "name": "stderr",
     "output_type": "stream",
     "text": [
      "INFO:tensorflow:Assets written to: models\\my_cifar10_model\\assets\n"
     ]
    },
    {
     "name": "stdout",
     "output_type": "stream",
     "text": [
      "1407/1407 [==============================] - 14s 10ms/step - loss: 2.0935 - accuracy: 0.2213 - val_loss: 2.0261 - val_accuracy: 0.2468\n",
      "Epoch 3/100\n",
      "1406/1407 [============================>.] - ETA: 0s - loss: 1.9738 - accuracy: 0.2682INFO:tensorflow:Assets written to: models\\my_cifar10_model\\assets\n"
     ]
    },
    {
     "name": "stderr",
     "output_type": "stream",
     "text": [
      "INFO:tensorflow:Assets written to: models\\my_cifar10_model\\assets\n"
     ]
    },
    {
     "name": "stdout",
     "output_type": "stream",
     "text": [
      "1407/1407 [==============================] - 16s 12ms/step - loss: 1.9739 - accuracy: 0.2682 - val_loss: 1.9971 - val_accuracy: 0.2586\n",
      "Epoch 4/100\n",
      "1403/1407 [============================>.] - ETA: 0s - loss: 1.9010 - accuracy: 0.3026INFO:tensorflow:Assets written to: models\\my_cifar10_model\\assets\n"
     ]
    },
    {
     "name": "stderr",
     "output_type": "stream",
     "text": [
      "INFO:tensorflow:Assets written to: models\\my_cifar10_model\\assets\n"
     ]
    },
    {
     "name": "stdout",
     "output_type": "stream",
     "text": [
      "1407/1407 [==============================] - 18s 13ms/step - loss: 1.9009 - accuracy: 0.3027 - val_loss: 1.8867 - val_accuracy: 0.2972\n",
      "Epoch 5/100\n",
      "1403/1407 [============================>.] - ETA: 0s - loss: 1.8372 - accuracy: 0.3274INFO:tensorflow:Assets written to: models\\my_cifar10_model\\assets\n"
     ]
    },
    {
     "name": "stderr",
     "output_type": "stream",
     "text": [
      "INFO:tensorflow:Assets written to: models\\my_cifar10_model\\assets\n"
     ]
    },
    {
     "name": "stdout",
     "output_type": "stream",
     "text": [
      "1407/1407 [==============================] - 15s 10ms/step - loss: 1.8375 - accuracy: 0.3272 - val_loss: 1.8466 - val_accuracy: 0.3242\n",
      "Epoch 6/100\n",
      "1405/1407 [============================>.] - ETA: 0s - loss: 1.7758 - accuracy: 0.3548INFO:tensorflow:Assets written to: models\\my_cifar10_model\\assets\n"
     ]
    },
    {
     "name": "stderr",
     "output_type": "stream",
     "text": [
      "INFO:tensorflow:Assets written to: models\\my_cifar10_model\\assets\n"
     ]
    },
    {
     "name": "stdout",
     "output_type": "stream",
     "text": [
      "1407/1407 [==============================] - 14s 10ms/step - loss: 1.7756 - accuracy: 0.3548 - val_loss: 1.7682 - val_accuracy: 0.3546\n",
      "Epoch 7/100\n",
      "1400/1407 [============================>.] - ETA: 0s - loss: 1.7345 - accuracy: 0.3688INFO:tensorflow:Assets written to: models\\my_cifar10_model\\assets\n"
     ]
    },
    {
     "name": "stderr",
     "output_type": "stream",
     "text": [
      "INFO:tensorflow:Assets written to: models\\my_cifar10_model\\assets\n"
     ]
    },
    {
     "name": "stdout",
     "output_type": "stream",
     "text": [
      "1407/1407 [==============================] - 14s 10ms/step - loss: 1.7346 - accuracy: 0.3689 - val_loss: 1.7079 - val_accuracy: 0.3744\n",
      "Epoch 8/100\n",
      "1401/1407 [============================>.] - ETA: 0s - loss: 1.6913 - accuracy: 0.3876INFO:tensorflow:Assets written to: models\\my_cifar10_model\\assets\n"
     ]
    },
    {
     "name": "stderr",
     "output_type": "stream",
     "text": [
      "INFO:tensorflow:Assets written to: models\\my_cifar10_model\\assets\n"
     ]
    },
    {
     "name": "stdout",
     "output_type": "stream",
     "text": [
      "1407/1407 [==============================] - 15s 10ms/step - loss: 1.6914 - accuracy: 0.3873 - val_loss: 1.6928 - val_accuracy: 0.3912\n",
      "Epoch 9/100\n",
      "1404/1407 [============================>.] - ETA: 0s - loss: 1.6603 - accuracy: 0.3992INFO:tensorflow:Assets written to: models\\my_cifar10_model\\assets\n"
     ]
    },
    {
     "name": "stderr",
     "output_type": "stream",
     "text": [
      "INFO:tensorflow:Assets written to: models\\my_cifar10_model\\assets\n"
     ]
    },
    {
     "name": "stdout",
     "output_type": "stream",
     "text": [
      "1407/1407 [==============================] - 14s 10ms/step - loss: 1.6602 - accuracy: 0.3993 - val_loss: 1.6917 - val_accuracy: 0.3908\n",
      "Epoch 10/100\n",
      "1402/1407 [============================>.] - ETA: 0s - loss: 1.6340 - accuracy: 0.4091INFO:tensorflow:Assets written to: models\\my_cifar10_model\\assets\n"
     ]
    },
    {
     "name": "stderr",
     "output_type": "stream",
     "text": [
      "INFO:tensorflow:Assets written to: models\\my_cifar10_model\\assets\n"
     ]
    },
    {
     "name": "stdout",
     "output_type": "stream",
     "text": [
      "1407/1407 [==============================] - 14s 10ms/step - loss: 1.6342 - accuracy: 0.4090 - val_loss: 1.6454 - val_accuracy: 0.4038\n",
      "Epoch 11/100\n",
      "1402/1407 [============================>.] - ETA: 0s - loss: 1.6101 - accuracy: 0.4184INFO:tensorflow:Assets written to: models\\my_cifar10_model\\assets\n"
     ]
    },
    {
     "name": "stderr",
     "output_type": "stream",
     "text": [
      "INFO:tensorflow:Assets written to: models\\my_cifar10_model\\assets\n"
     ]
    },
    {
     "name": "stdout",
     "output_type": "stream",
     "text": [
      "1407/1407 [==============================] - 14s 10ms/step - loss: 1.6104 - accuracy: 0.4182 - val_loss: 1.6448 - val_accuracy: 0.4098\n",
      "Epoch 12/100\n",
      "1404/1407 [============================>.] - ETA: 0s - loss: 1.5864 - accuracy: 0.4290INFO:tensorflow:Assets written to: models\\my_cifar10_model\\assets\n"
     ]
    },
    {
     "name": "stderr",
     "output_type": "stream",
     "text": [
      "INFO:tensorflow:Assets written to: models\\my_cifar10_model\\assets\n"
     ]
    },
    {
     "name": "stdout",
     "output_type": "stream",
     "text": [
      "1407/1407 [==============================] - 14s 10ms/step - loss: 1.5866 - accuracy: 0.4289 - val_loss: 1.6306 - val_accuracy: 0.4166\n",
      "Epoch 13/100\n",
      "1405/1407 [============================>.] - ETA: 0s - loss: 1.5693 - accuracy: 0.4336INFO:tensorflow:Assets written to: models\\my_cifar10_model\\assets\n"
     ]
    },
    {
     "name": "stderr",
     "output_type": "stream",
     "text": [
      "INFO:tensorflow:Assets written to: models\\my_cifar10_model\\assets\n"
     ]
    },
    {
     "name": "stdout",
     "output_type": "stream",
     "text": [
      "1407/1407 [==============================] - 14s 10ms/step - loss: 1.5692 - accuracy: 0.4336 - val_loss: 1.6234 - val_accuracy: 0.4136\n",
      "Epoch 14/100\n",
      "1406/1407 [============================>.] - ETA: 0s - loss: 1.5541 - accuracy: 0.4397INFO:tensorflow:Assets written to: models\\my_cifar10_model\\assets\n"
     ]
    },
    {
     "name": "stderr",
     "output_type": "stream",
     "text": [
      "INFO:tensorflow:Assets written to: models\\my_cifar10_model\\assets\n"
     ]
    },
    {
     "name": "stdout",
     "output_type": "stream",
     "text": [
      "1407/1407 [==============================] - 14s 10ms/step - loss: 1.5542 - accuracy: 0.4397 - val_loss: 1.5783 - val_accuracy: 0.4368\n",
      "Epoch 15/100\n",
      "1407/1407 [==============================] - 11s 8ms/step - loss: 1.5347 - accuracy: 0.4472 - val_loss: 1.6398 - val_accuracy: 0.4162\n",
      "Epoch 16/100\n",
      "1403/1407 [============================>.] - ETA: 0s - loss: 1.5187 - accuracy: 0.4544INFO:tensorflow:Assets written to: models\\my_cifar10_model\\assets\n"
     ]
    },
    {
     "name": "stderr",
     "output_type": "stream",
     "text": [
      "INFO:tensorflow:Assets written to: models\\my_cifar10_model\\assets\n"
     ]
    },
    {
     "name": "stdout",
     "output_type": "stream",
     "text": [
      "1407/1407 [==============================] - 14s 10ms/step - loss: 1.5183 - accuracy: 0.4547 - val_loss: 1.5753 - val_accuracy: 0.4380\n",
      "Epoch 17/100\n",
      "1403/1407 [============================>.] - ETA: 0s - loss: 1.5031 - accuracy: 0.4578INFO:tensorflow:Assets written to: models\\my_cifar10_model\\assets\n"
     ]
    },
    {
     "name": "stderr",
     "output_type": "stream",
     "text": [
      "INFO:tensorflow:Assets written to: models\\my_cifar10_model\\assets\n"
     ]
    },
    {
     "name": "stdout",
     "output_type": "stream",
     "text": [
      "1407/1407 [==============================] - 15s 10ms/step - loss: 1.5031 - accuracy: 0.4576 - val_loss: 1.5652 - val_accuracy: 0.4434\n",
      "Epoch 18/100\n",
      "1407/1407 [==============================] - 10s 7ms/step - loss: 1.4878 - accuracy: 0.4622 - val_loss: 1.5768 - val_accuracy: 0.4252\n",
      "Epoch 19/100\n",
      "1407/1407 [==============================] - 11s 8ms/step - loss: 1.4774 - accuracy: 0.4693 - val_loss: 1.5716 - val_accuracy: 0.4384\n",
      "Epoch 20/100\n",
      "1407/1407 [==============================] - 10s 7ms/step - loss: 1.4665 - accuracy: 0.4727 - val_loss: 1.5747 - val_accuracy: 0.4300\n",
      "Epoch 21/100\n",
      "1403/1407 [============================>.] - ETA: 0s - loss: 1.4540 - accuracy: 0.4763INFO:tensorflow:Assets written to: models\\my_cifar10_model\\assets\n"
     ]
    },
    {
     "name": "stderr",
     "output_type": "stream",
     "text": [
      "INFO:tensorflow:Assets written to: models\\my_cifar10_model\\assets\n"
     ]
    },
    {
     "name": "stdout",
     "output_type": "stream",
     "text": [
      "1407/1407 [==============================] - 13s 9ms/step - loss: 1.4539 - accuracy: 0.4765 - val_loss: 1.5579 - val_accuracy: 0.4420\n",
      "Epoch 22/100\n",
      "1407/1407 [==============================] - 13s 9ms/step - loss: 1.4436 - accuracy: 0.4795 - val_loss: 1.5799 - val_accuracy: 0.4368\n",
      "Epoch 23/100\n",
      "1407/1407 [==============================] - ETA: 0s - loss: 1.4350 - accuracy: 0.4833INFO:tensorflow:Assets written to: models\\my_cifar10_model\\assets\n"
     ]
    },
    {
     "name": "stderr",
     "output_type": "stream",
     "text": [
      "INFO:tensorflow:Assets written to: models\\my_cifar10_model\\assets\n"
     ]
    },
    {
     "name": "stdout",
     "output_type": "stream",
     "text": [
      "1407/1407 [==============================] - 19s 14ms/step - loss: 1.4350 - accuracy: 0.4833 - val_loss: 1.5454 - val_accuracy: 0.4478\n",
      "Epoch 24/100\n",
      "1407/1407 [==============================] - 16s 11ms/step - loss: 1.4222 - accuracy: 0.4888 - val_loss: 1.5508 - val_accuracy: 0.4504\n",
      "Epoch 25/100\n",
      "1401/1407 [============================>.] - ETA: 0s - loss: 1.4131 - accuracy: 0.4925INFO:tensorflow:Assets written to: models\\my_cifar10_model\\assets\n"
     ]
    },
    {
     "name": "stderr",
     "output_type": "stream",
     "text": [
      "INFO:tensorflow:Assets written to: models\\my_cifar10_model\\assets\n"
     ]
    },
    {
     "name": "stdout",
     "output_type": "stream",
     "text": [
      "1407/1407 [==============================] - 18s 13ms/step - loss: 1.4128 - accuracy: 0.4925 - val_loss: 1.5264 - val_accuracy: 0.4498\n",
      "Epoch 26/100\n",
      "1407/1407 [==============================] - 16s 11ms/step - loss: 1.4010 - accuracy: 0.4994 - val_loss: 1.6166 - val_accuracy: 0.4256\n",
      "Epoch 27/100\n",
      "1407/1407 [==============================] - ETA: 0s - loss: 1.3907 - accuracy: 0.4981INFO:tensorflow:Assets written to: models\\my_cifar10_model\\assets\n"
     ]
    },
    {
     "name": "stderr",
     "output_type": "stream",
     "text": [
      "INFO:tensorflow:Assets written to: models\\my_cifar10_model\\assets\n"
     ]
    },
    {
     "name": "stdout",
     "output_type": "stream",
     "text": [
      "1407/1407 [==============================] - 18s 12ms/step - loss: 1.3907 - accuracy: 0.4981 - val_loss: 1.5193 - val_accuracy: 0.4586\n",
      "Epoch 28/100\n",
      "1407/1407 [==============================] - 16s 12ms/step - loss: 1.3838 - accuracy: 0.5009 - val_loss: 1.5978 - val_accuracy: 0.4398\n",
      "Epoch 29/100\n",
      "1407/1407 [==============================] - 15s 11ms/step - loss: 1.3743 - accuracy: 0.5042 - val_loss: 1.5205 - val_accuracy: 0.4660\n",
      "Epoch 30/100\n",
      "1407/1407 [==============================] - 15s 11ms/step - loss: 1.3663 - accuracy: 0.5067 - val_loss: 1.5265 - val_accuracy: 0.4522\n",
      "Epoch 31/100\n",
      "1407/1407 [==============================] - 14s 10ms/step - loss: 1.3547 - accuracy: 0.5106 - val_loss: 1.5328 - val_accuracy: 0.4620\n",
      "Epoch 32/100\n",
      "1405/1407 [============================>.] - ETA: 0s - loss: 1.3457 - accuracy: 0.5164INFO:tensorflow:Assets written to: models\\my_cifar10_model\\assets\n"
     ]
    },
    {
     "name": "stderr",
     "output_type": "stream",
     "text": [
      "INFO:tensorflow:Assets written to: models\\my_cifar10_model\\assets\n"
     ]
    },
    {
     "name": "stdout",
     "output_type": "stream",
     "text": [
      "1407/1407 [==============================] - 20s 14ms/step - loss: 1.3458 - accuracy: 0.5163 - val_loss: 1.5152 - val_accuracy: 0.4660\n",
      "Epoch 33/100\n",
      "1407/1407 [==============================] - 14s 10ms/step - loss: 1.3389 - accuracy: 0.5162 - val_loss: 1.5300 - val_accuracy: 0.4586\n",
      "Epoch 34/100\n",
      "1407/1407 [==============================] - 15s 10ms/step - loss: 1.3298 - accuracy: 0.5197 - val_loss: 1.5255 - val_accuracy: 0.4648\n",
      "Epoch 35/100\n",
      "1407/1407 [==============================] - 14s 10ms/step - loss: 1.3231 - accuracy: 0.5214 - val_loss: 1.5519 - val_accuracy: 0.4584\n",
      "Epoch 36/100\n",
      "1407/1407 [==============================] - 13s 9ms/step - loss: 1.3137 - accuracy: 0.5260 - val_loss: 1.5501 - val_accuracy: 0.4576\n",
      "Epoch 37/100\n",
      "1407/1407 [==============================] - 14s 10ms/step - loss: 1.3036 - accuracy: 0.5316 - val_loss: 1.5204 - val_accuracy: 0.4750\n",
      "Epoch 38/100\n",
      "1407/1407 [==============================] - 16s 12ms/step - loss: 1.2961 - accuracy: 0.5325 - val_loss: 1.5226 - val_accuracy: 0.4654\n",
      "Epoch 39/100\n",
      "1407/1407 [==============================] - 16s 11ms/step - loss: 1.2908 - accuracy: 0.5342 - val_loss: 1.5273 - val_accuracy: 0.4710\n",
      "Epoch 40/100\n",
      "1407/1407 [==============================] - 16s 11ms/step - loss: 1.2828 - accuracy: 0.5357 - val_loss: 1.5351 - val_accuracy: 0.4670\n",
      "Epoch 41/100\n",
      "1407/1407 [==============================] - 16s 11ms/step - loss: 1.2756 - accuracy: 0.5386 - val_loss: 1.5330 - val_accuracy: 0.4648\n",
      "Epoch 42/100\n",
      "1405/1407 [============================>.] - ETA: 0s - loss: 1.2678 - accuracy: 0.5453INFO:tensorflow:Assets written to: models\\my_cifar10_model\\assets\n"
     ]
    },
    {
     "name": "stderr",
     "output_type": "stream",
     "text": [
      "INFO:tensorflow:Assets written to: models\\my_cifar10_model\\assets\n"
     ]
    },
    {
     "name": "stdout",
     "output_type": "stream",
     "text": [
      "1407/1407 [==============================] - 20s 14ms/step - loss: 1.2676 - accuracy: 0.5454 - val_loss: 1.5091 - val_accuracy: 0.4722\n",
      "Epoch 43/100\n",
      "1407/1407 [==============================] - 15s 11ms/step - loss: 1.2576 - accuracy: 0.5482 - val_loss: 1.5398 - val_accuracy: 0.4694\n",
      "Epoch 44/100\n",
      "1407/1407 [==============================] - 15s 11ms/step - loss: 1.2522 - accuracy: 0.5488 - val_loss: 1.5204 - val_accuracy: 0.4726\n",
      "Epoch 45/100\n",
      "1407/1407 [==============================] - 17s 12ms/step - loss: 1.2454 - accuracy: 0.5500 - val_loss: 1.5342 - val_accuracy: 0.4732\n",
      "Epoch 46/100\n",
      "1407/1407 [==============================] - 16s 11ms/step - loss: 1.2358 - accuracy: 0.5528 - val_loss: 1.5420 - val_accuracy: 0.4718\n",
      "Epoch 47/100\n",
      "1405/1407 [============================>.] - ETA: 0s - loss: 1.2294 - accuracy: 0.5577INFO:tensorflow:Assets written to: models\\my_cifar10_model\\assets\n"
     ]
    },
    {
     "name": "stderr",
     "output_type": "stream",
     "text": [
      "INFO:tensorflow:Assets written to: models\\my_cifar10_model\\assets\n"
     ]
    },
    {
     "name": "stdout",
     "output_type": "stream",
     "text": [
      "1407/1407 [==============================] - 22s 16ms/step - loss: 1.2293 - accuracy: 0.5578 - val_loss: 1.5084 - val_accuracy: 0.4824\n",
      "Epoch 48/100\n",
      "1407/1407 [==============================] - 14s 10ms/step - loss: 1.2226 - accuracy: 0.5601 - val_loss: 1.5355 - val_accuracy: 0.4812\n",
      "Epoch 49/100\n",
      "1407/1407 [==============================] - 15s 10ms/step - loss: 1.2151 - accuracy: 0.5625 - val_loss: 1.5406 - val_accuracy: 0.4736\n",
      "Epoch 50/100\n",
      "1407/1407 [==============================] - 17s 12ms/step - loss: 1.2105 - accuracy: 0.5664 - val_loss: 1.5360 - val_accuracy: 0.4758\n",
      "Epoch 51/100\n",
      "1407/1407 [==============================] - 18s 12ms/step - loss: 1.2025 - accuracy: 0.5663 - val_loss: 1.5469 - val_accuracy: 0.4800\n",
      "Epoch 52/100\n",
      "1407/1407 [==============================] - 15s 10ms/step - loss: 1.1931 - accuracy: 0.5704 - val_loss: 1.6323 - val_accuracy: 0.4540\n",
      "Epoch 53/100\n",
      "1407/1407 [==============================] - 16s 11ms/step - loss: 1.1888 - accuracy: 0.5709 - val_loss: 1.5461 - val_accuracy: 0.4780\n",
      "Epoch 54/100\n",
      "1407/1407 [==============================] - 17s 12ms/step - loss: 1.1804 - accuracy: 0.5762 - val_loss: 1.5986 - val_accuracy: 0.4566\n",
      "Epoch 55/100\n",
      "1407/1407 [==============================] - 17s 12ms/step - loss: 1.1777 - accuracy: 0.5762 - val_loss: 1.5605 - val_accuracy: 0.4776\n",
      "Epoch 56/100\n",
      "1407/1407 [==============================] - 17s 12ms/step - loss: 1.1717 - accuracy: 0.5783 - val_loss: 1.5380 - val_accuracy: 0.4822\n",
      "Epoch 57/100\n",
      "1407/1407 [==============================] - 17s 12ms/step - loss: 1.1624 - accuracy: 0.5822 - val_loss: 1.5809 - val_accuracy: 0.4660\n",
      "Epoch 58/100\n",
      "1407/1407 [==============================] - 16s 12ms/step - loss: 1.1543 - accuracy: 0.5823 - val_loss: 1.5614 - val_accuracy: 0.4748\n",
      "Epoch 59/100\n",
      "1407/1407 [==============================] - 17s 12ms/step - loss: 1.1490 - accuracy: 0.5835 - val_loss: 1.5547 - val_accuracy: 0.4696\n",
      "Epoch 60/100\n",
      "1407/1407 [==============================] - 17s 12ms/step - loss: 1.1416 - accuracy: 0.5889 - val_loss: 1.5944 - val_accuracy: 0.4768\n",
      "Epoch 61/100\n",
      "1407/1407 [==============================] - 16s 12ms/step - loss: 1.1401 - accuracy: 0.5899 - val_loss: 1.6446 - val_accuracy: 0.4556\n",
      "Epoch 62/100\n",
      "1407/1407 [==============================] - 16s 12ms/step - loss: 1.1307 - accuracy: 0.5936 - val_loss: 1.5680 - val_accuracy: 0.4754\n",
      "Epoch 63/100\n",
      "1407/1407 [==============================] - 16s 12ms/step - loss: 1.1216 - accuracy: 0.5976 - val_loss: 1.6028 - val_accuracy: 0.4592\n",
      "Epoch 64/100\n",
      "1407/1407 [==============================] - 15s 11ms/step - loss: 1.1178 - accuracy: 0.5972 - val_loss: 1.5922 - val_accuracy: 0.4714\n",
      "Epoch 65/100\n",
      "1407/1407 [==============================] - 13s 9ms/step - loss: 1.1146 - accuracy: 0.5996 - val_loss: 1.5862 - val_accuracy: 0.4782\n",
      "Epoch 66/100\n",
      "1407/1407 [==============================] - 16s 12ms/step - loss: 1.1064 - accuracy: 0.6034 - val_loss: 1.5698 - val_accuracy: 0.4758\n",
      "Epoch 67/100\n",
      "1407/1407 [==============================] - 16s 12ms/step - loss: 1.0952 - accuracy: 0.6072 - val_loss: 1.6166 - val_accuracy: 0.4680\n"
     ]
    }
   ],
   "source": [
    "history_base_model = model.fit(X_train, y_train, epochs=100,\n",
    "          validation_data=(X_valid, y_valid),\n",
    "          callbacks=callbacks)"
   ]
  },
  {
   "cell_type": "code",
   "execution_count": 11,
   "metadata": {},
   "outputs": [
    {
     "name": "stdout",
     "output_type": "stream",
     "text": [
      "157/157 [==============================] - 1s 3ms/step - loss: 1.5084 - accuracy: 0.4824\n"
     ]
    },
    {
     "data": {
      "text/plain": [
       "[1.5083513259887695, 0.48240000009536743]"
      ]
     },
     "execution_count": 11,
     "metadata": {},
     "output_type": "execute_result"
    }
   ],
   "source": [
    "model.evaluate(X_valid, y_valid)"
   ]
  },
  {
   "cell_type": "markdown",
   "metadata": {},
   "source": [
    "This is giving very bad accuracy on validation set. Lets see if we can improve this with batch norm."
   ]
  },
  {
   "cell_type": "markdown",
   "metadata": {},
   "source": [
    "# Implement Batch Normalization in same model arch"
   ]
  },
  {
   "cell_type": "code",
   "execution_count": 12,
   "metadata": {},
   "outputs": [
    {
     "name": "stdout",
     "output_type": "stream",
     "text": [
      "Epoch 1/100\n",
      "1405/1407 [============================>.] - ETA: 0s - loss: 2.0420 - accuracy: 0.2528INFO:tensorflow:Assets written to: models\\my_cifar10_bn_model\\assets\n"
     ]
    },
    {
     "name": "stderr",
     "output_type": "stream",
     "text": [
      "INFO:tensorflow:Assets written to: models\\my_cifar10_bn_model\\assets\n"
     ]
    },
    {
     "name": "stdout",
     "output_type": "stream",
     "text": [
      "1407/1407 [==============================] - 47s 24ms/step - loss: 2.0420 - accuracy: 0.2528 - val_loss: 2.1499 - val_accuracy: 0.2358\n",
      "Epoch 2/100\n",
      "1407/1407 [==============================] - ETA: 0s - loss: 1.7758 - accuracy: 0.3610INFO:tensorflow:Assets written to: models\\my_cifar10_bn_model\\assets\n"
     ]
    },
    {
     "name": "stderr",
     "output_type": "stream",
     "text": [
      "INFO:tensorflow:Assets written to: models\\my_cifar10_bn_model\\assets\n"
     ]
    },
    {
     "name": "stdout",
     "output_type": "stream",
     "text": [
      "1407/1407 [==============================] - 24s 17ms/step - loss: 1.7758 - accuracy: 0.3610 - val_loss: 1.9941 - val_accuracy: 0.2922\n",
      "Epoch 3/100\n",
      "1406/1407 [============================>.] - ETA: 0s - loss: 1.6700 - accuracy: 0.4039INFO:tensorflow:Assets written to: models\\my_cifar10_bn_model\\assets\n"
     ]
    },
    {
     "name": "stderr",
     "output_type": "stream",
     "text": [
      "INFO:tensorflow:Assets written to: models\\my_cifar10_bn_model\\assets\n"
     ]
    },
    {
     "name": "stdout",
     "output_type": "stream",
     "text": [
      "1407/1407 [==============================] - 27s 19ms/step - loss: 1.6699 - accuracy: 0.4039 - val_loss: 1.6602 - val_accuracy: 0.3982\n",
      "Epoch 4/100\n",
      "1405/1407 [============================>.] - ETA: 0s - loss: 1.6018 - accuracy: 0.4270INFO:tensorflow:Assets written to: models\\my_cifar10_bn_model\\assets\n"
     ]
    },
    {
     "name": "stderr",
     "output_type": "stream",
     "text": [
      "INFO:tensorflow:Assets written to: models\\my_cifar10_bn_model\\assets\n"
     ]
    },
    {
     "name": "stdout",
     "output_type": "stream",
     "text": [
      "1407/1407 [==============================] - 25s 18ms/step - loss: 1.6017 - accuracy: 0.4271 - val_loss: 1.6104 - val_accuracy: 0.4208\n",
      "Epoch 5/100\n",
      "1407/1407 [==============================] - 18s 13ms/step - loss: 1.5493 - accuracy: 0.4502 - val_loss: 1.8789 - val_accuracy: 0.3414\n",
      "Epoch 6/100\n",
      "1407/1407 [==============================] - 18s 13ms/step - loss: 1.5044 - accuracy: 0.4662 - val_loss: 1.6781 - val_accuracy: 0.4188\n",
      "Epoch 7/100\n",
      "1407/1407 [==============================] - 18s 13ms/step - loss: 1.4612 - accuracy: 0.4795 - val_loss: 1.6511 - val_accuracy: 0.4182\n",
      "Epoch 8/100\n",
      "1407/1407 [==============================] - ETA: 0s - loss: 1.4210 - accuracy: 0.4934INFO:tensorflow:Assets written to: models\\my_cifar10_bn_model\\assets\n"
     ]
    },
    {
     "name": "stderr",
     "output_type": "stream",
     "text": [
      "INFO:tensorflow:Assets written to: models\\my_cifar10_bn_model\\assets\n"
     ]
    },
    {
     "name": "stdout",
     "output_type": "stream",
     "text": [
      "1407/1407 [==============================] - 26s 19ms/step - loss: 1.4210 - accuracy: 0.4934 - val_loss: 1.4967 - val_accuracy: 0.4772\n",
      "Epoch 9/100\n",
      "1407/1407 [==============================] - 18s 13ms/step - loss: 1.3855 - accuracy: 0.5087 - val_loss: 1.7432 - val_accuracy: 0.4072\n",
      "Epoch 10/100\n",
      "1407/1407 [==============================] - 22s 16ms/step - loss: 1.3576 - accuracy: 0.5185 - val_loss: 1.6357 - val_accuracy: 0.4290\n",
      "Epoch 11/100\n",
      "1405/1407 [============================>.] - ETA: 0s - loss: 1.3219 - accuracy: 0.5320INFO:tensorflow:Assets written to: models\\my_cifar10_bn_model\\assets\n"
     ]
    },
    {
     "name": "stderr",
     "output_type": "stream",
     "text": [
      "INFO:tensorflow:Assets written to: models\\my_cifar10_bn_model\\assets\n"
     ]
    },
    {
     "name": "stdout",
     "output_type": "stream",
     "text": [
      "1407/1407 [==============================] - 33s 24ms/step - loss: 1.3219 - accuracy: 0.5319 - val_loss: 1.4888 - val_accuracy: 0.4726\n",
      "Epoch 12/100\n",
      "1407/1407 [==============================] - 24s 17ms/step - loss: 1.3050 - accuracy: 0.5390 - val_loss: 1.5554 - val_accuracy: 0.4598\n",
      "Epoch 13/100\n",
      "1404/1407 [============================>.] - ETA: 0s - loss: 1.2795 - accuracy: 0.5462INFO:tensorflow:Assets written to: models\\my_cifar10_bn_model\\assets\n"
     ]
    },
    {
     "name": "stderr",
     "output_type": "stream",
     "text": [
      "INFO:tensorflow:Assets written to: models\\my_cifar10_bn_model\\assets\n"
     ]
    },
    {
     "name": "stdout",
     "output_type": "stream",
     "text": [
      "1407/1407 [==============================] - 36s 26ms/step - loss: 1.2795 - accuracy: 0.5463 - val_loss: 1.4762 - val_accuracy: 0.4926\n",
      "Epoch 14/100\n",
      "1407/1407 [==============================] - 24s 17ms/step - loss: 1.2544 - accuracy: 0.5544 - val_loss: 1.4872 - val_accuracy: 0.4952\n",
      "Epoch 15/100\n",
      "1407/1407 [==============================] - 25s 18ms/step - loss: 1.2312 - accuracy: 0.5644 - val_loss: 1.5565 - val_accuracy: 0.4692\n",
      "Epoch 16/100\n",
      "1407/1407 [==============================] - ETA: 0s - loss: 1.2088 - accuracy: 0.5720INFO:tensorflow:Assets written to: models\\my_cifar10_bn_model\\assets\n"
     ]
    },
    {
     "name": "stderr",
     "output_type": "stream",
     "text": [
      "INFO:tensorflow:Assets written to: models\\my_cifar10_bn_model\\assets\n"
     ]
    },
    {
     "name": "stdout",
     "output_type": "stream",
     "text": [
      "1407/1407 [==============================] - 34s 24ms/step - loss: 1.2088 - accuracy: 0.5720 - val_loss: 1.4546 - val_accuracy: 0.4994\n",
      "Epoch 17/100\n",
      "1407/1407 [==============================] - 24s 17ms/step - loss: 1.1891 - accuracy: 0.5791 - val_loss: 1.4624 - val_accuracy: 0.4852\n",
      "Epoch 18/100\n",
      "1405/1407 [============================>.] - ETA: 0s - loss: 1.1678 - accuracy: 0.5871INFO:tensorflow:Assets written to: models\\my_cifar10_bn_model\\assets\n"
     ]
    },
    {
     "name": "stderr",
     "output_type": "stream",
     "text": [
      "INFO:tensorflow:Assets written to: models\\my_cifar10_bn_model\\assets\n"
     ]
    },
    {
     "name": "stdout",
     "output_type": "stream",
     "text": [
      "1407/1407 [==============================] - 34s 24ms/step - loss: 1.1678 - accuracy: 0.5870 - val_loss: 1.4501 - val_accuracy: 0.4966\n",
      "Epoch 19/100\n",
      "1407/1407 [==============================] - 25s 18ms/step - loss: 1.1620 - accuracy: 0.5910 - val_loss: 1.4936 - val_accuracy: 0.4862\n",
      "Epoch 20/100\n",
      "1407/1407 [==============================] - 24s 17ms/step - loss: 1.1423 - accuracy: 0.5979 - val_loss: 1.4885 - val_accuracy: 0.4966\n",
      "Epoch 21/100\n",
      "1407/1407 [==============================] - 24s 17ms/step - loss: 1.1158 - accuracy: 0.6058 - val_loss: 1.5065 - val_accuracy: 0.5002\n",
      "Epoch 22/100\n",
      "1407/1407 [==============================] - 24s 17ms/step - loss: 1.1016 - accuracy: 0.6113 - val_loss: 1.5050 - val_accuracy: 0.4852\n",
      "Epoch 23/100\n",
      "1407/1407 [==============================] - 24s 17ms/step - loss: 1.0906 - accuracy: 0.6143 - val_loss: 1.4831 - val_accuracy: 0.5154\n",
      "Epoch 24/100\n",
      "1407/1407 [==============================] - 24s 17ms/step - loss: 1.0716 - accuracy: 0.6208 - val_loss: 1.5387 - val_accuracy: 0.4784\n",
      "Epoch 25/100\n",
      "1407/1407 [==============================] - 25s 17ms/step - loss: 1.0624 - accuracy: 0.6265 - val_loss: 1.5456 - val_accuracy: 0.4792\n",
      "Epoch 26/100\n",
      "1407/1407 [==============================] - 25s 18ms/step - loss: 1.0445 - accuracy: 0.6310 - val_loss: 1.6493 - val_accuracy: 0.4588\n",
      "Epoch 27/100\n",
      "1407/1407 [==============================] - 25s 18ms/step - loss: 1.0348 - accuracy: 0.6354 - val_loss: 1.4931 - val_accuracy: 0.5042\n",
      "Epoch 28/100\n",
      "1407/1407 [==============================] - 24s 17ms/step - loss: 1.0200 - accuracy: 0.6384 - val_loss: 1.5770 - val_accuracy: 0.4822\n",
      "Epoch 29/100\n",
      "1407/1407 [==============================] - 25s 18ms/step - loss: 1.0098 - accuracy: 0.6430 - val_loss: 1.5659 - val_accuracy: 0.4898\n",
      "Epoch 30/100\n",
      "1407/1407 [==============================] - 24s 17ms/step - loss: 0.9944 - accuracy: 0.6492 - val_loss: 1.5668 - val_accuracy: 0.4884\n",
      "Epoch 31/100\n",
      "1407/1407 [==============================] - 24s 17ms/step - loss: 0.9876 - accuracy: 0.6524 - val_loss: 1.5356 - val_accuracy: 0.4924\n",
      "Epoch 32/100\n",
      "1407/1407 [==============================] - 24s 17ms/step - loss: 0.9728 - accuracy: 0.6568 - val_loss: 1.6247 - val_accuracy: 0.4654\n",
      "Epoch 33/100\n",
      "1407/1407 [==============================] - 25s 18ms/step - loss: 0.9642 - accuracy: 0.6580 - val_loss: 1.6054 - val_accuracy: 0.4934\n",
      "Epoch 34/100\n",
      "1407/1407 [==============================] - 27s 19ms/step - loss: 0.9595 - accuracy: 0.6600 - val_loss: 1.6120 - val_accuracy: 0.4836\n",
      "Epoch 35/100\n",
      "1407/1407 [==============================] - 26s 18ms/step - loss: 0.9419 - accuracy: 0.6651 - val_loss: 1.5285 - val_accuracy: 0.4988\n",
      "Epoch 36/100\n",
      "1407/1407 [==============================] - 26s 18ms/step - loss: 0.9305 - accuracy: 0.6710 - val_loss: 1.6092 - val_accuracy: 0.4862\n",
      "Epoch 37/100\n",
      "1407/1407 [==============================] - 25s 18ms/step - loss: 0.9259 - accuracy: 0.6766 - val_loss: 1.6702 - val_accuracy: 0.4816\n",
      "Epoch 38/100\n",
      "1407/1407 [==============================] - 26s 18ms/step - loss: 0.9111 - accuracy: 0.6805 - val_loss: 1.6223 - val_accuracy: 0.4812\n"
     ]
    }
   ],
   "source": [
    "tf.random.set_seed(2024)\n",
    "\n",
    "\n",
    "model_bn = tf.keras.Sequential()\n",
    "model_bn.add(tf.keras.layers.Flatten(input_shape=[32, 32, 3]))\n",
    "for _ in range(20):\n",
    "    model_bn.add(tf.keras.layers.Dense(100, kernel_initializer=\"he_normal\"))\n",
    "    model_bn.add(tf.keras.layers.BatchNormalization())\n",
    "    model_bn.add(tf.keras.layers.Activation(\"swish\"))\n",
    "\n",
    "model_bn.add(tf.keras.layers.Dense(10, activation=\"softmax\"))\n",
    "\n",
    "optimizer = tf.keras.optimizers.Nadam(learning_rate=0.0005)\n",
    "model_bn.compile(loss=\"sparse_categorical_crossentropy\",\n",
    "              optimizer=optimizer,\n",
    "              metrics=[\"accuracy\"])\n",
    "\n",
    "early_stopping_cb = tf.keras.callbacks.EarlyStopping(patience=20,\n",
    "                                                     restore_best_weights=True)\n",
    "model_checkpoint_cb = tf.keras.callbacks.ModelCheckpoint(\"models/my_cifar10_bn_model\",\n",
    "                                                         save_best_only=True)\n",
    "run_index = 1 # increment every time you train the model\n",
    "run_logdir = Path('logs') / \"my_cifar10_logs\" / f\"run_bn_{run_index:03d}\"\n",
    "tensorboard_cb = tf.keras.callbacks.TensorBoard(run_logdir)\n",
    "callbacks = [early_stopping_cb, model_checkpoint_cb, tensorboard_cb]\n",
    "\n",
    "history_batch_norm = model_bn.fit(X_train, y_train, epochs=100,\n",
    "          validation_data=(X_valid, y_valid),\n",
    "          callbacks=callbacks)\n",
    "\n",
    "\n"
   ]
  },
  {
   "cell_type": "markdown",
   "metadata": {},
   "source": [
    "Evaluate the model"
   ]
  },
  {
   "cell_type": "code",
   "execution_count": 13,
   "metadata": {},
   "outputs": [
    {
     "name": "stdout",
     "output_type": "stream",
     "text": [
      "157/157 [==============================] - 1s 5ms/step - loss: 1.4501 - accuracy: 0.4966\n"
     ]
    },
    {
     "data": {
      "text/plain": [
       "[1.4500573873519897, 0.4966000020503998]"
      ]
     },
     "execution_count": 13,
     "metadata": {},
     "output_type": "execute_result"
    }
   ],
   "source": [
    "model_bn.evaluate(X_valid, y_valid)"
   ]
  },
  {
   "cell_type": "markdown",
   "metadata": {},
   "source": [
    "# Replace Batch norm with SELU activation function"
   ]
  },
  {
   "cell_type": "code",
   "execution_count": 14,
   "metadata": {},
   "outputs": [
    {
     "name": "stdout",
     "output_type": "stream",
     "text": [
      "Epoch 1/100\n",
      "1403/1407 [============================>.] - ETA: 0s - loss: 1.9178 - accuracy: 0.3114INFO:tensorflow:Assets written to: models\\my_cifar10_selu_model\\assets\n"
     ]
    },
    {
     "name": "stderr",
     "output_type": "stream",
     "text": [
      "INFO:tensorflow:Assets written to: models\\my_cifar10_selu_model\\assets\n"
     ]
    },
    {
     "name": "stdout",
     "output_type": "stream",
     "text": [
      "1407/1407 [==============================] - 26s 12ms/step - loss: 1.9172 - accuracy: 0.3117 - val_loss: 1.8014 - val_accuracy: 0.3672\n",
      "Epoch 2/100\n",
      "1404/1407 [============================>.] - ETA: 0s - loss: 1.7042 - accuracy: 0.3966INFO:tensorflow:Assets written to: models\\my_cifar10_selu_model\\assets\n"
     ]
    },
    {
     "name": "stderr",
     "output_type": "stream",
     "text": [
      "INFO:tensorflow:Assets written to: models\\my_cifar10_selu_model\\assets\n"
     ]
    },
    {
     "name": "stdout",
     "output_type": "stream",
     "text": [
      "1407/1407 [==============================] - 18s 12ms/step - loss: 1.7039 - accuracy: 0.3967 - val_loss: 1.6758 - val_accuracy: 0.3860\n",
      "Epoch 3/100\n",
      "1406/1407 [============================>.] - ETA: 0s - loss: 1.6093 - accuracy: 0.4337INFO:tensorflow:Assets written to: models\\my_cifar10_selu_model\\assets\n"
     ]
    },
    {
     "name": "stderr",
     "output_type": "stream",
     "text": [
      "INFO:tensorflow:Assets written to: models\\my_cifar10_selu_model\\assets\n"
     ]
    },
    {
     "name": "stdout",
     "output_type": "stream",
     "text": [
      "1407/1407 [==============================] - 17s 12ms/step - loss: 1.6092 - accuracy: 0.4337 - val_loss: 1.6078 - val_accuracy: 0.4474\n",
      "Epoch 4/100\n",
      "1407/1407 [==============================] - ETA: 0s - loss: 1.5503 - accuracy: 0.4577INFO:tensorflow:Assets written to: models\\my_cifar10_selu_model\\assets\n"
     ]
    },
    {
     "name": "stderr",
     "output_type": "stream",
     "text": [
      "INFO:tensorflow:Assets written to: models\\my_cifar10_selu_model\\assets\n"
     ]
    },
    {
     "name": "stdout",
     "output_type": "stream",
     "text": [
      "1407/1407 [==============================] - 17s 12ms/step - loss: 1.5503 - accuracy: 0.4577 - val_loss: 1.6075 - val_accuracy: 0.4434\n",
      "Epoch 5/100\n",
      "1406/1407 [============================>.] - ETA: 0s - loss: 1.4913 - accuracy: 0.4764INFO:tensorflow:Assets written to: models\\my_cifar10_selu_model\\assets\n"
     ]
    },
    {
     "name": "stderr",
     "output_type": "stream",
     "text": [
      "INFO:tensorflow:Assets written to: models\\my_cifar10_selu_model\\assets\n"
     ]
    },
    {
     "name": "stdout",
     "output_type": "stream",
     "text": [
      "1407/1407 [==============================] - 18s 13ms/step - loss: 1.4913 - accuracy: 0.4764 - val_loss: 1.5727 - val_accuracy: 0.4430\n",
      "Epoch 6/100\n",
      "1402/1407 [============================>.] - ETA: 0s - loss: 1.4438 - accuracy: 0.4954INFO:tensorflow:Assets written to: models\\my_cifar10_selu_model\\assets\n"
     ]
    },
    {
     "name": "stderr",
     "output_type": "stream",
     "text": [
      "INFO:tensorflow:Assets written to: models\\my_cifar10_selu_model\\assets\n"
     ]
    },
    {
     "name": "stdout",
     "output_type": "stream",
     "text": [
      "1407/1407 [==============================] - 18s 13ms/step - loss: 1.4440 - accuracy: 0.4954 - val_loss: 1.5566 - val_accuracy: 0.4520\n",
      "Epoch 7/100\n",
      "1405/1407 [============================>.] - ETA: 0s - loss: 1.4085 - accuracy: 0.5073INFO:tensorflow:Assets written to: models\\my_cifar10_selu_model\\assets\n"
     ]
    },
    {
     "name": "stderr",
     "output_type": "stream",
     "text": [
      "INFO:tensorflow:Assets written to: models\\my_cifar10_selu_model\\assets\n"
     ]
    },
    {
     "name": "stdout",
     "output_type": "stream",
     "text": [
      "1407/1407 [==============================] - 20s 14ms/step - loss: 1.4086 - accuracy: 0.5072 - val_loss: 1.5281 - val_accuracy: 0.4746\n",
      "Epoch 8/100\n",
      "1403/1407 [============================>.] - ETA: 0s - loss: 1.3762 - accuracy: 0.5204INFO:tensorflow:Assets written to: models\\my_cifar10_selu_model\\assets\n"
     ]
    },
    {
     "name": "stderr",
     "output_type": "stream",
     "text": [
      "INFO:tensorflow:Assets written to: models\\my_cifar10_selu_model\\assets\n"
     ]
    },
    {
     "name": "stdout",
     "output_type": "stream",
     "text": [
      "1407/1407 [==============================] - 20s 14ms/step - loss: 1.3760 - accuracy: 0.5206 - val_loss: 1.5219 - val_accuracy: 0.4834\n",
      "Epoch 9/100\n",
      "1407/1407 [==============================] - 16s 11ms/step - loss: 1.3292 - accuracy: 0.5361 - val_loss: 1.5330 - val_accuracy: 0.4814\n",
      "Epoch 10/100\n",
      "1403/1407 [============================>.] - ETA: 0s - loss: 1.3042 - accuracy: 0.5454INFO:tensorflow:Assets written to: models\\my_cifar10_selu_model\\assets\n"
     ]
    },
    {
     "name": "stderr",
     "output_type": "stream",
     "text": [
      "INFO:tensorflow:Assets written to: models\\my_cifar10_selu_model\\assets\n"
     ]
    },
    {
     "name": "stdout",
     "output_type": "stream",
     "text": [
      "1407/1407 [==============================] - 15s 11ms/step - loss: 1.3044 - accuracy: 0.5453 - val_loss: 1.4950 - val_accuracy: 0.4850\n",
      "Epoch 11/100\n",
      "1407/1407 [==============================] - 15s 11ms/step - loss: 1.2719 - accuracy: 0.5602 - val_loss: 1.4971 - val_accuracy: 0.4930\n",
      "Epoch 12/100\n",
      "1403/1407 [============================>.] - ETA: 0s - loss: 1.2497 - accuracy: 0.5687INFO:tensorflow:Assets written to: models\\my_cifar10_selu_model\\assets\n"
     ]
    },
    {
     "name": "stderr",
     "output_type": "stream",
     "text": [
      "INFO:tensorflow:Assets written to: models\\my_cifar10_selu_model\\assets\n"
     ]
    },
    {
     "name": "stdout",
     "output_type": "stream",
     "text": [
      "1407/1407 [==============================] - 20s 14ms/step - loss: 1.2501 - accuracy: 0.5686 - val_loss: 1.4908 - val_accuracy: 0.4994\n",
      "Epoch 13/100\n",
      "1407/1407 [==============================] - 13s 10ms/step - loss: 1.2211 - accuracy: 0.5774 - val_loss: 1.4959 - val_accuracy: 0.5014\n",
      "Epoch 14/100\n",
      "1403/1407 [============================>.] - ETA: 0s - loss: 1.1982 - accuracy: 0.5877INFO:tensorflow:Assets written to: models\\my_cifar10_selu_model\\assets\n"
     ]
    },
    {
     "name": "stderr",
     "output_type": "stream",
     "text": [
      "INFO:tensorflow:Assets written to: models\\my_cifar10_selu_model\\assets\n"
     ]
    },
    {
     "name": "stdout",
     "output_type": "stream",
     "text": [
      "1407/1407 [==============================] - 16s 12ms/step - loss: 1.1985 - accuracy: 0.5876 - val_loss: 1.4724 - val_accuracy: 0.5112\n",
      "Epoch 15/100\n",
      "1407/1407 [==============================] - 15s 11ms/step - loss: 1.1728 - accuracy: 0.5939 - val_loss: 1.5046 - val_accuracy: 0.5060\n",
      "Epoch 16/100\n",
      "1407/1407 [==============================] - 16s 11ms/step - loss: 1.1481 - accuracy: 0.6037 - val_loss: 1.5926 - val_accuracy: 0.5004\n",
      "Epoch 17/100\n",
      "1407/1407 [==============================] - 16s 11ms/step - loss: 1.1203 - accuracy: 0.6115 - val_loss: 1.5187 - val_accuracy: 0.5058\n",
      "Epoch 18/100\n",
      "1407/1407 [==============================] - 16s 12ms/step - loss: 1.1089 - accuracy: 0.6178 - val_loss: 1.5688 - val_accuracy: 0.5016\n",
      "Epoch 19/100\n",
      "1407/1407 [==============================] - 15s 11ms/step - loss: 1.0887 - accuracy: 0.6254 - val_loss: 1.5369 - val_accuracy: 0.5006\n",
      "Epoch 20/100\n",
      "1407/1407 [==============================] - 14s 10ms/step - loss: 1.0659 - accuracy: 0.6356 - val_loss: 1.5978 - val_accuracy: 0.5004\n",
      "Epoch 21/100\n",
      "1407/1407 [==============================] - 14s 10ms/step - loss: 1.0508 - accuracy: 0.6428 - val_loss: 1.5436 - val_accuracy: 0.4996\n",
      "Epoch 22/100\n",
      "1407/1407 [==============================] - 14s 10ms/step - loss: 1.0337 - accuracy: 0.6476 - val_loss: 1.5589 - val_accuracy: 0.5040\n",
      "Epoch 23/100\n",
      "1407/1407 [==============================] - 13s 9ms/step - loss: 2.3224 - accuracy: 0.5149 - val_loss: 1.5708 - val_accuracy: 0.4580\n",
      "Epoch 24/100\n",
      "1407/1407 [==============================] - 13s 9ms/step - loss: 1.2329 - accuracy: 0.5634 - val_loss: 1.5573 - val_accuracy: 0.4736\n",
      "Epoch 25/100\n",
      "1407/1407 [==============================] - 14s 10ms/step - loss: 1.1666 - accuracy: 0.5919 - val_loss: 1.5139 - val_accuracy: 0.4932\n",
      "Epoch 26/100\n",
      "1407/1407 [==============================] - 17s 12ms/step - loss: 1.1193 - accuracy: 0.6099 - val_loss: 1.5392 - val_accuracy: 0.4954\n",
      "Epoch 27/100\n",
      "1407/1407 [==============================] - 13s 10ms/step - loss: 1.0815 - accuracy: 0.6257 - val_loss: 1.6070 - val_accuracy: 0.4978\n",
      "Epoch 28/100\n",
      "1407/1407 [==============================] - 15s 11ms/step - loss: 1.0515 - accuracy: 0.6345 - val_loss: 1.5435 - val_accuracy: 0.4978\n",
      "Epoch 29/100\n",
      "1407/1407 [==============================] - 13s 9ms/step - loss: 1.0258 - accuracy: 0.6456 - val_loss: 1.6020 - val_accuracy: 0.5000\n",
      "Epoch 30/100\n",
      "1407/1407 [==============================] - 13s 9ms/step - loss: 1.0080 - accuracy: 0.6540 - val_loss: 1.5820 - val_accuracy: 0.5008\n",
      "Epoch 31/100\n",
      "1407/1407 [==============================] - 13s 10ms/step - loss: 0.9832 - accuracy: 0.6619 - val_loss: 1.5859 - val_accuracy: 0.4966\n",
      "Epoch 32/100\n",
      "1407/1407 [==============================] - 13s 9ms/step - loss: 0.9717 - accuracy: 0.6672 - val_loss: 1.5689 - val_accuracy: 0.5066\n",
      "Epoch 33/100\n",
      "1407/1407 [==============================] - 15s 11ms/step - loss: 0.9549 - accuracy: 0.6737 - val_loss: 1.5760 - val_accuracy: 0.5102\n",
      "Epoch 34/100\n",
      "1407/1407 [==============================] - 13s 9ms/step - loss: 0.9483 - accuracy: 0.6777 - val_loss: 1.5492 - val_accuracy: 0.5054\n"
     ]
    }
   ],
   "source": [
    "tf.random.set_seed(2024)\n",
    "\n",
    "model_selu = tf.keras.Sequential()\n",
    "model_selu.add(tf.keras.layers.Flatten(input_shape=[32, 32, 3]))\n",
    "for _ in range(20):\n",
    "    model_selu.add(tf.keras.layers.Dense(100,\n",
    "                                    kernel_initializer=\"lecun_normal\",\n",
    "                                    activation=\"selu\"))\n",
    "\n",
    "model_selu.add(tf.keras.layers.Dense(10, activation=\"softmax\"))\n",
    "\n",
    "optimizer = tf.keras.optimizers.Nadam(learning_rate=7e-4)\n",
    "model_selu.compile(loss=\"sparse_categorical_crossentropy\",\n",
    "              optimizer=optimizer,\n",
    "              metrics=[\"accuracy\"])\n",
    "\n",
    "early_stopping_cb = tf.keras.callbacks.EarlyStopping(\n",
    "    patience=20, restore_best_weights=True)\n",
    "model_checkpoint_cb = tf.keras.callbacks.ModelCheckpoint(\n",
    "    \"models/my_cifar10_selu_model\", save_best_only=True)\n",
    "run_index = 1 # increment every time you train the model\n",
    "run_logdir = Path('logs') / \"my_cifar10_logs\" / f\"run_selu_{run_index:03d}\"\n",
    "tensorboard_cb = tf.keras.callbacks.TensorBoard(run_logdir)\n",
    "callbacks = [early_stopping_cb, model_checkpoint_cb, tensorboard_cb]\n",
    "\n",
    "X_means = X_train.mean(axis=0)\n",
    "X_stds = X_train.std(axis=0)\n",
    "X_train_scaled = (X_train - X_means) / X_stds\n",
    "X_valid_scaled = (X_valid - X_means) / X_stds\n",
    "X_test_scaled = (X_test - X_means) / X_stds\n",
    "\n",
    "history_selu = model_selu.fit(X_train_scaled, y_train, epochs=100,\n",
    "          validation_data=(X_valid_scaled, y_valid),\n",
    "          callbacks=callbacks)\n"
   ]
  },
  {
   "cell_type": "code",
   "execution_count": 15,
   "metadata": {},
   "outputs": [
    {
     "name": "stdout",
     "output_type": "stream",
     "text": [
      "157/157 [==============================] - 1s 4ms/step - loss: 1.4724 - accuracy: 0.5112\n"
     ]
    },
    {
     "data": {
      "text/plain": [
       "[1.4724277257919312, 0.5112000107765198]"
      ]
     },
     "execution_count": 15,
     "metadata": {},
     "output_type": "execute_result"
    }
   ],
   "source": [
    "model_selu.evaluate(X_valid_scaled, y_valid)"
   ]
  },
  {
   "cell_type": "code",
   "execution_count": null,
   "metadata": {},
   "outputs": [],
   "source": []
  }
 ],
 "metadata": {
  "kernelspec": {
   "display_name": ".venv",
   "language": "python",
   "name": "python3"
  },
  "language_info": {
   "codemirror_mode": {
    "name": "ipython",
    "version": 3
   },
   "file_extension": ".py",
   "mimetype": "text/x-python",
   "name": "python",
   "nbconvert_exporter": "python",
   "pygments_lexer": "ipython3",
   "version": "3.10.11"
  }
 },
 "nbformat": 4,
 "nbformat_minor": 2
}
