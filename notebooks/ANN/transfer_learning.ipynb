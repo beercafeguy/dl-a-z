{
 "cells": [
  {
   "cell_type": "code",
   "execution_count": 1,
   "metadata": {},
   "outputs": [],
   "source": [
    "import pandas as pd\n",
    "import numpy as np\n",
    "import matplotlib.pyplot as plt\n",
    "\n",
    "\n",
    "import tensorflow as tf"
   ]
  },
  {
   "cell_type": "code",
   "execution_count": 2,
   "metadata": {},
   "outputs": [],
   "source": [
    "class_names = [\"T-shirt/top\", \"Trouser\", \"Pullover\", \"Dress\", \"Coat\",\n",
    "               \"Sandal\", \"Shirt\", \"Sneaker\", \"Bag\", \"Ankle boot\"]"
   ]
  },
  {
   "cell_type": "code",
   "execution_count": 3,
   "metadata": {},
   "outputs": [],
   "source": [
    "fashion_mnist = tf.keras.datasets.fashion_mnist.load_data()\n",
    "(X_train_full, y_train_full), (X_test, y_test) = fashion_mnist\n",
    "X_train, y_train = X_train_full[:-5000], y_train_full[:-5000]\n",
    "X_valid, y_valid = X_train_full[-5000:], y_train_full[-5000:]"
   ]
  },
  {
   "cell_type": "code",
   "execution_count": 4,
   "metadata": {},
   "outputs": [],
   "source": [
    "X_train, X_valid, X_test = X_train / 255, X_valid / 255, X_test / 255"
   ]
  },
  {
   "cell_type": "code",
   "execution_count": 5,
   "metadata": {},
   "outputs": [],
   "source": [
    "# will train a separate model for below two classes\n",
    "pos_class_id = class_names.index(\"Pullover\") \n",
    "neg_class_id = class_names.index(\"T-shirt/top\")\n",
    "\n",
    "def split_dataset(X, y):\n",
    "    y_for_B = (y == pos_class_id) | (y == neg_class_id)\n",
    "    y_A = y[~y_for_B]\n",
    "    y_B = (y[y_for_B] == pos_class_id).astype(np.float32)\n",
    "    old_class_ids = list(set(range(10)) - set([neg_class_id, pos_class_id]))\n",
    "    for old_class_id, new_class_id in zip(old_class_ids, range(8)):\n",
    "        y_A[y_A == old_class_id] = new_class_id  # reorder class ids for A\n",
    "    return ((X[~y_for_B], y_A), (X[y_for_B], y_B))\n",
    "\n",
    "(X_train_A, y_train_A), (X_train_B, y_train_B) = split_dataset(X_train, y_train)\n",
    "(X_valid_A, y_valid_A), (X_valid_B, y_valid_B) = split_dataset(X_valid, y_valid)\n",
    "(X_test_A, y_test_A), (X_test_B, y_test_B) = split_dataset(X_test, y_test)\n",
    "\n",
    "X_train_B = X_train_B[:200]\n",
    "y_train_B = y_train_B[:200]\n"
   ]
  },
  {
   "cell_type": "markdown",
   "metadata": {},
   "source": [
    "# Train model A with 8 classes"
   ]
  },
  {
   "cell_type": "code",
   "execution_count": 6,
   "metadata": {},
   "outputs": [
    {
     "name": "stdout",
     "output_type": "stream",
     "text": [
      "Epoch 1/20\n",
      "1376/1376 [==============================] - 3s 2ms/step - loss: 1.1611 - accuracy: 0.6301 - val_loss: 0.6947 - val_accuracy: 0.7533\n",
      "Epoch 2/20\n",
      "1376/1376 [==============================] - 2s 2ms/step - loss: 0.6135 - accuracy: 0.7802 - val_loss: 0.5304 - val_accuracy: 0.8195\n",
      "Epoch 3/20\n",
      "1376/1376 [==============================] - 3s 2ms/step - loss: 0.5018 - accuracy: 0.8329 - val_loss: 0.4542 - val_accuracy: 0.8526\n",
      "Epoch 4/20\n",
      "1376/1376 [==============================] - 3s 2ms/step - loss: 0.4400 - accuracy: 0.8578 - val_loss: 0.4100 - val_accuracy: 0.8634\n",
      "Epoch 5/20\n",
      "1376/1376 [==============================] - 3s 2ms/step - loss: 0.4004 - accuracy: 0.8683 - val_loss: 0.3824 - val_accuracy: 0.8719\n",
      "Epoch 6/20\n",
      "1376/1376 [==============================] - 4s 3ms/step - loss: 0.3737 - accuracy: 0.8755 - val_loss: 0.3652 - val_accuracy: 0.8734\n",
      "Epoch 7/20\n",
      "1376/1376 [==============================] - 3s 2ms/step - loss: 0.3535 - accuracy: 0.8811 - val_loss: 0.3499 - val_accuracy: 0.8819\n",
      "Epoch 8/20\n",
      "1376/1376 [==============================] - 3s 2ms/step - loss: 0.3382 - accuracy: 0.8845 - val_loss: 0.3343 - val_accuracy: 0.8852\n",
      "Epoch 9/20\n",
      "1376/1376 [==============================] - 3s 2ms/step - loss: 0.3251 - accuracy: 0.8902 - val_loss: 0.3263 - val_accuracy: 0.8864\n",
      "Epoch 10/20\n",
      "1376/1376 [==============================] - 4s 3ms/step - loss: 0.3156 - accuracy: 0.8920 - val_loss: 0.3173 - val_accuracy: 0.8887\n",
      "Epoch 11/20\n",
      "1376/1376 [==============================] - 4s 3ms/step - loss: 0.3065 - accuracy: 0.8955 - val_loss: 0.3102 - val_accuracy: 0.8899\n",
      "Epoch 12/20\n",
      "1376/1376 [==============================] - 4s 3ms/step - loss: 0.2991 - accuracy: 0.8976 - val_loss: 0.3131 - val_accuracy: 0.8912\n",
      "Epoch 13/20\n",
      "1376/1376 [==============================] - 4s 3ms/step - loss: 0.2922 - accuracy: 0.9002 - val_loss: 0.2990 - val_accuracy: 0.8947\n",
      "Epoch 14/20\n",
      "1376/1376 [==============================] - 4s 3ms/step - loss: 0.2864 - accuracy: 0.9020 - val_loss: 0.2957 - val_accuracy: 0.8950\n",
      "Epoch 15/20\n",
      "1376/1376 [==============================] - 3s 2ms/step - loss: 0.2810 - accuracy: 0.9037 - val_loss: 0.2942 - val_accuracy: 0.8960\n",
      "Epoch 16/20\n",
      "1376/1376 [==============================] - 3s 2ms/step - loss: 0.2765 - accuracy: 0.9050 - val_loss: 0.2863 - val_accuracy: 0.9007\n",
      "Epoch 17/20\n",
      "1376/1376 [==============================] - 4s 3ms/step - loss: 0.2718 - accuracy: 0.9060 - val_loss: 0.2867 - val_accuracy: 0.8997\n",
      "Epoch 18/20\n",
      "1376/1376 [==============================] - 4s 3ms/step - loss: 0.2677 - accuracy: 0.9071 - val_loss: 0.2841 - val_accuracy: 0.9025\n",
      "Epoch 19/20\n",
      "1376/1376 [==============================] - 3s 2ms/step - loss: 0.2636 - accuracy: 0.9097 - val_loss: 0.2787 - val_accuracy: 0.9020\n",
      "Epoch 20/20\n",
      "1376/1376 [==============================] - 4s 3ms/step - loss: 0.2604 - accuracy: 0.9102 - val_loss: 0.2745 - val_accuracy: 0.9047\n"
     ]
    }
   ],
   "source": [
    "tf.random.set_seed(2024)\n",
    "model_A = tf.keras.Sequential([\n",
    "    tf.keras.layers.Flatten(input_shape=[28, 28]),\n",
    "    tf.keras.layers.Dense(100, activation=\"relu\",\n",
    "                          kernel_initializer=\"he_normal\"),\n",
    "    tf.keras.layers.Dense(100, activation=\"relu\",\n",
    "                          kernel_initializer=\"he_normal\"),\n",
    "    tf.keras.layers.Dense(100, activation=\"relu\",\n",
    "                          kernel_initializer=\"he_normal\"),\n",
    "    tf.keras.layers.Dense(8, activation=\"softmax\")\n",
    "])\n",
    "\n",
    "model_A.compile(loss=\"sparse_categorical_crossentropy\",\n",
    "                optimizer=tf.keras.optimizers.SGD(learning_rate=0.001),\n",
    "                metrics=[\"accuracy\"])\n",
    "history = model_A.fit(X_train_A, y_train_A, epochs=20,\n",
    "                      validation_data=(X_valid_A, y_valid_A))\n",
    "model_A.save(\"models/transfer_learn/model_A/model_A.keras\")"
   ]
  },
  {
   "cell_type": "markdown",
   "metadata": {},
   "source": [
    "# Train model B without transfer learning"
   ]
  },
  {
   "cell_type": "code",
   "execution_count": 7,
   "metadata": {},
   "outputs": [
    {
     "name": "stdout",
     "output_type": "stream",
     "text": [
      "Epoch 1/20\n",
      "7/7 [==============================] - 1s 36ms/step - loss: 0.6320 - accuracy: 0.5900 - val_loss: 0.6231 - val_accuracy: 0.5905\n",
      "Epoch 2/20\n",
      "7/7 [==============================] - 0s 15ms/step - loss: 0.5943 - accuracy: 0.6500 - val_loss: 0.5884 - val_accuracy: 0.7181\n",
      "Epoch 3/20\n",
      "7/7 [==============================] - 0s 14ms/step - loss: 0.5614 - accuracy: 0.7700 - val_loss: 0.5649 - val_accuracy: 0.7913\n",
      "Epoch 4/20\n",
      "7/7 [==============================] - 0s 13ms/step - loss: 0.5393 - accuracy: 0.8650 - val_loss: 0.5450 - val_accuracy: 0.8457\n",
      "Epoch 5/20\n",
      "7/7 [==============================] - 0s 21ms/step - loss: 0.5196 - accuracy: 0.9150 - val_loss: 0.5302 - val_accuracy: 0.8625\n",
      "Epoch 6/20\n",
      "7/7 [==============================] - 0s 13ms/step - loss: 0.5045 - accuracy: 0.9250 - val_loss: 0.5156 - val_accuracy: 0.8853\n",
      "Epoch 7/20\n",
      "7/7 [==============================] - 0s 14ms/step - loss: 0.4900 - accuracy: 0.9500 - val_loss: 0.5020 - val_accuracy: 0.9041\n",
      "Epoch 8/20\n",
      "7/7 [==============================] - 0s 13ms/step - loss: 0.4766 - accuracy: 0.9450 - val_loss: 0.4906 - val_accuracy: 0.9100\n",
      "Epoch 9/20\n",
      "7/7 [==============================] - 0s 13ms/step - loss: 0.4645 - accuracy: 0.9550 - val_loss: 0.4794 - val_accuracy: 0.9189\n",
      "Epoch 10/20\n",
      "7/7 [==============================] - 0s 13ms/step - loss: 0.4528 - accuracy: 0.9550 - val_loss: 0.4693 - val_accuracy: 0.9209\n",
      "Epoch 11/20\n",
      "7/7 [==============================] - 0s 13ms/step - loss: 0.4419 - accuracy: 0.9550 - val_loss: 0.4591 - val_accuracy: 0.9258\n",
      "Epoch 12/20\n",
      "7/7 [==============================] - 0s 14ms/step - loss: 0.4321 - accuracy: 0.9550 - val_loss: 0.4496 - val_accuracy: 0.9318\n",
      "Epoch 13/20\n",
      "7/7 [==============================] - 0s 14ms/step - loss: 0.4216 - accuracy: 0.9550 - val_loss: 0.4402 - val_accuracy: 0.9357\n",
      "Epoch 14/20\n",
      "7/7 [==============================] - 0s 13ms/step - loss: 0.4120 - accuracy: 0.9600 - val_loss: 0.4315 - val_accuracy: 0.9357\n",
      "Epoch 15/20\n",
      "7/7 [==============================] - 0s 14ms/step - loss: 0.4029 - accuracy: 0.9600 - val_loss: 0.4231 - val_accuracy: 0.9367\n",
      "Epoch 16/20\n",
      "7/7 [==============================] - 0s 13ms/step - loss: 0.3941 - accuracy: 0.9650 - val_loss: 0.4150 - val_accuracy: 0.9377\n",
      "Epoch 17/20\n",
      "7/7 [==============================] - 0s 15ms/step - loss: 0.3855 - accuracy: 0.9600 - val_loss: 0.4070 - val_accuracy: 0.9407\n",
      "Epoch 18/20\n",
      "7/7 [==============================] - 0s 13ms/step - loss: 0.3775 - accuracy: 0.9600 - val_loss: 0.3996 - val_accuracy: 0.9397\n",
      "Epoch 19/20\n",
      "7/7 [==============================] - 0s 12ms/step - loss: 0.3697 - accuracy: 0.9600 - val_loss: 0.3923 - val_accuracy: 0.9416\n",
      "Epoch 20/20\n",
      "7/7 [==============================] - 0s 12ms/step - loss: 0.3621 - accuracy: 0.9600 - val_loss: 0.3859 - val_accuracy: 0.9426\n",
      "63/63 [==============================] - 0s 2ms/step - loss: 0.3969 - accuracy: 0.9225\n"
     ]
    },
    {
     "data": {
      "text/plain": [
       "[0.3968988060951233, 0.9225000143051147]"
      ]
     },
     "execution_count": 7,
     "metadata": {},
     "output_type": "execute_result"
    }
   ],
   "source": [
    "tf.random.set_seed(2024)\n",
    "model_B = tf.keras.Sequential([\n",
    "    tf.keras.layers.Flatten(input_shape=[28, 28]),\n",
    "    tf.keras.layers.Dense(100, activation=\"relu\",\n",
    "                          kernel_initializer=\"he_normal\"),\n",
    "    tf.keras.layers.Dense(100, activation=\"relu\",\n",
    "                          kernel_initializer=\"he_normal\"),\n",
    "    tf.keras.layers.Dense(100, activation=\"relu\",\n",
    "                          kernel_initializer=\"he_normal\"),\n",
    "    tf.keras.layers.Dense(1, activation=\"sigmoid\")\n",
    "])\n",
    "\n",
    "model_B.compile(loss=\"binary_crossentropy\",\n",
    "                optimizer=tf.keras.optimizers.SGD(learning_rate=0.001),\n",
    "                metrics=[\"accuracy\"])\n",
    "history = model_B.fit(X_train_B, y_train_B, epochs=20,\n",
    "                      validation_data=(X_valid_B, y_valid_B))\n",
    "model_B.evaluate(X_test_B, y_test_B)"
   ]
  },
  {
   "cell_type": "markdown",
   "metadata": {},
   "source": [
    "# Train model B with transfer learning"
   ]
  },
  {
   "cell_type": "markdown",
   "metadata": {},
   "source": [
    "## Clone model A"
   ]
  },
  {
   "cell_type": "code",
   "execution_count": 9,
   "metadata": {},
   "outputs": [],
   "source": [
    "tf.random.set_seed(2024)\n",
    "\n",
    "model_A = tf.keras.models.load_model('models/transfer_learn/model_A/model_A.keras')\n",
    "model_A_clone = tf.keras.models.clone_model(model_A)\n",
    "model_A_clone.set_weights(model_A.get_weights())"
   ]
  },
  {
   "cell_type": "code",
   "execution_count": 10,
   "metadata": {},
   "outputs": [],
   "source": [
    "model_B_on_A = tf.keras.Sequential(model_A_clone.layers[:-1]) # all layers except last\n",
    "model_B_on_A.add(tf.keras.layers.Dense(1, activation=\"sigmoid\")) # change activation func in last layer "
   ]
  },
  {
   "cell_type": "markdown",
   "metadata": {},
   "source": [
    "## Freeze layers"
   ]
  },
  {
   "cell_type": "code",
   "execution_count": 11,
   "metadata": {},
   "outputs": [],
   "source": [
    "for layer in model_B_on_A.layers[:-1]:\n",
    "    layer.trainable = False"
   ]
  },
  {
   "cell_type": "code",
   "execution_count": 12,
   "metadata": {},
   "outputs": [],
   "source": [
    "optimizer = tf.keras.optimizers.SGD(learning_rate=0.001)\n",
    "model_B_on_A.compile(loss=\"binary_crossentropy\", optimizer=optimizer,\n",
    "                     metrics=[\"accuracy\"])"
   ]
  },
  {
   "cell_type": "code",
   "execution_count": 13,
   "metadata": {},
   "outputs": [
    {
     "name": "stdout",
     "output_type": "stream",
     "text": [
      "Epoch 1/4\n",
      "7/7 [==============================] - 1s 34ms/step - loss: 0.9463 - accuracy: 0.2650 - val_loss: 0.8734 - val_accuracy: 0.2918\n",
      "Epoch 2/4\n",
      "7/7 [==============================] - 0s 14ms/step - loss: 0.9297 - accuracy: 0.2550 - val_loss: 0.8494 - val_accuracy: 0.3066\n",
      "Epoch 3/4\n",
      "7/7 [==============================] - 0s 14ms/step - loss: 0.9040 - accuracy: 0.2550 - val_loss: 0.8355 - val_accuracy: 0.3304\n",
      "Epoch 4/4\n",
      "7/7 [==============================] - 0s 12ms/step - loss: 0.8870 - accuracy: 0.2650 - val_loss: 0.8163 - val_accuracy: 0.3462\n",
      "Epoch 1/16\n",
      "7/7 [==============================] - 1s 32ms/step - loss: 0.8633 - accuracy: 0.2850 - val_loss: 0.8045 - val_accuracy: 0.3759\n",
      "Epoch 2/16\n",
      "7/7 [==============================] - 0s 13ms/step - loss: 0.8503 - accuracy: 0.3150 - val_loss: 0.7914 - val_accuracy: 0.3937\n",
      "Epoch 3/16\n",
      "7/7 [==============================] - 0s 13ms/step - loss: 0.8347 - accuracy: 0.3350 - val_loss: 0.7797 - val_accuracy: 0.4085\n",
      "Epoch 4/16\n",
      "7/7 [==============================] - 0s 13ms/step - loss: 0.8215 - accuracy: 0.3500 - val_loss: 0.7674 - val_accuracy: 0.4313\n",
      "Epoch 5/16\n",
      "7/7 [==============================] - 0s 13ms/step - loss: 0.8069 - accuracy: 0.3750 - val_loss: 0.7572 - val_accuracy: 0.4471\n",
      "Epoch 6/16\n",
      "7/7 [==============================] - 0s 13ms/step - loss: 0.7945 - accuracy: 0.3750 - val_loss: 0.7450 - val_accuracy: 0.4679\n",
      "Epoch 7/16\n",
      "7/7 [==============================] - 0s 13ms/step - loss: 0.7813 - accuracy: 0.4050 - val_loss: 0.7328 - val_accuracy: 0.4955\n",
      "Epoch 8/16\n",
      "7/7 [==============================] - 0s 13ms/step - loss: 0.7692 - accuracy: 0.4400 - val_loss: 0.7228 - val_accuracy: 0.5084\n",
      "Epoch 9/16\n",
      "7/7 [==============================] - 0s 12ms/step - loss: 0.7567 - accuracy: 0.4500 - val_loss: 0.7115 - val_accuracy: 0.5282\n",
      "Epoch 10/16\n",
      "7/7 [==============================] - 0s 13ms/step - loss: 0.7438 - accuracy: 0.4650 - val_loss: 0.7017 - val_accuracy: 0.5430\n",
      "Epoch 11/16\n",
      "7/7 [==============================] - 0s 12ms/step - loss: 0.7316 - accuracy: 0.4800 - val_loss: 0.6915 - val_accuracy: 0.5707\n",
      "Epoch 12/16\n",
      "7/7 [==============================] - 0s 13ms/step - loss: 0.7218 - accuracy: 0.5000 - val_loss: 0.6817 - val_accuracy: 0.5875\n",
      "Epoch 13/16\n",
      "7/7 [==============================] - 0s 11ms/step - loss: 0.7093 - accuracy: 0.5250 - val_loss: 0.6720 - val_accuracy: 0.6093\n",
      "Epoch 14/16\n",
      "7/7 [==============================] - 0s 12ms/step - loss: 0.6988 - accuracy: 0.5300 - val_loss: 0.6625 - val_accuracy: 0.6271\n",
      "Epoch 15/16\n",
      "7/7 [==============================] - 0s 12ms/step - loss: 0.6884 - accuracy: 0.5500 - val_loss: 0.6536 - val_accuracy: 0.6499\n",
      "Epoch 16/16\n",
      "7/7 [==============================] - 0s 12ms/step - loss: 0.6777 - accuracy: 0.5700 - val_loss: 0.6448 - val_accuracy: 0.6568\n"
     ]
    }
   ],
   "source": [
    "# train 4 epochs with frozen weights\n",
    "history = model_B_on_A.fit(X_train_B, y_train_B, epochs=4,\n",
    "                           validation_data=(X_valid_B, y_valid_B))\n",
    "\n",
    "# unfreeze weights\n",
    "for layer in model_B_on_A.layers[:-1]:\n",
    "    layer.trainable = True\n",
    "\n",
    "# recompile model\n",
    "optimizer = tf.keras.optimizers.SGD(learning_rate=0.0001) # rediced learning rate\n",
    "model_B_on_A.compile(loss=\"binary_crossentropy\", optimizer=optimizer,\n",
    "                     metrics=[\"accuracy\"])\n",
    "# start training from last step\n",
    "history = model_B_on_A.fit(X_train_B, y_train_B, epochs=16,\n",
    "                           validation_data=(X_valid_B, y_valid_B))"
   ]
  },
  {
   "cell_type": "code",
   "execution_count": null,
   "metadata": {},
   "outputs": [],
   "source": []
  }
 ],
 "metadata": {
  "kernelspec": {
   "display_name": ".venv",
   "language": "python",
   "name": "python3"
  },
  "language_info": {
   "codemirror_mode": {
    "name": "ipython",
    "version": 3
   },
   "file_extension": ".py",
   "mimetype": "text/x-python",
   "name": "python",
   "nbconvert_exporter": "python",
   "pygments_lexer": "ipython3",
   "version": "3.10.11"
  }
 },
 "nbformat": 4,
 "nbformat_minor": 2
}
