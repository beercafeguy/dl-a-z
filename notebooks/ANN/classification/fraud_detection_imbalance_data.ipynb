{
 "cells": [
  {
   "cell_type": "code",
   "execution_count": 1,
   "metadata": {},
   "outputs": [],
   "source": [
    "import tensorflow as tf\n",
    "from tensorflow import keras\n",
    "\n",
    "import os\n",
    "import tempfile\n",
    "\n",
    "import matplotlib as mpl\n",
    "import matplotlib.pyplot as plt\n",
    "import numpy as np\n",
    "import pandas as pd\n",
    "import seaborn as sns\n",
    "\n",
    "import sklearn\n",
    "from sklearn.metrics import confusion_matrix\n",
    "from sklearn.model_selection import train_test_split\n",
    "from sklearn.preprocessing import StandardScaler"
   ]
  },
  {
   "cell_type": "code",
   "execution_count": 2,
   "metadata": {},
   "outputs": [],
   "source": [
    "mpl.rcParams['figure.figsize'] = (12, 10)\n",
    "colors = plt.rcParams['axes.prop_cycle'].by_key()['color']"
   ]
  },
  {
   "cell_type": "markdown",
   "metadata": {},
   "source": [
    "# Data processing and exploration"
   ]
  },
  {
   "cell_type": "markdown",
   "metadata": {},
   "source": [
    "data sources\n",
    "\n",
    "https://storage.googleapis.com/download.tensorflow.org/data/creditcard.csv\n",
    "\n",
    "https://www.kaggle.com/datasets/mlg-ulb/creditcardfraud"
   ]
  },
  {
   "cell_type": "code",
   "execution_count": 6,
   "metadata": {},
   "outputs": [
    {
     "data": {
      "text/html": [
       "<div>\n",
       "<style scoped>\n",
       "    .dataframe tbody tr th:only-of-type {\n",
       "        vertical-align: middle;\n",
       "    }\n",
       "\n",
       "    .dataframe tbody tr th {\n",
       "        vertical-align: top;\n",
       "    }\n",
       "\n",
       "    .dataframe thead th {\n",
       "        text-align: right;\n",
       "    }\n",
       "</style>\n",
       "<table border=\"1\" class=\"dataframe\">\n",
       "  <thead>\n",
       "    <tr style=\"text-align: right;\">\n",
       "      <th></th>\n",
       "      <th>Time</th>\n",
       "      <th>V1</th>\n",
       "      <th>V2</th>\n",
       "      <th>V3</th>\n",
       "      <th>V4</th>\n",
       "      <th>V5</th>\n",
       "      <th>V6</th>\n",
       "      <th>V7</th>\n",
       "      <th>V8</th>\n",
       "      <th>V9</th>\n",
       "      <th>...</th>\n",
       "      <th>V21</th>\n",
       "      <th>V22</th>\n",
       "      <th>V23</th>\n",
       "      <th>V24</th>\n",
       "      <th>V25</th>\n",
       "      <th>V26</th>\n",
       "      <th>V27</th>\n",
       "      <th>V28</th>\n",
       "      <th>Amount</th>\n",
       "      <th>Class</th>\n",
       "    </tr>\n",
       "  </thead>\n",
       "  <tbody>\n",
       "    <tr>\n",
       "      <th>0</th>\n",
       "      <td>0.0</td>\n",
       "      <td>-1.359807</td>\n",
       "      <td>-0.072781</td>\n",
       "      <td>2.536347</td>\n",
       "      <td>1.378155</td>\n",
       "      <td>-0.338321</td>\n",
       "      <td>0.462388</td>\n",
       "      <td>0.239599</td>\n",
       "      <td>0.098698</td>\n",
       "      <td>0.363787</td>\n",
       "      <td>...</td>\n",
       "      <td>-0.018307</td>\n",
       "      <td>0.277838</td>\n",
       "      <td>-0.110474</td>\n",
       "      <td>0.066928</td>\n",
       "      <td>0.128539</td>\n",
       "      <td>-0.189115</td>\n",
       "      <td>0.133558</td>\n",
       "      <td>-0.021053</td>\n",
       "      <td>149.62</td>\n",
       "      <td>0</td>\n",
       "    </tr>\n",
       "    <tr>\n",
       "      <th>1</th>\n",
       "      <td>0.0</td>\n",
       "      <td>1.191857</td>\n",
       "      <td>0.266151</td>\n",
       "      <td>0.166480</td>\n",
       "      <td>0.448154</td>\n",
       "      <td>0.060018</td>\n",
       "      <td>-0.082361</td>\n",
       "      <td>-0.078803</td>\n",
       "      <td>0.085102</td>\n",
       "      <td>-0.255425</td>\n",
       "      <td>...</td>\n",
       "      <td>-0.225775</td>\n",
       "      <td>-0.638672</td>\n",
       "      <td>0.101288</td>\n",
       "      <td>-0.339846</td>\n",
       "      <td>0.167170</td>\n",
       "      <td>0.125895</td>\n",
       "      <td>-0.008983</td>\n",
       "      <td>0.014724</td>\n",
       "      <td>2.69</td>\n",
       "      <td>0</td>\n",
       "    </tr>\n",
       "    <tr>\n",
       "      <th>2</th>\n",
       "      <td>1.0</td>\n",
       "      <td>-1.358354</td>\n",
       "      <td>-1.340163</td>\n",
       "      <td>1.773209</td>\n",
       "      <td>0.379780</td>\n",
       "      <td>-0.503198</td>\n",
       "      <td>1.800499</td>\n",
       "      <td>0.791461</td>\n",
       "      <td>0.247676</td>\n",
       "      <td>-1.514654</td>\n",
       "      <td>...</td>\n",
       "      <td>0.247998</td>\n",
       "      <td>0.771679</td>\n",
       "      <td>0.909412</td>\n",
       "      <td>-0.689281</td>\n",
       "      <td>-0.327642</td>\n",
       "      <td>-0.139097</td>\n",
       "      <td>-0.055353</td>\n",
       "      <td>-0.059752</td>\n",
       "      <td>378.66</td>\n",
       "      <td>0</td>\n",
       "    </tr>\n",
       "    <tr>\n",
       "      <th>3</th>\n",
       "      <td>1.0</td>\n",
       "      <td>-0.966272</td>\n",
       "      <td>-0.185226</td>\n",
       "      <td>1.792993</td>\n",
       "      <td>-0.863291</td>\n",
       "      <td>-0.010309</td>\n",
       "      <td>1.247203</td>\n",
       "      <td>0.237609</td>\n",
       "      <td>0.377436</td>\n",
       "      <td>-1.387024</td>\n",
       "      <td>...</td>\n",
       "      <td>-0.108300</td>\n",
       "      <td>0.005274</td>\n",
       "      <td>-0.190321</td>\n",
       "      <td>-1.175575</td>\n",
       "      <td>0.647376</td>\n",
       "      <td>-0.221929</td>\n",
       "      <td>0.062723</td>\n",
       "      <td>0.061458</td>\n",
       "      <td>123.50</td>\n",
       "      <td>0</td>\n",
       "    </tr>\n",
       "    <tr>\n",
       "      <th>4</th>\n",
       "      <td>2.0</td>\n",
       "      <td>-1.158233</td>\n",
       "      <td>0.877737</td>\n",
       "      <td>1.548718</td>\n",
       "      <td>0.403034</td>\n",
       "      <td>-0.407193</td>\n",
       "      <td>0.095921</td>\n",
       "      <td>0.592941</td>\n",
       "      <td>-0.270533</td>\n",
       "      <td>0.817739</td>\n",
       "      <td>...</td>\n",
       "      <td>-0.009431</td>\n",
       "      <td>0.798278</td>\n",
       "      <td>-0.137458</td>\n",
       "      <td>0.141267</td>\n",
       "      <td>-0.206010</td>\n",
       "      <td>0.502292</td>\n",
       "      <td>0.219422</td>\n",
       "      <td>0.215153</td>\n",
       "      <td>69.99</td>\n",
       "      <td>0</td>\n",
       "    </tr>\n",
       "  </tbody>\n",
       "</table>\n",
       "<p>5 rows × 31 columns</p>\n",
       "</div>"
      ],
      "text/plain": [
       "   Time        V1        V2        V3        V4        V5        V6        V7  \\\n",
       "0   0.0 -1.359807 -0.072781  2.536347  1.378155 -0.338321  0.462388  0.239599   \n",
       "1   0.0  1.191857  0.266151  0.166480  0.448154  0.060018 -0.082361 -0.078803   \n",
       "2   1.0 -1.358354 -1.340163  1.773209  0.379780 -0.503198  1.800499  0.791461   \n",
       "3   1.0 -0.966272 -0.185226  1.792993 -0.863291 -0.010309  1.247203  0.237609   \n",
       "4   2.0 -1.158233  0.877737  1.548718  0.403034 -0.407193  0.095921  0.592941   \n",
       "\n",
       "         V8        V9  ...       V21       V22       V23       V24       V25  \\\n",
       "0  0.098698  0.363787  ... -0.018307  0.277838 -0.110474  0.066928  0.128539   \n",
       "1  0.085102 -0.255425  ... -0.225775 -0.638672  0.101288 -0.339846  0.167170   \n",
       "2  0.247676 -1.514654  ...  0.247998  0.771679  0.909412 -0.689281 -0.327642   \n",
       "3  0.377436 -1.387024  ... -0.108300  0.005274 -0.190321 -1.175575  0.647376   \n",
       "4 -0.270533  0.817739  ... -0.009431  0.798278 -0.137458  0.141267 -0.206010   \n",
       "\n",
       "        V26       V27       V28  Amount  Class  \n",
       "0 -0.189115  0.133558 -0.021053  149.62      0  \n",
       "1  0.125895 -0.008983  0.014724    2.69      0  \n",
       "2 -0.139097 -0.055353 -0.059752  378.66      0  \n",
       "3 -0.221929  0.062723  0.061458  123.50      0  \n",
       "4  0.502292  0.219422  0.215153   69.99      0  \n",
       "\n",
       "[5 rows x 31 columns]"
      ]
     },
     "execution_count": 6,
     "metadata": {},
     "output_type": "execute_result"
    }
   ],
   "source": [
    "file = tf.keras.utils\n",
    "raw_df = pd.read_csv('../../../data/credit_card_fraud/creditcard.csv')\n",
    "raw_df.head()"
   ]
  },
  {
   "cell_type": "code",
   "execution_count": 7,
   "metadata": {},
   "outputs": [
    {
     "data": {
      "text/html": [
       "<div>\n",
       "<style scoped>\n",
       "    .dataframe tbody tr th:only-of-type {\n",
       "        vertical-align: middle;\n",
       "    }\n",
       "\n",
       "    .dataframe tbody tr th {\n",
       "        vertical-align: top;\n",
       "    }\n",
       "\n",
       "    .dataframe thead th {\n",
       "        text-align: right;\n",
       "    }\n",
       "</style>\n",
       "<table border=\"1\" class=\"dataframe\">\n",
       "  <thead>\n",
       "    <tr style=\"text-align: right;\">\n",
       "      <th></th>\n",
       "      <th>Time</th>\n",
       "      <th>V1</th>\n",
       "      <th>V2</th>\n",
       "      <th>V3</th>\n",
       "      <th>V4</th>\n",
       "      <th>V5</th>\n",
       "      <th>V26</th>\n",
       "      <th>V27</th>\n",
       "      <th>V28</th>\n",
       "      <th>Amount</th>\n",
       "      <th>Class</th>\n",
       "    </tr>\n",
       "  </thead>\n",
       "  <tbody>\n",
       "    <tr>\n",
       "      <th>count</th>\n",
       "      <td>284807.000000</td>\n",
       "      <td>2.848070e+05</td>\n",
       "      <td>2.848070e+05</td>\n",
       "      <td>2.848070e+05</td>\n",
       "      <td>2.848070e+05</td>\n",
       "      <td>2.848070e+05</td>\n",
       "      <td>2.848070e+05</td>\n",
       "      <td>2.848070e+05</td>\n",
       "      <td>2.848070e+05</td>\n",
       "      <td>284807.000000</td>\n",
       "      <td>284807.000000</td>\n",
       "    </tr>\n",
       "    <tr>\n",
       "      <th>mean</th>\n",
       "      <td>94813.859575</td>\n",
       "      <td>1.168375e-15</td>\n",
       "      <td>3.416908e-16</td>\n",
       "      <td>-1.379537e-15</td>\n",
       "      <td>2.074095e-15</td>\n",
       "      <td>9.604066e-16</td>\n",
       "      <td>1.683437e-15</td>\n",
       "      <td>-3.660091e-16</td>\n",
       "      <td>-1.227390e-16</td>\n",
       "      <td>88.349619</td>\n",
       "      <td>0.001727</td>\n",
       "    </tr>\n",
       "    <tr>\n",
       "      <th>std</th>\n",
       "      <td>47488.145955</td>\n",
       "      <td>1.958696e+00</td>\n",
       "      <td>1.651309e+00</td>\n",
       "      <td>1.516255e+00</td>\n",
       "      <td>1.415869e+00</td>\n",
       "      <td>1.380247e+00</td>\n",
       "      <td>4.822270e-01</td>\n",
       "      <td>4.036325e-01</td>\n",
       "      <td>3.300833e-01</td>\n",
       "      <td>250.120109</td>\n",
       "      <td>0.041527</td>\n",
       "    </tr>\n",
       "    <tr>\n",
       "      <th>min</th>\n",
       "      <td>0.000000</td>\n",
       "      <td>-5.640751e+01</td>\n",
       "      <td>-7.271573e+01</td>\n",
       "      <td>-4.832559e+01</td>\n",
       "      <td>-5.683171e+00</td>\n",
       "      <td>-1.137433e+02</td>\n",
       "      <td>-2.604551e+00</td>\n",
       "      <td>-2.256568e+01</td>\n",
       "      <td>-1.543008e+01</td>\n",
       "      <td>0.000000</td>\n",
       "      <td>0.000000</td>\n",
       "    </tr>\n",
       "    <tr>\n",
       "      <th>25%</th>\n",
       "      <td>54201.500000</td>\n",
       "      <td>-9.203734e-01</td>\n",
       "      <td>-5.985499e-01</td>\n",
       "      <td>-8.903648e-01</td>\n",
       "      <td>-8.486401e-01</td>\n",
       "      <td>-6.915971e-01</td>\n",
       "      <td>-3.269839e-01</td>\n",
       "      <td>-7.083953e-02</td>\n",
       "      <td>-5.295979e-02</td>\n",
       "      <td>5.600000</td>\n",
       "      <td>0.000000</td>\n",
       "    </tr>\n",
       "    <tr>\n",
       "      <th>50%</th>\n",
       "      <td>84692.000000</td>\n",
       "      <td>1.810880e-02</td>\n",
       "      <td>6.548556e-02</td>\n",
       "      <td>1.798463e-01</td>\n",
       "      <td>-1.984653e-02</td>\n",
       "      <td>-5.433583e-02</td>\n",
       "      <td>-5.213911e-02</td>\n",
       "      <td>1.342146e-03</td>\n",
       "      <td>1.124383e-02</td>\n",
       "      <td>22.000000</td>\n",
       "      <td>0.000000</td>\n",
       "    </tr>\n",
       "    <tr>\n",
       "      <th>75%</th>\n",
       "      <td>139320.500000</td>\n",
       "      <td>1.315642e+00</td>\n",
       "      <td>8.037239e-01</td>\n",
       "      <td>1.027196e+00</td>\n",
       "      <td>7.433413e-01</td>\n",
       "      <td>6.119264e-01</td>\n",
       "      <td>2.409522e-01</td>\n",
       "      <td>9.104512e-02</td>\n",
       "      <td>7.827995e-02</td>\n",
       "      <td>77.165000</td>\n",
       "      <td>0.000000</td>\n",
       "    </tr>\n",
       "    <tr>\n",
       "      <th>max</th>\n",
       "      <td>172792.000000</td>\n",
       "      <td>2.454930e+00</td>\n",
       "      <td>2.205773e+01</td>\n",
       "      <td>9.382558e+00</td>\n",
       "      <td>1.687534e+01</td>\n",
       "      <td>3.480167e+01</td>\n",
       "      <td>3.517346e+00</td>\n",
       "      <td>3.161220e+01</td>\n",
       "      <td>3.384781e+01</td>\n",
       "      <td>25691.160000</td>\n",
       "      <td>1.000000</td>\n",
       "    </tr>\n",
       "  </tbody>\n",
       "</table>\n",
       "</div>"
      ],
      "text/plain": [
       "                Time            V1            V2            V3            V4  \\\n",
       "count  284807.000000  2.848070e+05  2.848070e+05  2.848070e+05  2.848070e+05   \n",
       "mean    94813.859575  1.168375e-15  3.416908e-16 -1.379537e-15  2.074095e-15   \n",
       "std     47488.145955  1.958696e+00  1.651309e+00  1.516255e+00  1.415869e+00   \n",
       "min         0.000000 -5.640751e+01 -7.271573e+01 -4.832559e+01 -5.683171e+00   \n",
       "25%     54201.500000 -9.203734e-01 -5.985499e-01 -8.903648e-01 -8.486401e-01   \n",
       "50%     84692.000000  1.810880e-02  6.548556e-02  1.798463e-01 -1.984653e-02   \n",
       "75%    139320.500000  1.315642e+00  8.037239e-01  1.027196e+00  7.433413e-01   \n",
       "max    172792.000000  2.454930e+00  2.205773e+01  9.382558e+00  1.687534e+01   \n",
       "\n",
       "                 V5           V26           V27           V28         Amount  \\\n",
       "count  2.848070e+05  2.848070e+05  2.848070e+05  2.848070e+05  284807.000000   \n",
       "mean   9.604066e-16  1.683437e-15 -3.660091e-16 -1.227390e-16      88.349619   \n",
       "std    1.380247e+00  4.822270e-01  4.036325e-01  3.300833e-01     250.120109   \n",
       "min   -1.137433e+02 -2.604551e+00 -2.256568e+01 -1.543008e+01       0.000000   \n",
       "25%   -6.915971e-01 -3.269839e-01 -7.083953e-02 -5.295979e-02       5.600000   \n",
       "50%   -5.433583e-02 -5.213911e-02  1.342146e-03  1.124383e-02      22.000000   \n",
       "75%    6.119264e-01  2.409522e-01  9.104512e-02  7.827995e-02      77.165000   \n",
       "max    3.480167e+01  3.517346e+00  3.161220e+01  3.384781e+01   25691.160000   \n",
       "\n",
       "               Class  \n",
       "count  284807.000000  \n",
       "mean        0.001727  \n",
       "std         0.041527  \n",
       "min         0.000000  \n",
       "25%         0.000000  \n",
       "50%         0.000000  \n",
       "75%         0.000000  \n",
       "max         1.000000  "
      ]
     },
     "execution_count": 7,
     "metadata": {},
     "output_type": "execute_result"
    }
   ],
   "source": [
    "raw_df[['Time', 'V1', 'V2', 'V3', 'V4', 'V5', 'V26', 'V27', 'V28', 'Amount', 'Class']].describe()"
   ]
  },
  {
   "cell_type": "markdown",
   "metadata": {},
   "source": [
    "## Analyse class imbalance"
   ]
  },
  {
   "cell_type": "code",
   "execution_count": 8,
   "metadata": {},
   "outputs": [
    {
     "data": {
      "text/plain": [
       "Class\n",
       "0    284315\n",
       "1       492\n",
       "Name: count, dtype: int64"
      ]
     },
     "execution_count": 8,
     "metadata": {},
     "output_type": "execute_result"
    }
   ],
   "source": [
    "raw_df['Class'].value_counts()"
   ]
  },
  {
   "cell_type": "code",
   "execution_count": 11,
   "metadata": {},
   "outputs": [
    {
     "name": "stdout",
     "output_type": "stream",
     "text": [
      "Total: 284807\n",
      "Positive: 492 (0.17% of total)\n",
      "\n"
     ]
    }
   ],
   "source": [
    "neg, pos = np.bincount(raw_df['Class'])\n",
    "total = neg + pos\n",
    "print('Total: {}\\nPositive: {} ({:.2f}% of total)\\n'.format(\n",
    "    total, pos, 100 * pos / total))"
   ]
  },
  {
   "cell_type": "markdown",
   "metadata": {},
   "source": [
    "## feature engineering"
   ]
  },
  {
   "cell_type": "markdown",
   "metadata": {},
   "source": [
    "### drop time"
   ]
  },
  {
   "cell_type": "code",
   "execution_count": 13,
   "metadata": {},
   "outputs": [
    {
     "data": {
      "text/plain": [
       "Index(['V1', 'V2', 'V3', 'V4', 'V5', 'V6', 'V7', 'V8', 'V9', 'V10', 'V11',\n",
       "       'V12', 'V13', 'V14', 'V15', 'V16', 'V17', 'V18', 'V19', 'V20', 'V21',\n",
       "       'V22', 'V23', 'V24', 'V25', 'V26', 'V27', 'V28', 'Amount', 'Class'],\n",
       "      dtype='object')"
      ]
     },
     "execution_count": 13,
     "metadata": {},
     "output_type": "execute_result"
    }
   ],
   "source": [
    "cleaned_df = raw_df.copy()\n",
    "\n",
    "cleaned_df.drop(['Time'], axis=1, inplace=True) \n",
    "cleaned_df.columns"
   ]
  },
  {
   "cell_type": "markdown",
   "metadata": {},
   "source": [
    "### Preprocess amount for huge range"
   ]
  },
  {
   "cell_type": "code",
   "execution_count": 14,
   "metadata": {},
   "outputs": [],
   "source": [
    "eps = 0.001 # 0 => 0.1¢\n",
    "cleaned_df['Log Amount'] = np.log(cleaned_df.pop('Amount')+eps)"
   ]
  },
  {
   "cell_type": "markdown",
   "metadata": {},
   "source": [
    "## Train Test Split"
   ]
  },
  {
   "cell_type": "code",
   "execution_count": 17,
   "metadata": {},
   "outputs": [],
   "source": [
    "train_df, test_df = train_test_split(cleaned_df, test_size=0.2)\n",
    "train_df, val_df = train_test_split(train_df, test_size=0.2)"
   ]
  },
  {
   "cell_type": "code",
   "execution_count": 18,
   "metadata": {},
   "outputs": [],
   "source": [
    "# Converting DF to arrays\n",
    "train_labels = np.array(train_df.pop('Class'))\n",
    "bool_train_labels = train_labels != 0\n",
    "val_labels = np.array(val_df.pop('Class'))\n",
    "test_labels = np.array(test_df.pop('Class'))"
   ]
  },
  {
   "cell_type": "code",
   "execution_count": 19,
   "metadata": {},
   "outputs": [],
   "source": [
    "# Converting DF to arrays\n",
    "train_features = np.array(train_df)\n",
    "val_features = np.array(val_df)\n",
    "test_features = np.array(test_df)\n"
   ]
  },
  {
   "cell_type": "code",
   "execution_count": 20,
   "metadata": {},
   "outputs": [
    {
     "name": "stdout",
     "output_type": "stream",
     "text": [
      "Average class probability in training set:   0.0017\n",
      "Average class probability in validation set: 0.0016\n",
      "Average class probability in test set:       0.0019\n"
     ]
    }
   ],
   "source": [
    "# find impalance in all 3 sets\n",
    "\n",
    "print(f'Average class probability in training set:   {train_labels.mean():.4f}')\n",
    "print(f'Average class probability in validation set: {val_labels.mean():.4f}')\n",
    "print(f'Average class probability in test set:       {test_labels.mean():.4f}')"
   ]
  },
  {
   "cell_type": "markdown",
   "metadata": {},
   "source": [
    "This is almost same"
   ]
  },
  {
   "cell_type": "markdown",
   "metadata": {},
   "source": [
    "## Normalize input Features"
   ]
  },
  {
   "cell_type": "code",
   "execution_count": 21,
   "metadata": {},
   "outputs": [
    {
     "name": "stdout",
     "output_type": "stream",
     "text": [
      "Training labels shape: (182276,)\n",
      "Validation labels shape: (45569,)\n",
      "Test labels shape: (56962,)\n",
      "Training features shape: (182276, 29)\n",
      "Validation features shape: (45569, 29)\n",
      "Test features shape: (56962, 29)\n"
     ]
    }
   ],
   "source": [
    "scaler = StandardScaler()\n",
    "train_features = scaler.fit_transform(train_features)\n",
    "\n",
    "val_features = scaler.transform(val_features)\n",
    "test_features = scaler.transform(test_features)\n",
    "\n",
    "train_features = np.clip(train_features, -5, 5) # limit values in an array\n",
    "val_features = np.clip(val_features, -5, 5)\n",
    "test_features = np.clip(test_features, -5, 5)\n",
    "\n",
    "\n",
    "print('Training labels shape:', train_labels.shape)\n",
    "print('Validation labels shape:', val_labels.shape)\n",
    "print('Test labels shape:', test_labels.shape)\n",
    "\n",
    "print('Training features shape:', train_features.shape)\n",
    "print('Validation features shape:', val_features.shape)\n",
    "print('Test features shape:', test_features.shape)"
   ]
  },
  {
   "cell_type": "markdown",
   "metadata": {},
   "source": [
    "## Check data distributions"
   ]
  },
  {
   "cell_type": "markdown",
   "metadata": {},
   "source": [
    "### Positive distribution vs negative distribution"
   ]
  },
  {
   "cell_type": "code",
   "execution_count": 22,
   "metadata": {},
   "outputs": [
    {
     "data": {
      "image/png": "[encoded data removed]",
      "text/plain": [
       "<Figure size 600x600 with 3 Axes>"
      ]
     },
     "metadata": {},
     "output_type": "display_data"
    },
    {
     "data": {
      "image/png": "[encoded data removed]",
      "text/plain": [
       "<Figure size 600x600 with 3 Axes>"
      ]
     },
     "metadata": {},
     "output_type": "display_data"
    }
   ],
   "source": [
    "pos_df = pd.DataFrame(train_features[ bool_train_labels], columns=train_df.columns)\n",
    "neg_df = pd.DataFrame(train_features[~bool_train_labels], columns=train_df.columns)\n",
    "\n",
    "sns.jointplot(x=pos_df['V5'], y=pos_df['V6'],\n",
    "              kind='hex', xlim=(-5,5), ylim=(-5,5))\n",
    "plt.suptitle(\"Positive distribution\")\n",
    "\n",
    "sns.jointplot(x=neg_df['V5'], y=neg_df['V6'],\n",
    "              kind='hex', xlim=(-5,5), ylim=(-5,5))\n",
    "_ = plt.suptitle(\"Negative distribution\")\n"
   ]
  },
  {
   "cell_type": "markdown",
   "metadata": {},
   "source": [
    "* positive examples contain a much higher rate of extreme values.\n",
    "* This is looking normal distribution because we have already normalized this"
   ]
  },
  {
   "cell_type": "markdown",
   "metadata": {},
   "source": [
    "# Model Training"
   ]
  },
  {
   "cell_type": "markdown",
   "metadata": {},
   "source": [
    "## Define the model\n",
    "\n",
    "Define a function that creates a simple neural network with a densly connected hidden layer, a dropout layer to reduce overfitting, and an output sigmoid layer that returns the probability of a transaction being fraudulent:"
   ]
  },
  {
   "cell_type": "code",
   "execution_count": 23,
   "metadata": {},
   "outputs": [],
   "source": [
    "METRICS = [\n",
    "      keras.metrics.BinaryCrossentropy(name='cross entropy'),  # same as model's loss\n",
    "      keras.metrics.MeanSquaredError(name='Brier score'),\n",
    "      keras.metrics.TruePositives(name='tp'),\n",
    "      keras.metrics.FalsePositives(name='fp'),\n",
    "      keras.metrics.TrueNegatives(name='tn'),\n",
    "      keras.metrics.FalseNegatives(name='fn'), \n",
    "      keras.metrics.BinaryAccuracy(name='accuracy'),\n",
    "      keras.metrics.Precision(name='precision'),\n",
    "      keras.metrics.Recall(name='recall'),\n",
    "      keras.metrics.AUC(name='auc'),\n",
    "      keras.metrics.AUC(name='prc', curve='PR'), # precision-recall curve\n",
    "]\n",
    "\n",
    "\n",
    "def make_model(metrics=METRICS, output_bias=None):\n",
    "  if output_bias is not None:\n",
    "    output_bias = tf.keras.initializers.Constant(output_bias)\n",
    "  model = keras.Sequential([\n",
    "      keras.layers.Dense(\n",
    "          16, activation='relu',\n",
    "          input_shape=(train_features.shape[-1],)),\n",
    "      keras.layers.Dropout(0.5),\n",
    "      keras.layers.Dense(1, activation='sigmoid',\n",
    "                         bias_initializer=output_bias),\n",
    "  ])\n",
    "\n",
    "  model.compile(\n",
    "      optimizer=keras.optimizers.Adam(learning_rate=1e-3),\n",
    "      loss=keras.losses.BinaryCrossentropy(),\n",
    "      metrics=metrics)\n",
    "\n",
    "  return model"
   ]
  },
  {
   "cell_type": "markdown",
   "metadata": {},
   "source": [
    "## Build The Model"
   ]
  },
  {
   "cell_type": "code",
   "execution_count": 24,
   "metadata": {},
   "outputs": [],
   "source": [
    "EPOCHS = 100\n",
    "BATCH_SIZE = 2048 # higher batch size because smaller batches might not even have any positive sample\n",
    "\n",
    "early_stopping  = tf.keras.callbacks.EarlyStopping(\n",
    "    monitor = 'prc',\n",
    "    verbose=1,\n",
    "    patience=10,\n",
    "    mode='max',\n",
    "    restore_best_weights=True\n",
    ")\n"
   ]
  },
  {
   "cell_type": "code",
   "execution_count": 26,
   "metadata": {},
   "outputs": [
    {
     "name": "stdout",
     "output_type": "stream",
     "text": [
      "Model: \"sequential_1\"\n",
      "_________________________________________________________________\n",
      " Layer (type)                Output Shape              Param #   \n",
      "=================================================================\n",
      " dense_2 (Dense)             (None, 16)                480       \n",
      "                                                                 \n",
      " dropout_1 (Dropout)         (None, 16)                0         \n",
      "                                                                 \n",
      " dense_3 (Dense)             (None, 1)                 17        \n",
      "                                                                 \n",
      "=================================================================\n",
      "Total params: 497 (1.94 KB)\n",
      "Trainable params: 497 (1.94 KB)\n",
      "Non-trainable params: 0 (0.00 Byte)\n",
      "_________________________________________________________________\n"
     ]
    }
   ],
   "source": [
    "clf = make_model()\n",
    "clf.summary()"
   ]
  },
  {
   "cell_type": "code",
   "execution_count": 28,
   "metadata": {},
   "outputs": [
    {
     "name": "stdout",
     "output_type": "stream",
     "text": [
      "Epoch 1/100\n",
      "90/90 [==============================] - 2s 10ms/step - loss: 1.0473 - cross entropy: 1.0473 - Brier score: 0.3854 - tp: 121.0000 - fp: 122522.0000 - tn: 59442.0000 - fn: 191.0000 - accuracy: 0.3268 - precision: 9.8660e-04 - recall: 0.3878 - auc: 0.3518 - prc: 0.0107 - val_loss: 0.5950 - val_cross entropy: 0.5950 - val_Brier score: 0.2053 - val_tp: 5.0000 - val_fp: 15496.0000 - val_tn: 30000.0000 - val_fn: 68.0000 - val_accuracy: 0.6585 - val_precision: 3.2256e-04 - val_recall: 0.0685 - val_auc: 0.1646 - val_prc: 0.0011\n",
      "Epoch 2/100\n",
      "90/90 [==============================] - 0s 4ms/step - loss: 0.5267 - cross entropy: 0.5267 - Brier score: 0.1807 - tp: 91.0000 - fp: 55755.0000 - tn: 126209.0000 - fn: 221.0000 - accuracy: 0.6929 - precision: 0.0016 - recall: 0.2917 - auc: 0.3718 - prc: 0.0237 - val_loss: 0.2588 - val_cross entropy: 0.2588 - val_Brier score: 0.0614 - val_tp: 4.0000 - val_fp: 753.0000 - val_tn: 44743.0000 - val_fn: 69.0000 - val_accuracy: 0.9820 - val_precision: 0.0053 - val_recall: 0.0548 - val_auc: 0.2593 - val_prc: 0.0015\n",
      "Epoch 3/100\n",
      "90/90 [==============================] - 0s 4ms/step - loss: 0.3078 - cross entropy: 0.3078 - Brier score: 0.0946 - tp: 78.0000 - fp: 25027.0000 - tn: 156937.0000 - fn: 234.0000 - accuracy: 0.8614 - precision: 0.0031 - recall: 0.2500 - auc: 0.4462 - prc: 0.0540 - val_loss: 0.1233 - val_cross entropy: 0.1233 - val_Brier score: 0.0188 - val_tp: 5.0000 - val_fp: 33.0000 - val_tn: 45463.0000 - val_fn: 68.0000 - val_accuracy: 0.9978 - val_precision: 0.1316 - val_recall: 0.0685 - val_auc: 0.4616 - val_prc: 0.0496\n",
      "Epoch 4/100\n",
      "90/90 [==============================] - 0s 3ms/step - loss: 0.2082 - cross entropy: 0.2082 - Brier score: 0.0597 - tp: 81.0000 - fp: 14921.0000 - tn: 167043.0000 - fn: 231.0000 - accuracy: 0.9169 - precision: 0.0054 - recall: 0.2596 - auc: 0.5074 - prc: 0.0882 - val_loss: 0.0652 - val_cross entropy: 0.0652 - val_Brier score: 0.0067 - val_tp: 13.0000 - val_fp: 6.0000 - val_tn: 45490.0000 - val_fn: 60.0000 - val_accuracy: 0.9986 - val_precision: 0.6842 - val_recall: 0.1781 - val_auc: 0.6358 - val_prc: 0.2598\n",
      "Epoch 5/100\n",
      "90/90 [==============================] - 0s 3ms/step - loss: 0.1528 - cross entropy: 0.1528 - Brier score: 0.0420 - tp: 106.0000 - fp: 10343.0000 - tn: 171621.0000 - fn: 206.0000 - accuracy: 0.9421 - precision: 0.0101 - recall: 0.3397 - auc: 0.6261 - prc: 0.1183 - val_loss: 0.0379 - val_cross entropy: 0.0379 - val_Brier score: 0.0029 - val_tp: 23.0000 - val_fp: 4.0000 - val_tn: 45492.0000 - val_fn: 50.0000 - val_accuracy: 0.9988 - val_precision: 0.8519 - val_recall: 0.3151 - val_auc: 0.7397 - val_prc: 0.4366\n",
      "Epoch 6/100\n",
      "90/90 [==============================] - 0s 3ms/step - loss: 0.1194 - cross entropy: 0.1194 - Brier score: 0.0318 - tp: 117.0000 - fp: 7672.0000 - tn: 174292.0000 - fn: 195.0000 - accuracy: 0.9568 - precision: 0.0150 - recall: 0.3750 - auc: 0.6773 - prc: 0.1736 - val_loss: 0.0239 - val_cross entropy: 0.0239 - val_Brier score: 0.0016 - val_tp: 31.0000 - val_fp: 3.0000 - val_tn: 45493.0000 - val_fn: 42.0000 - val_accuracy: 0.9990 - val_precision: 0.9118 - val_recall: 0.4247 - val_auc: 0.7923 - val_prc: 0.5547\n",
      "Epoch 7/100\n",
      "90/90 [==============================] - 0s 4ms/step - loss: 0.0980 - cross entropy: 0.0980 - Brier score: 0.0260 - tp: 141.0000 - fp: 6402.0000 - tn: 175562.0000 - fn: 171.0000 - accuracy: 0.9639 - precision: 0.0215 - recall: 0.4519 - auc: 0.7683 - prc: 0.2529 - val_loss: 0.0162 - val_cross entropy: 0.0162 - val_Brier score: 0.0011 - val_tp: 39.0000 - val_fp: 3.0000 - val_tn: 45493.0000 - val_fn: 34.0000 - val_accuracy: 0.9992 - val_precision: 0.9286 - val_recall: 0.5342 - val_auc: 0.8152 - val_prc: 0.6178\n",
      "Epoch 8/100\n",
      "90/90 [==============================] - 0s 4ms/step - loss: 0.0834 - cross entropy: 0.0834 - Brier score: 0.0219 - tp: 167.0000 - fp: 5571.0000 - tn: 176393.0000 - fn: 145.0000 - accuracy: 0.9686 - precision: 0.0291 - recall: 0.5353 - auc: 0.8144 - prc: 0.3118 - val_loss: 0.0119 - val_cross entropy: 0.0119 - val_Brier score: 8.3015e-04 - val_tp: 42.0000 - val_fp: 3.0000 - val_tn: 45493.0000 - val_fn: 31.0000 - val_accuracy: 0.9993 - val_precision: 0.9333 - val_recall: 0.5753 - val_auc: 0.8358 - val_prc: 0.6717\n",
      "Epoch 9/100\n",
      "90/90 [==============================] - 0s 4ms/step - loss: 0.0726 - cross entropy: 0.0726 - Brier score: 0.0190 - tp: 165.0000 - fp: 4921.0000 - tn: 177043.0000 - fn: 147.0000 - accuracy: 0.9722 - precision: 0.0324 - recall: 0.5288 - auc: 0.8286 - prc: 0.3339 - val_loss: 0.0093 - val_cross entropy: 0.0093 - val_Brier score: 7.2084e-04 - val_tp: 43.0000 - val_fp: 3.0000 - val_tn: 45493.0000 - val_fn: 30.0000 - val_accuracy: 0.9993 - val_precision: 0.9348 - val_recall: 0.5890 - val_auc: 0.8481 - val_prc: 0.6928\n",
      "Epoch 10/100\n",
      "90/90 [==============================] - 0s 4ms/step - loss: 0.0638 - cross entropy: 0.0638 - Brier score: 0.0166 - tp: 178.0000 - fp: 4237.0000 - tn: 177727.0000 - fn: 134.0000 - accuracy: 0.9760 - precision: 0.0403 - recall: 0.5705 - auc: 0.8495 - prc: 0.3693 - val_loss: 0.0075 - val_cross entropy: 0.0075 - val_Brier score: 6.5790e-04 - val_tp: 44.0000 - val_fp: 3.0000 - val_tn: 45493.0000 - val_fn: 29.0000 - val_accuracy: 0.9993 - val_precision: 0.9362 - val_recall: 0.6027 - val_auc: 0.8631 - val_prc: 0.7133\n",
      "Epoch 11/100\n",
      "90/90 [==============================] - 0s 3ms/step - loss: 0.0585 - cross entropy: 0.0585 - Brier score: 0.0152 - tp: 172.0000 - fp: 4041.0000 - tn: 177923.0000 - fn: 140.0000 - accuracy: 0.9771 - precision: 0.0408 - recall: 0.5513 - auc: 0.8395 - prc: 0.3610 - val_loss: 0.0064 - val_cross entropy: 0.0064 - val_Brier score: 6.1379e-04 - val_tp: 46.0000 - val_fp: 3.0000 - val_tn: 45493.0000 - val_fn: 27.0000 - val_accuracy: 0.9993 - val_precision: 0.9388 - val_recall: 0.6301 - val_auc: 0.8733 - val_prc: 0.7224\n",
      "Epoch 12/100\n",
      "90/90 [==============================] - 0s 4ms/step - loss: 0.0527 - cross entropy: 0.0527 - Brier score: 0.0137 - tp: 182.0000 - fp: 3677.0000 - tn: 178287.0000 - fn: 130.0000 - accuracy: 0.9791 - precision: 0.0472 - recall: 0.5833 - auc: 0.8579 - prc: 0.4139 - val_loss: 0.0056 - val_cross entropy: 0.0056 - val_Brier score: 5.8274e-04 - val_tp: 46.0000 - val_fp: 3.0000 - val_tn: 45493.0000 - val_fn: 27.0000 - val_accuracy: 0.9993 - val_precision: 0.9388 - val_recall: 0.6301 - val_auc: 0.8873 - val_prc: 0.7266\n",
      "Epoch 13/100\n",
      "90/90 [==============================] - 0s 4ms/step - loss: 0.0485 - cross entropy: 0.0485 - Brier score: 0.0125 - tp: 197.0000 - fp: 3392.0000 - tn: 178572.0000 - fn: 115.0000 - accuracy: 0.9808 - precision: 0.0549 - recall: 0.6314 - auc: 0.8636 - prc: 0.4726 - val_loss: 0.0050 - val_cross entropy: 0.0050 - val_Brier score: 5.6137e-04 - val_tp: 46.0000 - val_fp: 3.0000 - val_tn: 45493.0000 - val_fn: 27.0000 - val_accuracy: 0.9993 - val_precision: 0.9388 - val_recall: 0.6301 - val_auc: 0.8989 - val_prc: 0.7312\n",
      "Epoch 14/100\n",
      "90/90 [==============================] - 0s 5ms/step - loss: 0.0450 - cross entropy: 0.0450 - Brier score: 0.0115 - tp: 197.0000 - fp: 3174.0000 - tn: 178790.0000 - fn: 115.0000 - accuracy: 0.9820 - precision: 0.0584 - recall: 0.6314 - auc: 0.8538 - prc: 0.4580 - val_loss: 0.0047 - val_cross entropy: 0.0047 - val_Brier score: 5.4926e-04 - val_tp: 47.0000 - val_fp: 3.0000 - val_tn: 45493.0000 - val_fn: 26.0000 - val_accuracy: 0.9994 - val_precision: 0.9400 - val_recall: 0.6438 - val_auc: 0.9015 - val_prc: 0.7417\n",
      "Epoch 15/100\n",
      "90/90 [==============================] - 0s 4ms/step - loss: 0.0410 - cross entropy: 0.0410 - Brier score: 0.0105 - tp: 194.0000 - fp: 2882.0000 - tn: 179082.0000 - fn: 118.0000 - accuracy: 0.9835 - precision: 0.0631 - recall: 0.6218 - auc: 0.8757 - prc: 0.4789 - val_loss: 0.0044 - val_cross entropy: 0.0044 - val_Brier score: 5.2968e-04 - val_tp: 48.0000 - val_fp: 3.0000 - val_tn: 45493.0000 - val_fn: 25.0000 - val_accuracy: 0.9994 - val_precision: 0.9412 - val_recall: 0.6575 - val_auc: 0.9027 - val_prc: 0.7564\n",
      "Epoch 16/100\n",
      "90/90 [==============================] - 0s 4ms/step - loss: 0.0378 - cross entropy: 0.0378 - Brier score: 0.0097 - tp: 206.0000 - fp: 2709.0000 - tn: 179255.0000 - fn: 106.0000 - accuracy: 0.9846 - precision: 0.0707 - recall: 0.6603 - auc: 0.8875 - prc: 0.4565 - val_loss: 0.0041 - val_cross entropy: 0.0041 - val_Brier score: 5.1810e-04 - val_tp: 51.0000 - val_fp: 3.0000 - val_tn: 45493.0000 - val_fn: 22.0000 - val_accuracy: 0.9995 - val_precision: 0.9444 - val_recall: 0.6986 - val_auc: 0.9033 - val_prc: 0.7668\n",
      "Epoch 17/100\n",
      "90/90 [==============================] - 0s 4ms/step - loss: 0.0363 - cross entropy: 0.0363 - Brier score: 0.0093 - tp: 201.0000 - fp: 2615.0000 - tn: 179349.0000 - fn: 111.0000 - accuracy: 0.9850 - precision: 0.0714 - recall: 0.6442 - auc: 0.8880 - prc: 0.4741 - val_loss: 0.0040 - val_cross entropy: 0.0040 - val_Brier score: 5.1027e-04 - val_tp: 51.0000 - val_fp: 3.0000 - val_tn: 45493.0000 - val_fn: 22.0000 - val_accuracy: 0.9995 - val_precision: 0.9444 - val_recall: 0.6986 - val_auc: 0.9036 - val_prc: 0.7703\n",
      "Epoch 18/100\n",
      "90/90 [==============================] - 0s 3ms/step - loss: 0.0338 - cross entropy: 0.0338 - Brier score: 0.0085 - tp: 207.0000 - fp: 2427.0000 - tn: 179537.0000 - fn: 105.0000 - accuracy: 0.9861 - precision: 0.0786 - recall: 0.6635 - auc: 0.8841 - prc: 0.5424 - val_loss: 0.0039 - val_cross entropy: 0.0039 - val_Brier score: 4.9347e-04 - val_tp: 52.0000 - val_fp: 3.0000 - val_tn: 45493.0000 - val_fn: 21.0000 - val_accuracy: 0.9995 - val_precision: 0.9455 - val_recall: 0.7123 - val_auc: 0.9037 - val_prc: 0.7709\n",
      "Epoch 19/100\n",
      "90/90 [==============================] - 0s 4ms/step - loss: 0.0321 - cross entropy: 0.0321 - Brier score: 0.0081 - tp: 204.0000 - fp: 2352.0000 - tn: 179612.0000 - fn: 108.0000 - accuracy: 0.9865 - precision: 0.0798 - recall: 0.6538 - auc: 0.8894 - prc: 0.4857 - val_loss: 0.0038 - val_cross entropy: 0.0038 - val_Brier score: 4.8253e-04 - val_tp: 53.0000 - val_fp: 3.0000 - val_tn: 45493.0000 - val_fn: 20.0000 - val_accuracy: 0.9995 - val_precision: 0.9464 - val_recall: 0.7260 - val_auc: 0.9039 - val_prc: 0.7767\n",
      "Epoch 20/100\n",
      "90/90 [==============================] - 0s 4ms/step - loss: 0.0306 - cross entropy: 0.0306 - Brier score: 0.0076 - tp: 203.0000 - fp: 2249.0000 - tn: 179715.0000 - fn: 109.0000 - accuracy: 0.9871 - precision: 0.0828 - recall: 0.6506 - auc: 0.8836 - prc: 0.5089 - val_loss: 0.0037 - val_cross entropy: 0.0037 - val_Brier score: 4.6657e-04 - val_tp: 54.0000 - val_fp: 3.0000 - val_tn: 45493.0000 - val_fn: 19.0000 - val_accuracy: 0.9995 - val_precision: 0.9474 - val_recall: 0.7397 - val_auc: 0.9039 - val_prc: 0.7770\n",
      "Epoch 21/100\n",
      "90/90 [==============================] - 0s 4ms/step - loss: 0.0283 - cross entropy: 0.0283 - Brier score: 0.0071 - tp: 210.0000 - fp: 2086.0000 - tn: 179878.0000 - fn: 102.0000 - accuracy: 0.9880 - precision: 0.0915 - recall: 0.6731 - auc: 0.8974 - prc: 0.5258 - val_loss: 0.0036 - val_cross entropy: 0.0036 - val_Brier score: 4.5464e-04 - val_tp: 55.0000 - val_fp: 3.0000 - val_tn: 45493.0000 - val_fn: 18.0000 - val_accuracy: 0.9995 - val_precision: 0.9483 - val_recall: 0.7534 - val_auc: 0.9039 - val_prc: 0.7758\n",
      "Epoch 22/100\n",
      "90/90 [==============================] - 0s 4ms/step - loss: 0.0268 - cross entropy: 0.0268 - Brier score: 0.0067 - tp: 218.0000 - fp: 2001.0000 - tn: 179963.0000 - fn: 94.0000 - accuracy: 0.9885 - precision: 0.0982 - recall: 0.6987 - auc: 0.9018 - prc: 0.5770 - val_loss: 0.0036 - val_cross entropy: 0.0036 - val_Brier score: 4.4823e-04 - val_tp: 55.0000 - val_fp: 3.0000 - val_tn: 45493.0000 - val_fn: 18.0000 - val_accuracy: 0.9995 - val_precision: 0.9483 - val_recall: 0.7534 - val_auc: 0.9040 - val_prc: 0.7774\n",
      "Epoch 23/100\n",
      "90/90 [==============================] - 0s 4ms/step - loss: 0.0255 - cross entropy: 0.0255 - Brier score: 0.0064 - tp: 221.0000 - fp: 1906.0000 - tn: 180058.0000 - fn: 91.0000 - accuracy: 0.9890 - precision: 0.1039 - recall: 0.7083 - auc: 0.8975 - prc: 0.5675 - val_loss: 0.0036 - val_cross entropy: 0.0036 - val_Brier score: 4.4510e-04 - val_tp: 55.0000 - val_fp: 3.0000 - val_tn: 45493.0000 - val_fn: 18.0000 - val_accuracy: 0.9995 - val_precision: 0.9483 - val_recall: 0.7534 - val_auc: 0.9040 - val_prc: 0.7775\n",
      "Epoch 24/100\n",
      "90/90 [==============================] - 0s 4ms/step - loss: 0.0247 - cross entropy: 0.0247 - Brier score: 0.0061 - tp: 212.0000 - fp: 1815.0000 - tn: 180149.0000 - fn: 100.0000 - accuracy: 0.9895 - precision: 0.1046 - recall: 0.6795 - auc: 0.8980 - prc: 0.5178 - val_loss: 0.0036 - val_cross entropy: 0.0036 - val_Brier score: 4.4215e-04 - val_tp: 57.0000 - val_fp: 3.0000 - val_tn: 45493.0000 - val_fn: 16.0000 - val_accuracy: 0.9996 - val_precision: 0.9500 - val_recall: 0.7808 - val_auc: 0.9040 - val_prc: 0.7808\n",
      "Epoch 25/100\n",
      "90/90 [==============================] - 0s 4ms/step - loss: 0.0232 - cross entropy: 0.0232 - Brier score: 0.0057 - tp: 218.0000 - fp: 1700.0000 - tn: 180264.0000 - fn: 94.0000 - accuracy: 0.9902 - precision: 0.1137 - recall: 0.6987 - auc: 0.9024 - prc: 0.5460 - val_loss: 0.0035 - val_cross entropy: 0.0035 - val_Brier score: 4.3490e-04 - val_tp: 57.0000 - val_fp: 3.0000 - val_tn: 45493.0000 - val_fn: 16.0000 - val_accuracy: 0.9996 - val_precision: 0.9500 - val_recall: 0.7808 - val_auc: 0.9040 - val_prc: 0.7804\n",
      "Epoch 26/100\n",
      "90/90 [==============================] - 0s 3ms/step - loss: 0.0224 - cross entropy: 0.0224 - Brier score: 0.0055 - tp: 218.0000 - fp: 1664.0000 - tn: 180300.0000 - fn: 94.0000 - accuracy: 0.9904 - precision: 0.1158 - recall: 0.6987 - auc: 0.9065 - prc: 0.5364 - val_loss: 0.0035 - val_cross entropy: 0.0035 - val_Brier score: 4.3044e-04 - val_tp: 57.0000 - val_fp: 3.0000 - val_tn: 45493.0000 - val_fn: 16.0000 - val_accuracy: 0.9996 - val_precision: 0.9500 - val_recall: 0.7808 - val_auc: 0.9040 - val_prc: 0.7807\n",
      "Epoch 27/100\n",
      "90/90 [==============================] - 0s 4ms/step - loss: 0.0218 - cross entropy: 0.0218 - Brier score: 0.0053 - tp: 221.0000 - fp: 1659.0000 - tn: 180305.0000 - fn: 91.0000 - accuracy: 0.9904 - precision: 0.1176 - recall: 0.7083 - auc: 0.9030 - prc: 0.5840 - val_loss: 0.0035 - val_cross entropy: 0.0035 - val_Brier score: 4.2507e-04 - val_tp: 57.0000 - val_fp: 3.0000 - val_tn: 45493.0000 - val_fn: 16.0000 - val_accuracy: 0.9996 - val_precision: 0.9500 - val_recall: 0.7808 - val_auc: 0.9040 - val_prc: 0.7826\n",
      "Epoch 28/100\n",
      "90/90 [==============================] - 0s 4ms/step - loss: 0.0208 - cross entropy: 0.0208 - Brier score: 0.0049 - tp: 223.0000 - fp: 1565.0000 - tn: 180399.0000 - fn: 89.0000 - accuracy: 0.9909 - precision: 0.1247 - recall: 0.7147 - auc: 0.9013 - prc: 0.5867 - val_loss: 0.0035 - val_cross entropy: 0.0035 - val_Brier score: 4.2218e-04 - val_tp: 57.0000 - val_fp: 3.0000 - val_tn: 45493.0000 - val_fn: 16.0000 - val_accuracy: 0.9996 - val_precision: 0.9500 - val_recall: 0.7808 - val_auc: 0.9040 - val_prc: 0.7821\n",
      "Epoch 29/100\n",
      "90/90 [==============================] - 0s 4ms/step - loss: 0.0200 - cross entropy: 0.0200 - Brier score: 0.0047 - tp: 231.0000 - fp: 1473.0000 - tn: 180491.0000 - fn: 81.0000 - accuracy: 0.9915 - precision: 0.1356 - recall: 0.7404 - auc: 0.8949 - prc: 0.6100 - val_loss: 0.0034 - val_cross entropy: 0.0034 - val_Brier score: 4.2283e-04 - val_tp: 57.0000 - val_fp: 3.0000 - val_tn: 45493.0000 - val_fn: 16.0000 - val_accuracy: 0.9996 - val_precision: 0.9500 - val_recall: 0.7808 - val_auc: 0.9040 - val_prc: 0.7833\n",
      "Epoch 30/100\n",
      "90/90 [==============================] - 0s 4ms/step - loss: 0.0191 - cross entropy: 0.0191 - Brier score: 0.0045 - tp: 226.0000 - fp: 1400.0000 - tn: 180564.0000 - fn: 86.0000 - accuracy: 0.9918 - precision: 0.1390 - recall: 0.7244 - auc: 0.9073 - prc: 0.5822 - val_loss: 0.0035 - val_cross entropy: 0.0035 - val_Brier score: 4.2260e-04 - val_tp: 57.0000 - val_fp: 3.0000 - val_tn: 45493.0000 - val_fn: 16.0000 - val_accuracy: 0.9996 - val_precision: 0.9500 - val_recall: 0.7808 - val_auc: 0.9041 - val_prc: 0.7854\n",
      "Epoch 31/100\n",
      "90/90 [==============================] - 0s 4ms/step - loss: 0.0185 - cross entropy: 0.0185 - Brier score: 0.0043 - tp: 228.0000 - fp: 1343.0000 - tn: 180621.0000 - fn: 84.0000 - accuracy: 0.9922 - precision: 0.1451 - recall: 0.7308 - auc: 0.9068 - prc: 0.6445 - val_loss: 0.0034 - val_cross entropy: 0.0034 - val_Brier score: 4.1828e-04 - val_tp: 57.0000 - val_fp: 4.0000 - val_tn: 45492.0000 - val_fn: 16.0000 - val_accuracy: 0.9996 - val_precision: 0.9344 - val_recall: 0.7808 - val_auc: 0.9041 - val_prc: 0.7842\n",
      "Epoch 32/100\n",
      "90/90 [==============================] - 0s 3ms/step - loss: 0.0179 - cross entropy: 0.0179 - Brier score: 0.0042 - tp: 230.0000 - fp: 1357.0000 - tn: 180607.0000 - fn: 82.0000 - accuracy: 0.9921 - precision: 0.1449 - recall: 0.7372 - auc: 0.8993 - prc: 0.5899 - val_loss: 0.0034 - val_cross entropy: 0.0034 - val_Brier score: 4.2119e-04 - val_tp: 57.0000 - val_fp: 4.0000 - val_tn: 45492.0000 - val_fn: 16.0000 - val_accuracy: 0.9996 - val_precision: 0.9344 - val_recall: 0.7808 - val_auc: 0.9041 - val_prc: 0.7862\n",
      "Epoch 33/100\n",
      "90/90 [==============================] - 0s 4ms/step - loss: 0.0169 - cross entropy: 0.0169 - Brier score: 0.0040 - tp: 230.0000 - fp: 1300.0000 - tn: 180664.0000 - fn: 82.0000 - accuracy: 0.9924 - precision: 0.1503 - recall: 0.7372 - auc: 0.9106 - prc: 0.5719 - val_loss: 0.0035 - val_cross entropy: 0.0035 - val_Brier score: 4.2436e-04 - val_tp: 57.0000 - val_fp: 4.0000 - val_tn: 45492.0000 - val_fn: 16.0000 - val_accuracy: 0.9996 - val_precision: 0.9344 - val_recall: 0.7808 - val_auc: 0.9041 - val_prc: 0.7881\n",
      "Epoch 34/100\n",
      "90/90 [==============================] - 0s 5ms/step - loss: 0.0162 - cross entropy: 0.0162 - Brier score: 0.0037 - tp: 238.0000 - fp: 1205.0000 - tn: 180759.0000 - fn: 74.0000 - accuracy: 0.9930 - precision: 0.1649 - recall: 0.7628 - auc: 0.9056 - prc: 0.6274 - val_loss: 0.0034 - val_cross entropy: 0.0034 - val_Brier score: 4.2278e-04 - val_tp: 57.0000 - val_fp: 4.0000 - val_tn: 45492.0000 - val_fn: 16.0000 - val_accuracy: 0.9996 - val_precision: 0.9344 - val_recall: 0.7808 - val_auc: 0.9041 - val_prc: 0.7881\n",
      "Epoch 35/100\n",
      "90/90 [==============================] - 0s 4ms/step - loss: 0.0157 - cross entropy: 0.0157 - Brier score: 0.0035 - tp: 231.0000 - fp: 1167.0000 - tn: 180797.0000 - fn: 81.0000 - accuracy: 0.9932 - precision: 0.1652 - recall: 0.7404 - auc: 0.9145 - prc: 0.6135 - val_loss: 0.0034 - val_cross entropy: 0.0034 - val_Brier score: 4.2219e-04 - val_tp: 57.0000 - val_fp: 4.0000 - val_tn: 45492.0000 - val_fn: 16.0000 - val_accuracy: 0.9996 - val_precision: 0.9344 - val_recall: 0.7808 - val_auc: 0.9041 - val_prc: 0.7885\n",
      "Epoch 36/100\n",
      "90/90 [==============================] - 0s 4ms/step - loss: 0.0150 - cross entropy: 0.0150 - Brier score: 0.0034 - tp: 235.0000 - fp: 1139.0000 - tn: 180825.0000 - fn: 77.0000 - accuracy: 0.9933 - precision: 0.1710 - recall: 0.7532 - auc: 0.9067 - prc: 0.6204 - val_loss: 0.0034 - val_cross entropy: 0.0034 - val_Brier score: 4.1993e-04 - val_tp: 57.0000 - val_fp: 4.0000 - val_tn: 45492.0000 - val_fn: 16.0000 - val_accuracy: 0.9996 - val_precision: 0.9344 - val_recall: 0.7808 - val_auc: 0.9041 - val_prc: 0.7896\n",
      "Epoch 37/100\n",
      "90/90 [==============================] - 0s 4ms/step - loss: 0.0146 - cross entropy: 0.0146 - Brier score: 0.0032 - tp: 235.0000 - fp: 1049.0000 - tn: 180915.0000 - fn: 77.0000 - accuracy: 0.9938 - precision: 0.1830 - recall: 0.7532 - auc: 0.9040 - prc: 0.6292 - val_loss: 0.0033 - val_cross entropy: 0.0033 - val_Brier score: 4.1435e-04 - val_tp: 57.0000 - val_fp: 4.0000 - val_tn: 45492.0000 - val_fn: 16.0000 - val_accuracy: 0.9996 - val_precision: 0.9344 - val_recall: 0.7808 - val_auc: 0.9109 - val_prc: 0.8023\n",
      "Epoch 38/100\n",
      "90/90 [==============================] - 0s 4ms/step - loss: 0.0142 - cross entropy: 0.0142 - Brier score: 0.0032 - tp: 236.0000 - fp: 1075.0000 - tn: 180889.0000 - fn: 76.0000 - accuracy: 0.9937 - precision: 0.1800 - recall: 0.7564 - auc: 0.9174 - prc: 0.6239 - val_loss: 0.0034 - val_cross entropy: 0.0034 - val_Brier score: 4.1859e-04 - val_tp: 57.0000 - val_fp: 4.0000 - val_tn: 45492.0000 - val_fn: 16.0000 - val_accuracy: 0.9996 - val_precision: 0.9344 - val_recall: 0.7808 - val_auc: 0.9109 - val_prc: 0.8032\n",
      "Epoch 39/100\n",
      "90/90 [==============================] - 0s 4ms/step - loss: 0.0134 - cross entropy: 0.0134 - Brier score: 0.0030 - tp: 241.0000 - fp: 961.0000 - tn: 181003.0000 - fn: 71.0000 - accuracy: 0.9943 - precision: 0.2005 - recall: 0.7724 - auc: 0.9125 - prc: 0.6561 - val_loss: 0.0034 - val_cross entropy: 0.0034 - val_Brier score: 4.1711e-04 - val_tp: 57.0000 - val_fp: 4.0000 - val_tn: 45492.0000 - val_fn: 16.0000 - val_accuracy: 0.9996 - val_precision: 0.9344 - val_recall: 0.7808 - val_auc: 0.9109 - val_prc: 0.8044\n",
      "Epoch 40/100\n",
      "90/90 [==============================] - 0s 4ms/step - loss: 0.0128 - cross entropy: 0.0128 - Brier score: 0.0029 - tp: 238.0000 - fp: 952.0000 - tn: 181012.0000 - fn: 74.0000 - accuracy: 0.9944 - precision: 0.2000 - recall: 0.7628 - auc: 0.9178 - prc: 0.6531 - val_loss: 0.0033 - val_cross entropy: 0.0033 - val_Brier score: 4.1189e-04 - val_tp: 58.0000 - val_fp: 4.0000 - val_tn: 45492.0000 - val_fn: 15.0000 - val_accuracy: 0.9996 - val_precision: 0.9355 - val_recall: 0.7945 - val_auc: 0.9109 - val_prc: 0.8034\n",
      "Epoch 41/100\n",
      "90/90 [==============================] - 0s 4ms/step - loss: 0.0123 - cross entropy: 0.0123 - Brier score: 0.0027 - tp: 243.0000 - fp: 924.0000 - tn: 181040.0000 - fn: 69.0000 - accuracy: 0.9946 - precision: 0.2082 - recall: 0.7788 - auc: 0.9189 - prc: 0.6522 - val_loss: 0.0033 - val_cross entropy: 0.0033 - val_Brier score: 4.1302e-04 - val_tp: 58.0000 - val_fp: 4.0000 - val_tn: 45492.0000 - val_fn: 15.0000 - val_accuracy: 0.9996 - val_precision: 0.9355 - val_recall: 0.7945 - val_auc: 0.9109 - val_prc: 0.8051\n",
      "Epoch 42/100\n",
      "90/90 [==============================] - 0s 4ms/step - loss: 0.0124 - cross entropy: 0.0124 - Brier score: 0.0027 - tp: 232.0000 - fp: 902.0000 - tn: 181062.0000 - fn: 80.0000 - accuracy: 0.9946 - precision: 0.2046 - recall: 0.7436 - auc: 0.9131 - prc: 0.6391 - val_loss: 0.0033 - val_cross entropy: 0.0033 - val_Brier score: 4.1189e-04 - val_tp: 58.0000 - val_fp: 4.0000 - val_tn: 45492.0000 - val_fn: 15.0000 - val_accuracy: 0.9996 - val_precision: 0.9355 - val_recall: 0.7945 - val_auc: 0.9178 - val_prc: 0.8188\n",
      "Epoch 43/100\n",
      "90/90 [==============================] - 0s 5ms/step - loss: 0.0116 - cross entropy: 0.0116 - Brier score: 0.0024 - tp: 241.0000 - fp: 775.0000 - tn: 181189.0000 - fn: 71.0000 - accuracy: 0.9954 - precision: 0.2372 - recall: 0.7724 - auc: 0.9164 - prc: 0.6330 - val_loss: 0.0032 - val_cross entropy: 0.0032 - val_Brier score: 4.0809e-04 - val_tp: 58.0000 - val_fp: 4.0000 - val_tn: 45492.0000 - val_fn: 15.0000 - val_accuracy: 0.9996 - val_precision: 0.9355 - val_recall: 0.7945 - val_auc: 0.9178 - val_prc: 0.8180\n",
      "Epoch 44/100\n",
      "90/90 [==============================] - 0s 4ms/step - loss: 0.0115 - cross entropy: 0.0115 - Brier score: 0.0025 - tp: 238.0000 - fp: 838.0000 - tn: 181126.0000 - fn: 74.0000 - accuracy: 0.9950 - precision: 0.2212 - recall: 0.7628 - auc: 0.9143 - prc: 0.6523 - val_loss: 0.0032 - val_cross entropy: 0.0032 - val_Brier score: 4.0750e-04 - val_tp: 58.0000 - val_fp: 4.0000 - val_tn: 45492.0000 - val_fn: 15.0000 - val_accuracy: 0.9996 - val_precision: 0.9355 - val_recall: 0.7945 - val_auc: 0.9178 - val_prc: 0.8168\n",
      "Epoch 45/100\n",
      "90/90 [==============================] - 0s 4ms/step - loss: 0.0114 - cross entropy: 0.0114 - Brier score: 0.0023 - tp: 244.0000 - fp: 775.0000 - tn: 181189.0000 - fn: 68.0000 - accuracy: 0.9954 - precision: 0.2395 - recall: 0.7821 - auc: 0.9148 - prc: 0.6513 - val_loss: 0.0033 - val_cross entropy: 0.0033 - val_Brier score: 4.1183e-04 - val_tp: 58.0000 - val_fp: 4.0000 - val_tn: 45492.0000 - val_fn: 15.0000 - val_accuracy: 0.9996 - val_precision: 0.9355 - val_recall: 0.7945 - val_auc: 0.9178 - val_prc: 0.8173\n",
      "Epoch 46/100\n",
      "90/90 [==============================] - 0s 3ms/step - loss: 0.0106 - cross entropy: 0.0106 - Brier score: 0.0022 - tp: 241.0000 - fp: 755.0000 - tn: 181209.0000 - fn: 71.0000 - accuracy: 0.9955 - precision: 0.2420 - recall: 0.7724 - auc: 0.9230 - prc: 0.6845 - val_loss: 0.0032 - val_cross entropy: 0.0032 - val_Brier score: 4.0453e-04 - val_tp: 59.0000 - val_fp: 4.0000 - val_tn: 45492.0000 - val_fn: 14.0000 - val_accuracy: 0.9996 - val_precision: 0.9365 - val_recall: 0.8082 - val_auc: 0.9178 - val_prc: 0.8189\n",
      "Epoch 47/100\n",
      "90/90 [==============================] - 0s 4ms/step - loss: 0.0109 - cross entropy: 0.0109 - Brier score: 0.0022 - tp: 244.0000 - fp: 753.0000 - tn: 181211.0000 - fn: 68.0000 - accuracy: 0.9955 - precision: 0.2447 - recall: 0.7821 - auc: 0.9168 - prc: 0.6449 - val_loss: 0.0032 - val_cross entropy: 0.0032 - val_Brier score: 4.0685e-04 - val_tp: 59.0000 - val_fp: 4.0000 - val_tn: 45492.0000 - val_fn: 14.0000 - val_accuracy: 0.9996 - val_precision: 0.9365 - val_recall: 0.8082 - val_auc: 0.9246 - val_prc: 0.8302\n",
      "Epoch 48/100\n",
      "90/90 [==============================] - 0s 4ms/step - loss: 0.0102 - cross entropy: 0.0102 - Brier score: 0.0021 - tp: 242.0000 - fp: 692.0000 - tn: 181272.0000 - fn: 70.0000 - accuracy: 0.9958 - precision: 0.2591 - recall: 0.7756 - auc: 0.9228 - prc: 0.6801 - val_loss: 0.0032 - val_cross entropy: 0.0032 - val_Brier score: 4.0544e-04 - val_tp: 59.0000 - val_fp: 4.0000 - val_tn: 45492.0000 - val_fn: 14.0000 - val_accuracy: 0.9996 - val_precision: 0.9365 - val_recall: 0.8082 - val_auc: 0.9246 - val_prc: 0.8294\n",
      "Epoch 49/100\n",
      "90/90 [==============================] - 0s 4ms/step - loss: 0.0098 - cross entropy: 0.0098 - Brier score: 0.0020 - tp: 249.0000 - fp: 693.0000 - tn: 181271.0000 - fn: 63.0000 - accuracy: 0.9959 - precision: 0.2643 - recall: 0.7981 - auc: 0.9254 - prc: 0.6866 - val_loss: 0.0031 - val_cross entropy: 0.0031 - val_Brier score: 3.9934e-04 - val_tp: 59.0000 - val_fp: 4.0000 - val_tn: 45492.0000 - val_fn: 14.0000 - val_accuracy: 0.9996 - val_precision: 0.9365 - val_recall: 0.8082 - val_auc: 0.9246 - val_prc: 0.8319\n",
      "Epoch 50/100\n",
      "90/90 [==============================] - 0s 4ms/step - loss: 0.0095 - cross entropy: 0.0095 - Brier score: 0.0019 - tp: 244.0000 - fp: 651.0000 - tn: 181313.0000 - fn: 68.0000 - accuracy: 0.9961 - precision: 0.2726 - recall: 0.7821 - auc: 0.9256 - prc: 0.6938 - val_loss: 0.0031 - val_cross entropy: 0.0031 - val_Brier score: 3.9507e-04 - val_tp: 59.0000 - val_fp: 3.0000 - val_tn: 45493.0000 - val_fn: 14.0000 - val_accuracy: 0.9996 - val_precision: 0.9516 - val_recall: 0.8082 - val_auc: 0.9246 - val_prc: 0.8316\n",
      "Epoch 51/100\n",
      "90/90 [==============================] - 0s 4ms/step - loss: 0.0088 - cross entropy: 0.0088 - Brier score: 0.0018 - tp: 228.0000 - fp: 359.0000 - tn: 181605.0000 - fn: 84.0000 - accuracy: 0.9976 - precision: 0.3884 - recall: 0.7308 - auc: 0.9257 - prc: 0.7165 - val_loss: 0.0030 - val_cross entropy: 0.0030 - val_Brier score: 3.8961e-04 - val_tp: 59.0000 - val_fp: 3.0000 - val_tn: 45493.0000 - val_fn: 14.0000 - val_accuracy: 0.9996 - val_precision: 0.9516 - val_recall: 0.8082 - val_auc: 0.9246 - val_prc: 0.8325\n",
      "Epoch 52/100\n",
      "90/90 [==============================] - 0s 4ms/step - loss: 0.0087 - cross entropy: 0.0087 - Brier score: 0.0018 - tp: 218.0000 - fp: 79.0000 - tn: 181885.0000 - fn: 94.0000 - accuracy: 0.9991 - precision: 0.7340 - recall: 0.6987 - auc: 0.9276 - prc: 0.6826 - val_loss: 0.0030 - val_cross entropy: 0.0030 - val_Brier score: 3.8928e-04 - val_tp: 59.0000 - val_fp: 3.0000 - val_tn: 45493.0000 - val_fn: 14.0000 - val_accuracy: 0.9996 - val_precision: 0.9516 - val_recall: 0.8082 - val_auc: 0.9314 - val_prc: 0.8433\n",
      "Epoch 53/100\n",
      "90/90 [==============================] - 0s 3ms/step - loss: 0.0090 - cross entropy: 0.0090 - Brier score: 0.0018 - tp: 220.0000 - fp: 67.0000 - tn: 181897.0000 - fn: 92.0000 - accuracy: 0.9991 - precision: 0.7666 - recall: 0.7051 - auc: 0.9182 - prc: 0.6846 - val_loss: 0.0029 - val_cross entropy: 0.0029 - val_Brier score: 3.8298e-04 - val_tp: 59.0000 - val_fp: 3.0000 - val_tn: 45493.0000 - val_fn: 14.0000 - val_accuracy: 0.9996 - val_precision: 0.9516 - val_recall: 0.8082 - val_auc: 0.9314 - val_prc: 0.8418\n",
      "Epoch 54/100\n",
      "90/90 [==============================] - 0s 4ms/step - loss: 0.0083 - cross entropy: 0.0083 - Brier score: 0.0017 - tp: 226.0000 - fp: 63.0000 - tn: 181901.0000 - fn: 86.0000 - accuracy: 0.9992 - precision: 0.7820 - recall: 0.7244 - auc: 0.9348 - prc: 0.7017 - val_loss: 0.0030 - val_cross entropy: 0.0030 - val_Brier score: 3.8388e-04 - val_tp: 59.0000 - val_fp: 3.0000 - val_tn: 45493.0000 - val_fn: 14.0000 - val_accuracy: 0.9996 - val_precision: 0.9516 - val_recall: 0.8082 - val_auc: 0.9314 - val_prc: 0.8423\n",
      "Epoch 55/100\n",
      "90/90 [==============================] - 0s 4ms/step - loss: 0.0082 - cross entropy: 0.0082 - Brier score: 0.0016 - tp: 226.0000 - fp: 49.0000 - tn: 181915.0000 - fn: 86.0000 - accuracy: 0.9993 - precision: 0.8218 - recall: 0.7244 - auc: 0.9283 - prc: 0.7183 - val_loss: 0.0029 - val_cross entropy: 0.0029 - val_Brier score: 3.7316e-04 - val_tp: 59.0000 - val_fp: 4.0000 - val_tn: 45492.0000 - val_fn: 14.0000 - val_accuracy: 0.9996 - val_precision: 0.9365 - val_recall: 0.8082 - val_auc: 0.9451 - val_prc: 0.8637\n",
      "Epoch 56/100\n",
      "90/90 [==============================] - 0s 4ms/step - loss: 0.0083 - cross entropy: 0.0083 - Brier score: 0.0016 - tp: 215.0000 - fp: 57.0000 - tn: 181907.0000 - fn: 97.0000 - accuracy: 0.9992 - precision: 0.7904 - recall: 0.6891 - auc: 0.9315 - prc: 0.6843 - val_loss: 0.0029 - val_cross entropy: 0.0029 - val_Brier score: 3.8028e-04 - val_tp: 59.0000 - val_fp: 3.0000 - val_tn: 45493.0000 - val_fn: 14.0000 - val_accuracy: 0.9996 - val_precision: 0.9516 - val_recall: 0.8082 - val_auc: 0.9451 - val_prc: 0.8636\n",
      "Epoch 57/100\n",
      "90/90 [==============================] - 0s 4ms/step - loss: 0.0081 - cross entropy: 0.0081 - Brier score: 0.0015 - tp: 217.0000 - fp: 52.0000 - tn: 181912.0000 - fn: 95.0000 - accuracy: 0.9992 - precision: 0.8067 - recall: 0.6955 - auc: 0.9281 - prc: 0.6663 - val_loss: 0.0029 - val_cross entropy: 0.0029 - val_Brier score: 3.7902e-04 - val_tp: 59.0000 - val_fp: 3.0000 - val_tn: 45493.0000 - val_fn: 14.0000 - val_accuracy: 0.9996 - val_precision: 0.9516 - val_recall: 0.8082 - val_auc: 0.9451 - val_prc: 0.8606\n",
      "Epoch 58/100\n",
      "90/90 [==============================] - 0s 4ms/step - loss: 0.0079 - cross entropy: 0.0079 - Brier score: 0.0015 - tp: 220.0000 - fp: 50.0000 - tn: 181914.0000 - fn: 92.0000 - accuracy: 0.9992 - precision: 0.8148 - recall: 0.7051 - auc: 0.9286 - prc: 0.7069 - val_loss: 0.0029 - val_cross entropy: 0.0029 - val_Brier score: 3.7946e-04 - val_tp: 59.0000 - val_fp: 3.0000 - val_tn: 45493.0000 - val_fn: 14.0000 - val_accuracy: 0.9996 - val_precision: 0.9516 - val_recall: 0.8082 - val_auc: 0.9451 - val_prc: 0.8635\n",
      "Epoch 59/100\n",
      "90/90 [==============================] - 0s 4ms/step - loss: 0.0074 - cross entropy: 0.0074 - Brier score: 0.0014 - tp: 222.0000 - fp: 47.0000 - tn: 181917.0000 - fn: 90.0000 - accuracy: 0.9992 - precision: 0.8253 - recall: 0.7115 - auc: 0.9321 - prc: 0.7030 - val_loss: 0.0029 - val_cross entropy: 0.0029 - val_Brier score: 3.8027e-04 - val_tp: 59.0000 - val_fp: 4.0000 - val_tn: 45492.0000 - val_fn: 14.0000 - val_accuracy: 0.9996 - val_precision: 0.9365 - val_recall: 0.8082 - val_auc: 0.9383 - val_prc: 0.8505\n",
      "Epoch 60/100\n",
      "90/90 [==============================] - 0s 4ms/step - loss: 0.0072 - cross entropy: 0.0072 - Brier score: 0.0014 - tp: 218.0000 - fp: 52.0000 - tn: 181912.0000 - fn: 94.0000 - accuracy: 0.9992 - precision: 0.8074 - recall: 0.6987 - auc: 0.9340 - prc: 0.7017 - val_loss: 0.0029 - val_cross entropy: 0.0029 - val_Brier score: 3.7078e-04 - val_tp: 59.0000 - val_fp: 4.0000 - val_tn: 45492.0000 - val_fn: 14.0000 - val_accuracy: 0.9996 - val_precision: 0.9365 - val_recall: 0.8082 - val_auc: 0.9451 - val_prc: 0.8631\n",
      "Epoch 61/100\n",
      "90/90 [==============================] - 0s 4ms/step - loss: 0.0073 - cross entropy: 0.0073 - Brier score: 0.0014 - tp: 217.0000 - fp: 46.0000 - tn: 181918.0000 - fn: 95.0000 - accuracy: 0.9992 - precision: 0.8251 - recall: 0.6955 - auc: 0.9273 - prc: 0.6943 - val_loss: 0.0029 - val_cross entropy: 0.0029 - val_Brier score: 3.7420e-04 - val_tp: 59.0000 - val_fp: 4.0000 - val_tn: 45492.0000 - val_fn: 14.0000 - val_accuracy: 0.9996 - val_precision: 0.9365 - val_recall: 0.8082 - val_auc: 0.9519 - val_prc: 0.8731\n",
      "Epoch 62/100\n",
      "90/90 [==============================] - 0s 4ms/step - loss: 0.0070 - cross entropy: 0.0070 - Brier score: 0.0014 - tp: 222.0000 - fp: 47.0000 - tn: 181917.0000 - fn: 90.0000 - accuracy: 0.9992 - precision: 0.8253 - recall: 0.7115 - auc: 0.9356 - prc: 0.7073 - val_loss: 0.0029 - val_cross entropy: 0.0029 - val_Brier score: 3.7673e-04 - val_tp: 59.0000 - val_fp: 4.0000 - val_tn: 45492.0000 - val_fn: 14.0000 - val_accuracy: 0.9996 - val_precision: 0.9365 - val_recall: 0.8082 - val_auc: 0.9519 - val_prc: 0.8702\n",
      "Epoch 63/100\n",
      "90/90 [==============================] - 0s 5ms/step - loss: 0.0067 - cross entropy: 0.0067 - Brier score: 0.0013 - tp: 221.0000 - fp: 46.0000 - tn: 181918.0000 - fn: 91.0000 - accuracy: 0.9992 - precision: 0.8277 - recall: 0.7083 - auc: 0.9261 - prc: 0.7095 - val_loss: 0.0028 - val_cross entropy: 0.0028 - val_Brier score: 3.6393e-04 - val_tp: 59.0000 - val_fp: 4.0000 - val_tn: 45492.0000 - val_fn: 14.0000 - val_accuracy: 0.9996 - val_precision: 0.9365 - val_recall: 0.8082 - val_auc: 0.9519 - val_prc: 0.8742\n",
      "Epoch 64/100\n",
      "90/90 [==============================] - 0s 3ms/step - loss: 0.0070 - cross entropy: 0.0070 - Brier score: 0.0013 - tp: 213.0000 - fp: 46.0000 - tn: 181918.0000 - fn: 99.0000 - accuracy: 0.9992 - precision: 0.8224 - recall: 0.6827 - auc: 0.9244 - prc: 0.6925 - val_loss: 0.0028 - val_cross entropy: 0.0028 - val_Brier score: 3.6689e-04 - val_tp: 59.0000 - val_fp: 3.0000 - val_tn: 45493.0000 - val_fn: 14.0000 - val_accuracy: 0.9996 - val_precision: 0.9516 - val_recall: 0.8082 - val_auc: 0.9519 - val_prc: 0.8738\n",
      "Epoch 65/100\n",
      "80/90 [=========================>....] - ETA: 0s - loss: 0.0064 - cross entropy: 0.0064 - Brier score: 0.0012 - tp: 201.0000 - fp: 39.0000 - tn: 163515.0000 - fn: 85.0000 - accuracy: 0.9992 - precision: 0.8375 - recall: 0.7028 - auc: 0.9425 - prc: 0.7069Restoring model weights from the end of the best epoch: 55.\n",
      "90/90 [==============================] - 0s 4ms/step - loss: 0.0064 - cross entropy: 0.0064 - Brier score: 0.0012 - tp: 217.0000 - fp: 44.0000 - tn: 181920.0000 - fn: 95.0000 - accuracy: 0.9992 - precision: 0.8314 - recall: 0.6955 - auc: 0.9389 - prc: 0.7044 - val_loss: 0.0028 - val_cross entropy: 0.0028 - val_Brier score: 3.7234e-04 - val_tp: 59.0000 - val_fp: 3.0000 - val_tn: 45493.0000 - val_fn: 14.0000 - val_accuracy: 0.9996 - val_precision: 0.9516 - val_recall: 0.8082 - val_auc: 0.9520 - val_prc: 0.8766\n",
      "Epoch 65: early stopping\n"
     ]
    },
    {
     "data": {
      "text/plain": [
       "<keras.src.callbacks.History at 0x21cb8ebb7f0>"
      ]
     },
     "execution_count": 28,
     "metadata": {},
     "output_type": "execute_result"
    }
   ],
   "source": [
    "clf.fit(train_features, train_labels, epochs=EPOCHS, batch_size=BATCH_SIZE, validation_data=(val_features, val_labels), callbacks=[early_stopping])"
   ]
  },
  {
   "cell_type": "markdown",
   "metadata": {},
   "source": [
    "# Evaluation"
   ]
  },
  {
   "cell_type": "code",
   "execution_count": 29,
   "metadata": {},
   "outputs": [
    {
     "name": "stdout",
     "output_type": "stream",
     "text": [
      "1/1 [==============================] - 0s 96ms/step\n"
     ]
    },
    {
     "data": {
      "text/plain": [
       "array([[1.8879249e-09],\n",
       "       [1.0878518e-09],\n",
       "       [3.0195304e-05],\n",
       "       [2.1596925e-08],\n",
       "       [2.9779009e-08],\n",
       "       [9.0036373e-10],\n",
       "       [2.4207955e-07],\n",
       "       [1.8295914e-07],\n",
       "       [1.1859150e-06],\n",
       "       [4.1818927e-07]], dtype=float32)"
      ]
     },
     "execution_count": 29,
     "metadata": {},
     "output_type": "execute_result"
    }
   ],
   "source": [
    "clf.predict(train_features[:10])\n"
   ]
  },
  {
   "cell_type": "code",
   "execution_count": 30,
   "metadata": {},
   "outputs": [
    {
     "name": "stdout",
     "output_type": "stream",
     "text": [
      "Loss: 0.0037\n"
     ]
    }
   ],
   "source": [
    "results = clf.evaluate(train_features, train_labels, batch_size=BATCH_SIZE, verbose=0)\n",
    "print(\"Loss: {:0.4f}\".format(results[0]))\n"
   ]
  },
  {
   "cell_type": "markdown",
   "metadata": {},
   "source": [
    "Lets set a different bias"
   ]
  },
  {
   "cell_type": "code",
   "execution_count": 31,
   "metadata": {},
   "outputs": [
    {
     "data": {
      "text/plain": [
       "array([-6.35935934])"
      ]
     },
     "execution_count": 31,
     "metadata": {},
     "output_type": "execute_result"
    }
   ],
   "source": [
    "initial_bias = np.log([pos/neg])\n",
    "initial_bias"
   ]
  },
  {
   "cell_type": "code",
   "execution_count": 32,
   "metadata": {},
   "outputs": [
    {
     "name": "stdout",
     "output_type": "stream",
     "text": [
      "Epoch 1/100\n",
      "90/90 [==============================] - 2s 8ms/step - loss: 0.0157 - cross entropy: 0.0097 - Brier score: 0.0015 - tp: 383.0000 - fp: 387.0000 - tn: 363541.0000 - fn: 241.0000 - accuracy: 0.9983 - precision: 0.4974 - recall: 0.6138 - auc: 0.8903 - prc: 0.4227 - val_loss: 0.0061 - val_cross entropy: 0.0061 - val_Brier score: 6.8994e-04 - val_tp: 38.0000 - val_fp: 2.0000 - val_tn: 45494.0000 - val_fn: 35.0000 - val_accuracy: 0.9992 - val_precision: 0.9500 - val_recall: 0.5205 - val_auc: 0.8982 - val_prc: 0.7342\n",
      "Epoch 2/100\n",
      "90/90 [==============================] - 0s 4ms/step - loss: 0.0080 - cross entropy: 0.0080 - Brier score: 9.8989e-04 - tp: 156.0000 - fp: 41.0000 - tn: 181923.0000 - fn: 156.0000 - accuracy: 0.9989 - precision: 0.7919 - recall: 0.5000 - auc: 0.8843 - prc: 0.5419 - val_loss: 0.0048 - val_cross entropy: 0.0048 - val_Brier score: 5.7332e-04 - val_tp: 47.0000 - val_fp: 3.0000 - val_tn: 45493.0000 - val_fn: 26.0000 - val_accuracy: 0.9994 - val_precision: 0.9400 - val_recall: 0.6438 - val_auc: 0.9217 - val_prc: 0.7670\n",
      "Epoch 3/100\n",
      "90/90 [==============================] - 0s 4ms/step - loss: 0.0065 - cross entropy: 0.0065 - Brier score: 8.4681e-04 - tp: 174.0000 - fp: 33.0000 - tn: 181931.0000 - fn: 138.0000 - accuracy: 0.9991 - precision: 0.8406 - recall: 0.5577 - auc: 0.9094 - prc: 0.6176 - val_loss: 0.0042 - val_cross entropy: 0.0042 - val_Brier score: 5.3209e-04 - val_tp: 47.0000 - val_fp: 3.0000 - val_tn: 45493.0000 - val_fn: 26.0000 - val_accuracy: 0.9994 - val_precision: 0.9400 - val_recall: 0.6438 - val_auc: 0.9307 - val_prc: 0.7851\n",
      "Epoch 4/100\n",
      "90/90 [==============================] - 0s 4ms/step - loss: 0.0064 - cross entropy: 0.0064 - Brier score: 9.0134e-04 - tp: 161.0000 - fp: 41.0000 - tn: 181923.0000 - fn: 151.0000 - accuracy: 0.9989 - precision: 0.7970 - recall: 0.5160 - auc: 0.9124 - prc: 0.6062 - val_loss: 0.0038 - val_cross entropy: 0.0038 - val_Brier score: 4.8371e-04 - val_tp: 50.0000 - val_fp: 3.0000 - val_tn: 45493.0000 - val_fn: 23.0000 - val_accuracy: 0.9994 - val_precision: 0.9434 - val_recall: 0.6849 - val_auc: 0.9311 - val_prc: 0.8192\n",
      "Epoch 5/100\n",
      "90/90 [==============================] - 0s 4ms/step - loss: 0.0056 - cross entropy: 0.0056 - Brier score: 8.0500e-04 - tp: 180.0000 - fp: 35.0000 - tn: 181929.0000 - fn: 132.0000 - accuracy: 0.9991 - precision: 0.8372 - recall: 0.5769 - auc: 0.9142 - prc: 0.6516 - val_loss: 0.0035 - val_cross entropy: 0.0035 - val_Brier score: 4.6922e-04 - val_tp: 50.0000 - val_fp: 2.0000 - val_tn: 45494.0000 - val_fn: 23.0000 - val_accuracy: 0.9995 - val_precision: 0.9615 - val_recall: 0.6849 - val_auc: 0.9313 - val_prc: 0.8208\n",
      "Epoch 6/100\n",
      "90/90 [==============================] - 0s 4ms/step - loss: 0.0053 - cross entropy: 0.0053 - Brier score: 7.8779e-04 - tp: 185.0000 - fp: 38.0000 - tn: 181926.0000 - fn: 127.0000 - accuracy: 0.9991 - precision: 0.8296 - recall: 0.5929 - auc: 0.9189 - prc: 0.6575 - val_loss: 0.0033 - val_cross entropy: 0.0033 - val_Brier score: 4.4361e-04 - val_tp: 55.0000 - val_fp: 2.0000 - val_tn: 45494.0000 - val_fn: 18.0000 - val_accuracy: 0.9996 - val_precision: 0.9649 - val_recall: 0.7534 - val_auc: 0.9381 - val_prc: 0.8340\n",
      "Epoch 7/100\n",
      "90/90 [==============================] - 0s 3ms/step - loss: 0.0052 - cross entropy: 0.0052 - Brier score: 7.9167e-04 - tp: 179.0000 - fp: 35.0000 - tn: 181929.0000 - fn: 133.0000 - accuracy: 0.9991 - precision: 0.8364 - recall: 0.5737 - auc: 0.9307 - prc: 0.6748 - val_loss: 0.0031 - val_cross entropy: 0.0031 - val_Brier score: 4.5029e-04 - val_tp: 53.0000 - val_fp: 2.0000 - val_tn: 45494.0000 - val_fn: 20.0000 - val_accuracy: 0.9995 - val_precision: 0.9636 - val_recall: 0.7260 - val_auc: 0.9450 - val_prc: 0.8439\n",
      "Epoch 8/100\n",
      "90/90 [==============================] - 0s 4ms/step - loss: 0.0047 - cross entropy: 0.0047 - Brier score: 7.1409e-04 - tp: 193.0000 - fp: 32.0000 - tn: 181932.0000 - fn: 119.0000 - accuracy: 0.9992 - precision: 0.8578 - recall: 0.6186 - auc: 0.9264 - prc: 0.7154 - val_loss: 0.0030 - val_cross entropy: 0.0030 - val_Brier score: 4.3357e-04 - val_tp: 55.0000 - val_fp: 2.0000 - val_tn: 45494.0000 - val_fn: 18.0000 - val_accuracy: 0.9996 - val_precision: 0.9649 - val_recall: 0.7534 - val_auc: 0.9450 - val_prc: 0.8448\n",
      "Epoch 9/100\n",
      "90/90 [==============================] - 0s 4ms/step - loss: 0.0043 - cross entropy: 0.0043 - Brier score: 6.7436e-04 - tp: 202.0000 - fp: 32.0000 - tn: 181932.0000 - fn: 110.0000 - accuracy: 0.9992 - precision: 0.8632 - recall: 0.6474 - auc: 0.9393 - prc: 0.7132 - val_loss: 0.0028 - val_cross entropy: 0.0028 - val_Brier score: 4.1618e-04 - val_tp: 55.0000 - val_fp: 2.0000 - val_tn: 45494.0000 - val_fn: 18.0000 - val_accuracy: 0.9996 - val_precision: 0.9649 - val_recall: 0.7534 - val_auc: 0.9518 - val_prc: 0.8469\n",
      "Epoch 10/100\n",
      "90/90 [==============================] - 0s 4ms/step - loss: 0.0047 - cross entropy: 0.0047 - Brier score: 7.8576e-04 - tp: 177.0000 - fp: 30.0000 - tn: 181934.0000 - fn: 135.0000 - accuracy: 0.9991 - precision: 0.8551 - recall: 0.5673 - auc: 0.9265 - prc: 0.6957 - val_loss: 0.0027 - val_cross entropy: 0.0027 - val_Brier score: 3.9786e-04 - val_tp: 55.0000 - val_fp: 2.0000 - val_tn: 45494.0000 - val_fn: 18.0000 - val_accuracy: 0.9996 - val_precision: 0.9649 - val_recall: 0.7534 - val_auc: 0.9518 - val_prc: 0.8484\n",
      "Epoch 11/100\n",
      "90/90 [==============================] - 0s 4ms/step - loss: 0.0044 - cross entropy: 0.0044 - Brier score: 7.2831e-04 - tp: 191.0000 - fp: 31.0000 - tn: 181933.0000 - fn: 121.0000 - accuracy: 0.9992 - precision: 0.8604 - recall: 0.6122 - auc: 0.9297 - prc: 0.7090 - val_loss: 0.0026 - val_cross entropy: 0.0026 - val_Brier score: 3.8968e-04 - val_tp: 56.0000 - val_fp: 2.0000 - val_tn: 45494.0000 - val_fn: 17.0000 - val_accuracy: 0.9996 - val_precision: 0.9655 - val_recall: 0.7671 - val_auc: 0.9518 - val_prc: 0.8470\n",
      "Epoch 12/100\n",
      "90/90 [==============================] - 0s 4ms/step - loss: 0.0041 - cross entropy: 0.0041 - Brier score: 6.7953e-04 - tp: 195.0000 - fp: 29.0000 - tn: 181935.0000 - fn: 117.0000 - accuracy: 0.9992 - precision: 0.8705 - recall: 0.6250 - auc: 0.9283 - prc: 0.7267 - val_loss: 0.0025 - val_cross entropy: 0.0025 - val_Brier score: 3.7760e-04 - val_tp: 58.0000 - val_fp: 2.0000 - val_tn: 45494.0000 - val_fn: 15.0000 - val_accuracy: 0.9996 - val_precision: 0.9667 - val_recall: 0.7945 - val_auc: 0.9518 - val_prc: 0.8500\n",
      "Epoch 13/100\n",
      "90/90 [==============================] - 0s 4ms/step - loss: 0.0045 - cross entropy: 0.0045 - Brier score: 7.5720e-04 - tp: 184.0000 - fp: 37.0000 - tn: 181927.0000 - fn: 128.0000 - accuracy: 0.9991 - precision: 0.8326 - recall: 0.5897 - auc: 0.9218 - prc: 0.6962 - val_loss: 0.0025 - val_cross entropy: 0.0025 - val_Brier score: 3.7462e-04 - val_tp: 58.0000 - val_fp: 2.0000 - val_tn: 45494.0000 - val_fn: 15.0000 - val_accuracy: 0.9996 - val_precision: 0.9667 - val_recall: 0.7945 - val_auc: 0.9518 - val_prc: 0.8535\n",
      "Epoch 14/100\n",
      "90/90 [==============================] - 0s 4ms/step - loss: 0.0042 - cross entropy: 0.0042 - Brier score: 6.8231e-04 - tp: 200.0000 - fp: 36.0000 - tn: 181928.0000 - fn: 112.0000 - accuracy: 0.9992 - precision: 0.8475 - recall: 0.6410 - auc: 0.9187 - prc: 0.7184 - val_loss: 0.0024 - val_cross entropy: 0.0024 - val_Brier score: 3.7420e-04 - val_tp: 57.0000 - val_fp: 2.0000 - val_tn: 45494.0000 - val_fn: 16.0000 - val_accuracy: 0.9996 - val_precision: 0.9661 - val_recall: 0.7808 - val_auc: 0.9518 - val_prc: 0.8562\n",
      "Epoch 15/100\n",
      "90/90 [==============================] - 0s 4ms/step - loss: 0.0040 - cross entropy: 0.0040 - Brier score: 6.8660e-04 - tp: 198.0000 - fp: 37.0000 - tn: 181927.0000 - fn: 114.0000 - accuracy: 0.9992 - precision: 0.8426 - recall: 0.6346 - auc: 0.9252 - prc: 0.7339 - val_loss: 0.0024 - val_cross entropy: 0.0024 - val_Brier score: 3.6819e-04 - val_tp: 59.0000 - val_fp: 2.0000 - val_tn: 45494.0000 - val_fn: 14.0000 - val_accuracy: 0.9996 - val_precision: 0.9672 - val_recall: 0.8082 - val_auc: 0.9518 - val_prc: 0.8578\n",
      "Epoch 16/100\n",
      "90/90 [==============================] - 0s 3ms/step - loss: 0.0040 - cross entropy: 0.0040 - Brier score: 6.7325e-04 - tp: 198.0000 - fp: 32.0000 - tn: 181932.0000 - fn: 114.0000 - accuracy: 0.9992 - precision: 0.8609 - recall: 0.6346 - auc: 0.9317 - prc: 0.7309 - val_loss: 0.0024 - val_cross entropy: 0.0024 - val_Brier score: 3.7702e-04 - val_tp: 57.0000 - val_fp: 2.0000 - val_tn: 45494.0000 - val_fn: 16.0000 - val_accuracy: 0.9996 - val_precision: 0.9661 - val_recall: 0.7808 - val_auc: 0.9518 - val_prc: 0.8562\n",
      "Epoch 17/100\n",
      "90/90 [==============================] - 0s 4ms/step - loss: 0.0041 - cross entropy: 0.0041 - Brier score: 7.2453e-04 - tp: 188.0000 - fp: 33.0000 - tn: 181931.0000 - fn: 124.0000 - accuracy: 0.9991 - precision: 0.8507 - recall: 0.6026 - auc: 0.9302 - prc: 0.7255 - val_loss: 0.0023 - val_cross entropy: 0.0023 - val_Brier score: 3.6771e-04 - val_tp: 58.0000 - val_fp: 2.0000 - val_tn: 45494.0000 - val_fn: 15.0000 - val_accuracy: 0.9996 - val_precision: 0.9667 - val_recall: 0.7945 - val_auc: 0.9587 - val_prc: 0.8642\n",
      "Epoch 18/100\n",
      "90/90 [==============================] - 0s 4ms/step - loss: 0.0041 - cross entropy: 0.0041 - Brier score: 7.0597e-04 - tp: 197.0000 - fp: 33.0000 - tn: 181931.0000 - fn: 115.0000 - accuracy: 0.9992 - precision: 0.8565 - recall: 0.6314 - auc: 0.9253 - prc: 0.7289 - val_loss: 0.0022 - val_cross entropy: 0.0022 - val_Brier score: 3.5318e-04 - val_tp: 59.0000 - val_fp: 2.0000 - val_tn: 45494.0000 - val_fn: 14.0000 - val_accuracy: 0.9996 - val_precision: 0.9672 - val_recall: 0.8082 - val_auc: 0.9586 - val_prc: 0.8620\n",
      "Epoch 19/100\n",
      "90/90 [==============================] - 0s 3ms/step - loss: 0.0038 - cross entropy: 0.0038 - Brier score: 6.4308e-04 - tp: 209.0000 - fp: 36.0000 - tn: 181928.0000 - fn: 103.0000 - accuracy: 0.9992 - precision: 0.8531 - recall: 0.6699 - auc: 0.9334 - prc: 0.7415 - val_loss: 0.0023 - val_cross entropy: 0.0023 - val_Brier score: 3.6926e-04 - val_tp: 58.0000 - val_fp: 2.0000 - val_tn: 45494.0000 - val_fn: 15.0000 - val_accuracy: 0.9996 - val_precision: 0.9667 - val_recall: 0.7945 - val_auc: 0.9518 - val_prc: 0.8605\n",
      "Epoch 20/100\n",
      "90/90 [==============================] - 0s 3ms/step - loss: 0.0038 - cross entropy: 0.0038 - Brier score: 6.6778e-04 - tp: 195.0000 - fp: 25.0000 - tn: 181939.0000 - fn: 117.0000 - accuracy: 0.9992 - precision: 0.8864 - recall: 0.6250 - auc: 0.9335 - prc: 0.7554 - val_loss: 0.0022 - val_cross entropy: 0.0022 - val_Brier score: 3.4795e-04 - val_tp: 59.0000 - val_fp: 2.0000 - val_tn: 45494.0000 - val_fn: 14.0000 - val_accuracy: 0.9996 - val_precision: 0.9672 - val_recall: 0.8082 - val_auc: 0.9587 - val_prc: 0.8662\n",
      "Epoch 21/100\n",
      "90/90 [==============================] - 0s 4ms/step - loss: 0.0038 - cross entropy: 0.0038 - Brier score: 6.5165e-04 - tp: 213.0000 - fp: 35.0000 - tn: 181929.0000 - fn: 99.0000 - accuracy: 0.9993 - precision: 0.8589 - recall: 0.6827 - auc: 0.9350 - prc: 0.7370 - val_loss: 0.0022 - val_cross entropy: 0.0022 - val_Brier score: 3.5625e-04 - val_tp: 59.0000 - val_fp: 2.0000 - val_tn: 45494.0000 - val_fn: 14.0000 - val_accuracy: 0.9996 - val_precision: 0.9672 - val_recall: 0.8082 - val_auc: 0.9587 - val_prc: 0.8669\n",
      "Epoch 22/100\n",
      "90/90 [==============================] - 0s 3ms/step - loss: 0.0037 - cross entropy: 0.0037 - Brier score: 6.5166e-04 - tp: 203.0000 - fp: 34.0000 - tn: 181930.0000 - fn: 109.0000 - accuracy: 0.9992 - precision: 0.8565 - recall: 0.6506 - auc: 0.9367 - prc: 0.7643 - val_loss: 0.0022 - val_cross entropy: 0.0022 - val_Brier score: 3.5833e-04 - val_tp: 59.0000 - val_fp: 2.0000 - val_tn: 45494.0000 - val_fn: 14.0000 - val_accuracy: 0.9996 - val_precision: 0.9672 - val_recall: 0.8082 - val_auc: 0.9587 - val_prc: 0.8704\n",
      "Epoch 23/100\n",
      "90/90 [==============================] - 0s 4ms/step - loss: 0.0037 - cross entropy: 0.0037 - Brier score: 6.6741e-04 - tp: 200.0000 - fp: 37.0000 - tn: 181927.0000 - fn: 112.0000 - accuracy: 0.9992 - precision: 0.8439 - recall: 0.6410 - auc: 0.9319 - prc: 0.7518 - val_loss: 0.0022 - val_cross entropy: 0.0022 - val_Brier score: 3.5480e-04 - val_tp: 59.0000 - val_fp: 2.0000 - val_tn: 45494.0000 - val_fn: 14.0000 - val_accuracy: 0.9996 - val_precision: 0.9672 - val_recall: 0.8082 - val_auc: 0.9518 - val_prc: 0.8630\n",
      "Epoch 24/100\n",
      "90/90 [==============================] - 0s 4ms/step - loss: 0.0037 - cross entropy: 0.0037 - Brier score: 6.6083e-04 - tp: 203.0000 - fp: 34.0000 - tn: 181930.0000 - fn: 109.0000 - accuracy: 0.9992 - precision: 0.8565 - recall: 0.6506 - auc: 0.9319 - prc: 0.7519 - val_loss: 0.0021 - val_cross entropy: 0.0021 - val_Brier score: 3.4843e-04 - val_tp: 59.0000 - val_fp: 2.0000 - val_tn: 45494.0000 - val_fn: 14.0000 - val_accuracy: 0.9996 - val_precision: 0.9672 - val_recall: 0.8082 - val_auc: 0.9586 - val_prc: 0.8698\n",
      "Epoch 25/100\n",
      "90/90 [==============================] - 0s 4ms/step - loss: 0.0038 - cross entropy: 0.0038 - Brier score: 6.7671e-04 - tp: 198.0000 - fp: 31.0000 - tn: 181933.0000 - fn: 114.0000 - accuracy: 0.9992 - precision: 0.8646 - recall: 0.6346 - auc: 0.9335 - prc: 0.7471 - val_loss: 0.0021 - val_cross entropy: 0.0021 - val_Brier score: 3.4374e-04 - val_tp: 59.0000 - val_fp: 2.0000 - val_tn: 45494.0000 - val_fn: 14.0000 - val_accuracy: 0.9996 - val_precision: 0.9672 - val_recall: 0.8082 - val_auc: 0.9587 - val_prc: 0.8678\n",
      "Epoch 26/100\n",
      "90/90 [==============================] - 0s 4ms/step - loss: 0.0036 - cross entropy: 0.0036 - Brier score: 6.5247e-04 - tp: 200.0000 - fp: 32.0000 - tn: 181932.0000 - fn: 112.0000 - accuracy: 0.9992 - precision: 0.8621 - recall: 0.6410 - auc: 0.9383 - prc: 0.7685 - val_loss: 0.0021 - val_cross entropy: 0.0021 - val_Brier score: 3.3709e-04 - val_tp: 59.0000 - val_fp: 2.0000 - val_tn: 45494.0000 - val_fn: 14.0000 - val_accuracy: 0.9996 - val_precision: 0.9672 - val_recall: 0.8082 - val_auc: 0.9586 - val_prc: 0.8712\n",
      "Epoch 27/100\n",
      "90/90 [==============================] - 0s 4ms/step - loss: 0.0038 - cross entropy: 0.0038 - Brier score: 6.6035e-04 - tp: 203.0000 - fp: 34.0000 - tn: 181930.0000 - fn: 109.0000 - accuracy: 0.9992 - precision: 0.8565 - recall: 0.6506 - auc: 0.9287 - prc: 0.7468 - val_loss: 0.0022 - val_cross entropy: 0.0022 - val_Brier score: 3.7876e-04 - val_tp: 56.0000 - val_fp: 1.0000 - val_tn: 45495.0000 - val_fn: 17.0000 - val_accuracy: 0.9996 - val_precision: 0.9825 - val_recall: 0.7671 - val_auc: 0.9587 - val_prc: 0.8703\n",
      "Epoch 28/100\n",
      "90/90 [==============================] - 0s 3ms/step - loss: 0.0037 - cross entropy: 0.0037 - Brier score: 6.6210e-04 - tp: 199.0000 - fp: 28.0000 - tn: 181936.0000 - fn: 113.0000 - accuracy: 0.9992 - precision: 0.8767 - recall: 0.6378 - auc: 0.9271 - prc: 0.7532 - val_loss: 0.0021 - val_cross entropy: 0.0021 - val_Brier score: 3.4715e-04 - val_tp: 59.0000 - val_fp: 2.0000 - val_tn: 45494.0000 - val_fn: 14.0000 - val_accuracy: 0.9996 - val_precision: 0.9672 - val_recall: 0.8082 - val_auc: 0.9586 - val_prc: 0.8719\n",
      "Epoch 29/100\n",
      "90/90 [==============================] - 0s 3ms/step - loss: 0.0038 - cross entropy: 0.0038 - Brier score: 6.9189e-04 - tp: 201.0000 - fp: 36.0000 - tn: 181928.0000 - fn: 111.0000 - accuracy: 0.9992 - precision: 0.8481 - recall: 0.6442 - auc: 0.9367 - prc: 0.7377 - val_loss: 0.0021 - val_cross entropy: 0.0021 - val_Brier score: 3.4497e-04 - val_tp: 59.0000 - val_fp: 2.0000 - val_tn: 45494.0000 - val_fn: 14.0000 - val_accuracy: 0.9996 - val_precision: 0.9672 - val_recall: 0.8082 - val_auc: 0.9586 - val_prc: 0.8722\n",
      "Epoch 30/100\n",
      "90/90 [==============================] - 0s 4ms/step - loss: 0.0036 - cross entropy: 0.0036 - Brier score: 6.4800e-04 - tp: 211.0000 - fp: 31.0000 - tn: 181933.0000 - fn: 101.0000 - accuracy: 0.9993 - precision: 0.8719 - recall: 0.6763 - auc: 0.9303 - prc: 0.7591 - val_loss: 0.0021 - val_cross entropy: 0.0021 - val_Brier score: 3.4994e-04 - val_tp: 59.0000 - val_fp: 2.0000 - val_tn: 45494.0000 - val_fn: 14.0000 - val_accuracy: 0.9996 - val_precision: 0.9672 - val_recall: 0.8082 - val_auc: 0.9587 - val_prc: 0.8722\n",
      "Epoch 31/100\n",
      "90/90 [==============================] - 0s 4ms/step - loss: 0.0035 - cross entropy: 0.0035 - Brier score: 6.3372e-04 - tp: 215.0000 - fp: 36.0000 - tn: 181928.0000 - fn: 97.0000 - accuracy: 0.9993 - precision: 0.8566 - recall: 0.6891 - auc: 0.9400 - prc: 0.7688 - val_loss: 0.0021 - val_cross entropy: 0.0021 - val_Brier score: 3.5636e-04 - val_tp: 58.0000 - val_fp: 1.0000 - val_tn: 45495.0000 - val_fn: 15.0000 - val_accuracy: 0.9996 - val_precision: 0.9831 - val_recall: 0.7945 - val_auc: 0.9587 - val_prc: 0.8728\n",
      "Epoch 32/100\n",
      "90/90 [==============================] - 0s 4ms/step - loss: 0.0035 - cross entropy: 0.0035 - Brier score: 6.4205e-04 - tp: 199.0000 - fp: 30.0000 - tn: 181934.0000 - fn: 113.0000 - accuracy: 0.9992 - precision: 0.8690 - recall: 0.6378 - auc: 0.9353 - prc: 0.7626 - val_loss: 0.0021 - val_cross entropy: 0.0021 - val_Brier score: 3.4155e-04 - val_tp: 59.0000 - val_fp: 2.0000 - val_tn: 45494.0000 - val_fn: 14.0000 - val_accuracy: 0.9996 - val_precision: 0.9672 - val_recall: 0.8082 - val_auc: 0.9587 - val_prc: 0.8743\n",
      "Epoch 33/100\n",
      "90/90 [==============================] - 0s 4ms/step - loss: 0.0037 - cross entropy: 0.0037 - Brier score: 6.4779e-04 - tp: 206.0000 - fp: 28.0000 - tn: 181936.0000 - fn: 106.0000 - accuracy: 0.9993 - precision: 0.8803 - recall: 0.6603 - auc: 0.9352 - prc: 0.7446 - val_loss: 0.0021 - val_cross entropy: 0.0021 - val_Brier score: 3.4301e-04 - val_tp: 59.0000 - val_fp: 2.0000 - val_tn: 45494.0000 - val_fn: 14.0000 - val_accuracy: 0.9996 - val_precision: 0.9672 - val_recall: 0.8082 - val_auc: 0.9518 - val_prc: 0.8673\n",
      "Epoch 34/100\n",
      "90/90 [==============================] - 0s 4ms/step - loss: 0.0037 - cross entropy: 0.0037 - Brier score: 6.8740e-04 - tp: 194.0000 - fp: 34.0000 - tn: 181930.0000 - fn: 118.0000 - accuracy: 0.9992 - precision: 0.8509 - recall: 0.6218 - auc: 0.9353 - prc: 0.7436 - val_loss: 0.0021 - val_cross entropy: 0.0021 - val_Brier score: 3.4758e-04 - val_tp: 58.0000 - val_fp: 1.0000 - val_tn: 45495.0000 - val_fn: 15.0000 - val_accuracy: 0.9996 - val_precision: 0.9831 - val_recall: 0.7945 - val_auc: 0.9587 - val_prc: 0.8754\n",
      "Epoch 35/100\n",
      "90/90 [==============================] - 0s 3ms/step - loss: 0.0035 - cross entropy: 0.0035 - Brier score: 6.3675e-04 - tp: 209.0000 - fp: 36.0000 - tn: 181928.0000 - fn: 103.0000 - accuracy: 0.9992 - precision: 0.8531 - recall: 0.6699 - auc: 0.9352 - prc: 0.7540 - val_loss: 0.0021 - val_cross entropy: 0.0021 - val_Brier score: 3.5358e-04 - val_tp: 56.0000 - val_fp: 1.0000 - val_tn: 45495.0000 - val_fn: 17.0000 - val_accuracy: 0.9996 - val_precision: 0.9825 - val_recall: 0.7671 - val_auc: 0.9587 - val_prc: 0.8742\n",
      "Epoch 36/100\n",
      "90/90 [==============================] - 0s 4ms/step - loss: 0.0035 - cross entropy: 0.0035 - Brier score: 6.2958e-04 - tp: 209.0000 - fp: 32.0000 - tn: 181932.0000 - fn: 103.0000 - accuracy: 0.9993 - precision: 0.8672 - recall: 0.6699 - auc: 0.9336 - prc: 0.7679 - val_loss: 0.0020 - val_cross entropy: 0.0020 - val_Brier score: 3.4320e-04 - val_tp: 58.0000 - val_fp: 1.0000 - val_tn: 45495.0000 - val_fn: 15.0000 - val_accuracy: 0.9996 - val_precision: 0.9831 - val_recall: 0.7945 - val_auc: 0.9587 - val_prc: 0.8757\n",
      "Epoch 37/100\n",
      "90/90 [==============================] - 0s 3ms/step - loss: 0.0035 - cross entropy: 0.0035 - Brier score: 6.7150e-04 - tp: 191.0000 - fp: 31.0000 - tn: 181933.0000 - fn: 121.0000 - accuracy: 0.9992 - precision: 0.8604 - recall: 0.6122 - auc: 0.9400 - prc: 0.7674 - val_loss: 0.0020 - val_cross entropy: 0.0020 - val_Brier score: 3.3322e-04 - val_tp: 59.0000 - val_fp: 3.0000 - val_tn: 45493.0000 - val_fn: 14.0000 - val_accuracy: 0.9996 - val_precision: 0.9516 - val_recall: 0.8082 - val_auc: 0.9587 - val_prc: 0.8755\n",
      "Epoch 38/100\n",
      "90/90 [==============================] - 0s 4ms/step - loss: 0.0037 - cross entropy: 0.0037 - Brier score: 6.8261e-04 - tp: 203.0000 - fp: 41.0000 - tn: 181923.0000 - fn: 109.0000 - accuracy: 0.9992 - precision: 0.8320 - recall: 0.6506 - auc: 0.9368 - prc: 0.7439 - val_loss: 0.0021 - val_cross entropy: 0.0021 - val_Brier score: 3.5483e-04 - val_tp: 56.0000 - val_fp: 1.0000 - val_tn: 45495.0000 - val_fn: 17.0000 - val_accuracy: 0.9996 - val_precision: 0.9825 - val_recall: 0.7671 - val_auc: 0.9519 - val_prc: 0.8701\n",
      "Epoch 39/100\n",
      "90/90 [==============================] - 0s 3ms/step - loss: 0.0034 - cross entropy: 0.0034 - Brier score: 6.2767e-04 - tp: 209.0000 - fp: 33.0000 - tn: 181931.0000 - fn: 103.0000 - accuracy: 0.9993 - precision: 0.8636 - recall: 0.6699 - auc: 0.9352 - prc: 0.7820 - val_loss: 0.0021 - val_cross entropy: 0.0021 - val_Brier score: 3.6112e-04 - val_tp: 56.0000 - val_fp: 1.0000 - val_tn: 45495.0000 - val_fn: 17.0000 - val_accuracy: 0.9996 - val_precision: 0.9825 - val_recall: 0.7671 - val_auc: 0.9519 - val_prc: 0.8680\n",
      "Epoch 40/100\n",
      "90/90 [==============================] - 0s 3ms/step - loss: 0.0036 - cross entropy: 0.0036 - Brier score: 6.6617e-04 - tp: 198.0000 - fp: 29.0000 - tn: 181935.0000 - fn: 114.0000 - accuracy: 0.9992 - precision: 0.8722 - recall: 0.6346 - auc: 0.9416 - prc: 0.7550 - val_loss: 0.0020 - val_cross entropy: 0.0020 - val_Brier score: 3.3833e-04 - val_tp: 58.0000 - val_fp: 1.0000 - val_tn: 45495.0000 - val_fn: 15.0000 - val_accuracy: 0.9996 - val_precision: 0.9831 - val_recall: 0.7945 - val_auc: 0.9587 - val_prc: 0.8754\n",
      "Epoch 41/100\n",
      "90/90 [==============================] - 0s 3ms/step - loss: 0.0034 - cross entropy: 0.0034 - Brier score: 6.4476e-04 - tp: 214.0000 - fp: 42.0000 - tn: 181922.0000 - fn: 98.0000 - accuracy: 0.9992 - precision: 0.8359 - recall: 0.6859 - auc: 0.9465 - prc: 0.7750 - val_loss: 0.0020 - val_cross entropy: 0.0020 - val_Brier score: 3.4398e-04 - val_tp: 58.0000 - val_fp: 1.0000 - val_tn: 45495.0000 - val_fn: 15.0000 - val_accuracy: 0.9996 - val_precision: 0.9831 - val_recall: 0.7945 - val_auc: 0.9519 - val_prc: 0.8710\n",
      "Epoch 42/100\n",
      "90/90 [==============================] - 0s 4ms/step - loss: 0.0033 - cross entropy: 0.0033 - Brier score: 6.2512e-04 - tp: 210.0000 - fp: 28.0000 - tn: 181936.0000 - fn: 102.0000 - accuracy: 0.9993 - precision: 0.8824 - recall: 0.6731 - auc: 0.9433 - prc: 0.7838 - val_loss: 0.0020 - val_cross entropy: 0.0020 - val_Brier score: 3.3640e-04 - val_tp: 58.0000 - val_fp: 1.0000 - val_tn: 45495.0000 - val_fn: 15.0000 - val_accuracy: 0.9996 - val_precision: 0.9831 - val_recall: 0.7945 - val_auc: 0.9587 - val_prc: 0.8739\n",
      "Epoch 43/100\n",
      "90/90 [==============================] - 0s 4ms/step - loss: 0.0035 - cross entropy: 0.0035 - Brier score: 6.5012e-04 - tp: 203.0000 - fp: 37.0000 - tn: 181927.0000 - fn: 109.0000 - accuracy: 0.9992 - precision: 0.8458 - recall: 0.6506 - auc: 0.9416 - prc: 0.7593 - val_loss: 0.0020 - val_cross entropy: 0.0020 - val_Brier score: 3.4106e-04 - val_tp: 58.0000 - val_fp: 1.0000 - val_tn: 45495.0000 - val_fn: 15.0000 - val_accuracy: 0.9996 - val_precision: 0.9831 - val_recall: 0.7945 - val_auc: 0.9587 - val_prc: 0.8753\n",
      "Epoch 44/100\n",
      "90/90 [==============================] - 0s 4ms/step - loss: 0.0034 - cross entropy: 0.0034 - Brier score: 6.1041e-04 - tp: 206.0000 - fp: 24.0000 - tn: 181940.0000 - fn: 106.0000 - accuracy: 0.9993 - precision: 0.8957 - recall: 0.6603 - auc: 0.9417 - prc: 0.7676 - val_loss: 0.0020 - val_cross entropy: 0.0020 - val_Brier score: 3.2748e-04 - val_tp: 59.0000 - val_fp: 1.0000 - val_tn: 45495.0000 - val_fn: 14.0000 - val_accuracy: 0.9997 - val_precision: 0.9833 - val_recall: 0.8082 - val_auc: 0.9587 - val_prc: 0.8764\n",
      "Epoch 45/100\n",
      "90/90 [==============================] - 0s 5ms/step - loss: 0.0033 - cross entropy: 0.0033 - Brier score: 5.8323e-04 - tp: 220.0000 - fp: 25.0000 - tn: 181939.0000 - fn: 92.0000 - accuracy: 0.9994 - precision: 0.8980 - recall: 0.7051 - auc: 0.9416 - prc: 0.7762 - val_loss: 0.0020 - val_cross entropy: 0.0020 - val_Brier score: 3.5055e-04 - val_tp: 56.0000 - val_fp: 1.0000 - val_tn: 45495.0000 - val_fn: 17.0000 - val_accuracy: 0.9996 - val_precision: 0.9825 - val_recall: 0.7671 - val_auc: 0.9518 - val_prc: 0.8711\n",
      "Epoch 46/100\n",
      "90/90 [==============================] - 0s 3ms/step - loss: 0.0034 - cross entropy: 0.0034 - Brier score: 6.3290e-04 - tp: 202.0000 - fp: 27.0000 - tn: 181937.0000 - fn: 110.0000 - accuracy: 0.9992 - precision: 0.8821 - recall: 0.6474 - auc: 0.9368 - prc: 0.7704 - val_loss: 0.0020 - val_cross entropy: 0.0020 - val_Brier score: 3.2878e-04 - val_tp: 59.0000 - val_fp: 2.0000 - val_tn: 45494.0000 - val_fn: 14.0000 - val_accuracy: 0.9996 - val_precision: 0.9672 - val_recall: 0.8082 - val_auc: 0.9519 - val_prc: 0.8705\n",
      "Epoch 47/100\n",
      "90/90 [==============================] - 0s 4ms/step - loss: 0.0034 - cross entropy: 0.0034 - Brier score: 6.1869e-04 - tp: 208.0000 - fp: 31.0000 - tn: 181933.0000 - fn: 104.0000 - accuracy: 0.9993 - precision: 0.8703 - recall: 0.6667 - auc: 0.9416 - prc: 0.7676 - val_loss: 0.0020 - val_cross entropy: 0.0020 - val_Brier score: 3.3130e-04 - val_tp: 59.0000 - val_fp: 2.0000 - val_tn: 45494.0000 - val_fn: 14.0000 - val_accuracy: 0.9996 - val_precision: 0.9672 - val_recall: 0.8082 - val_auc: 0.9587 - val_prc: 0.8782\n",
      "Epoch 48/100\n",
      "90/90 [==============================] - 0s 4ms/step - loss: 0.0034 - cross entropy: 0.0034 - Brier score: 6.6939e-04 - tp: 200.0000 - fp: 33.0000 - tn: 181931.0000 - fn: 112.0000 - accuracy: 0.9992 - precision: 0.8584 - recall: 0.6410 - auc: 0.9320 - prc: 0.7723 - val_loss: 0.0020 - val_cross entropy: 0.0020 - val_Brier score: 3.3691e-04 - val_tp: 58.0000 - val_fp: 1.0000 - val_tn: 45495.0000 - val_fn: 15.0000 - val_accuracy: 0.9996 - val_precision: 0.9831 - val_recall: 0.7945 - val_auc: 0.9519 - val_prc: 0.8721\n",
      "Epoch 49/100\n",
      "90/90 [==============================] - 0s 4ms/step - loss: 0.0034 - cross entropy: 0.0034 - Brier score: 6.0641e-04 - tp: 218.0000 - fp: 33.0000 - tn: 181931.0000 - fn: 94.0000 - accuracy: 0.9993 - precision: 0.8685 - recall: 0.6987 - auc: 0.9433 - prc: 0.7771 - val_loss: 0.0020 - val_cross entropy: 0.0020 - val_Brier score: 3.4750e-04 - val_tp: 56.0000 - val_fp: 1.0000 - val_tn: 45495.0000 - val_fn: 17.0000 - val_accuracy: 0.9996 - val_precision: 0.9825 - val_recall: 0.7671 - val_auc: 0.9519 - val_prc: 0.8728\n",
      "Epoch 50/100\n",
      "90/90 [==============================] - 0s 4ms/step - loss: 0.0034 - cross entropy: 0.0034 - Brier score: 6.3961e-04 - tp: 207.0000 - fp: 30.0000 - tn: 181934.0000 - fn: 105.0000 - accuracy: 0.9993 - precision: 0.8734 - recall: 0.6635 - auc: 0.9417 - prc: 0.7826 - val_loss: 0.0020 - val_cross entropy: 0.0020 - val_Brier score: 3.2688e-04 - val_tp: 59.0000 - val_fp: 1.0000 - val_tn: 45495.0000 - val_fn: 14.0000 - val_accuracy: 0.9997 - val_precision: 0.9833 - val_recall: 0.8082 - val_auc: 0.9518 - val_prc: 0.8717\n",
      "Epoch 51/100\n",
      "90/90 [==============================] - 0s 3ms/step - loss: 0.0034 - cross entropy: 0.0034 - Brier score: 6.1122e-04 - tp: 214.0000 - fp: 29.0000 - tn: 181935.0000 - fn: 98.0000 - accuracy: 0.9993 - precision: 0.8807 - recall: 0.6859 - auc: 0.9352 - prc: 0.7678 - val_loss: 0.0020 - val_cross entropy: 0.0020 - val_Brier score: 3.4440e-04 - val_tp: 56.0000 - val_fp: 1.0000 - val_tn: 45495.0000 - val_fn: 17.0000 - val_accuracy: 0.9996 - val_precision: 0.9825 - val_recall: 0.7671 - val_auc: 0.9519 - val_prc: 0.8733\n",
      "Epoch 52/100\n",
      "70/90 [======================>.......] - ETA: 0s - loss: 0.0034 - cross entropy: 0.0034 - Brier score: 6.0444e-04 - tp: 172.0000 - fp: 23.0000 - tn: 143086.0000 - fn: 79.0000 - accuracy: 0.9993 - precision: 0.8821 - recall: 0.6853 - auc: 0.9376 - prc: 0.7811      Restoring model weights from the end of the best epoch: 42.\n",
      "90/90 [==============================] - 0s 4ms/step - loss: 0.0033 - cross entropy: 0.0033 - Brier score: 5.8988e-04 - tp: 216.0000 - fp: 29.0000 - tn: 181935.0000 - fn: 96.0000 - accuracy: 0.9993 - precision: 0.8816 - recall: 0.6923 - auc: 0.9369 - prc: 0.7830 - val_loss: 0.0020 - val_cross entropy: 0.0020 - val_Brier score: 3.3690e-04 - val_tp: 58.0000 - val_fp: 1.0000 - val_tn: 45495.0000 - val_fn: 15.0000 - val_accuracy: 0.9996 - val_precision: 0.9831 - val_recall: 0.7945 - val_auc: 0.9519 - val_prc: 0.8726\n",
      "Epoch 52: early stopping\n",
      "1/1 [==============================] - 0s 42ms/step\n"
     ]
    },
    {
     "data": {
      "text/plain": [
       "array([[3.00534739e-05],\n",
       "       [3.90153400e-06],\n",
       "       [4.11620655e-04],\n",
       "       [3.19993851e-05],\n",
       "       [4.59643525e-05],\n",
       "       [1.33299363e-05],\n",
       "       [1.39044030e-04],\n",
       "       [1.09554225e-04],\n",
       "       [3.15212645e-04],\n",
       "       [4.01477038e-04]], dtype=float32)"
      ]
     },
     "execution_count": 32,
     "metadata": {},
     "output_type": "execute_result"
    }
   ],
   "source": [
    "clf_1 = make_model(output_bias=initial_bias)\n",
    "clf_1.fit(train_features, train_labels, epochs=EPOCHS, batch_size=BATCH_SIZE, validation_data=(val_features, val_labels), callbacks=[early_stopping])\n",
    "clf_1.predict(train_features[:10])\n"
   ]
  },
  {
   "cell_type": "code",
   "execution_count": 33,
   "metadata": {},
   "outputs": [
    {
     "name": "stdout",
     "output_type": "stream",
     "text": [
      "Loss: 0.0027\n"
     ]
    }
   ],
   "source": [
    "results = clf_1.evaluate(train_features, train_labels, batch_size=BATCH_SIZE, verbose=0)\n",
    "print(\"Loss: {:0.4f}\".format(results[0]))\n"
   ]
  },
  {
   "cell_type": "markdown",
   "metadata": {},
   "source": [
    "# Checkpointing initial weights"
   ]
  },
  {
   "cell_type": "code",
   "execution_count": 34,
   "metadata": {},
   "outputs": [],
   "source": [
    "initial_weights = os.path.join(tempfile.mkdtemp(), 'initial_weights')\n",
    "clf_1.save_weights(initial_weights)"
   ]
  },
  {
   "cell_type": "markdown",
   "metadata": {},
   "source": [
    "# Compare model with and without bias initialization"
   ]
  },
  {
   "cell_type": "code",
   "execution_count": 35,
   "metadata": {},
   "outputs": [],
   "source": [
    "model = make_model()\n",
    "model.load_weights(initial_weights)\n",
    "model.layers[-1].bias.assign([0.0])\n",
    "zero_bias_history = model.fit(\n",
    "    train_features,\n",
    "    train_labels,\n",
    "    batch_size=BATCH_SIZE,\n",
    "    epochs=20,\n",
    "    validation_data=(val_features, val_labels), \n",
    "    verbose=0)\n"
   ]
  },
  {
   "cell_type": "code",
   "execution_count": 36,
   "metadata": {},
   "outputs": [],
   "source": [
    "model = make_model(output_bias=initial_bias)\n",
    "model.load_weights(initial_weights)\n",
    "careful_bias_history = model.fit(\n",
    "    train_features,\n",
    "    train_labels,\n",
    "    batch_size=BATCH_SIZE,\n",
    "    epochs=20,\n",
    "    validation_data=(val_features, val_labels), \n",
    "    verbose=0)\n"
   ]
  },
  {
   "cell_type": "code",
   "execution_count": 37,
   "metadata": {},
   "outputs": [],
   "source": [
    "def plot_loss(history, label, n):\n",
    "  # Use a log scale on y-axis to show the wide range of values.\n",
    "  plt.semilogy(history.epoch, history.history['loss'],\n",
    "               color=colors[n], label='Train ' + label)\n",
    "  plt.semilogy(history.epoch, history.history['val_loss'],\n",
    "               color=colors[n], label='Val ' + label,\n",
    "               linestyle=\"--\")\n",
    "  plt.xlabel('Epoch')\n",
    "  plt.ylabel('Loss')\n",
    "  plt.legend()\n"
   ]
  },
  {
   "cell_type": "code",
   "execution_count": 38,
   "metadata": {},
   "outputs": [
    {
     "data": {
      "image/png": "[encoded data removed]",
      "text/plain": [
       "<Figure size 1200x1000 with 1 Axes>"
      ]
     },
     "metadata": {},
     "output_type": "display_data"
    }
   ],
   "source": [
    "plot_loss(zero_bias_history, \"Zero Bias\", 0)\n",
    "plot_loss(careful_bias_history, \"Careful Bias\", 1)"
   ]
  },
  {
   "cell_type": "code",
   "execution_count": 39,
   "metadata": {},
   "outputs": [
    {
     "name": "stdout",
     "output_type": "stream",
     "text": [
      "90/90 [==============================] - 0s 2ms/step\n",
      "28/28 [==============================] - 0s 4ms/step\n"
     ]
    }
   ],
   "source": [
    "train_predictions_baseline = model.predict(train_features, batch_size=BATCH_SIZE)\n",
    "test_predictions_baseline = model.predict(test_features, batch_size=BATCH_SIZE)"
   ]
  },
  {
   "cell_type": "code",
   "execution_count": 40,
   "metadata": {},
   "outputs": [],
   "source": [
    "def plot_cm(labels, predictions, threshold=0.5):\n",
    "  cm = confusion_matrix(labels, predictions > threshold)\n",
    "  plt.figure(figsize=(5,5))\n",
    "  sns.heatmap(cm, annot=True, fmt=\"d\")\n",
    "  plt.title('Confusion matrix @{:.2f}'.format(threshold))\n",
    "  plt.ylabel('Actual label')\n",
    "  plt.xlabel('Predicted label')\n",
    "\n",
    "  print('Legitimate Transactions Detected (True Negatives): ', cm[0][0])\n",
    "  print('Legitimate Transactions Incorrectly Detected (False Positives): ', cm[0][1])\n",
    "  print('Fraudulent Transactions Missed (False Negatives): ', cm[1][0])\n",
    "  print('Fraudulent Transactions Detected (True Positives): ', cm[1][1])\n",
    "  print('Total Fraudulent Transactions: ', np.sum(cm[1]))\n"
   ]
  },
  {
   "cell_type": "code",
   "execution_count": 41,
   "metadata": {},
   "outputs": [
    {
     "name": "stdout",
     "output_type": "stream",
     "text": [
      "loss :  0.003575393930077553\n",
      "cross entropy :  0.003575393930077553\n",
      "Brier score :  0.0005901200347580016\n",
      "tp :  76.0\n",
      "fp :  7.0\n",
      "tn :  56848.0\n",
      "fn :  31.0\n",
      "accuracy :  0.9993329048156738\n",
      "precision :  0.9156626462936401\n",
      "recall :  0.7102803587913513\n",
      "auc :  0.920197069644928\n",
      "prc :  0.7950003147125244\n",
      "\n",
      "Legitimate Transactions Detected (True Negatives):  56848\n",
      "Legitimate Transactions Incorrectly Detected (False Positives):  7\n",
      "Fraudulent Transactions Missed (False Negatives):  31\n",
      "Fraudulent Transactions Detected (True Positives):  76\n",
      "Total Fraudulent Transactions:  107\n"
     ]
    },
    {
     "data": {
      "image/png": "[encoded data removed]",
      "text/plain": [
       "<Figure size 500x500 with 2 Axes>"
      ]
     },
     "metadata": {},
     "output_type": "display_data"
    }
   ],
   "source": [
    "baseline_results = model.evaluate(test_features, test_labels,\n",
    "                                  batch_size=BATCH_SIZE, verbose=0)\n",
    "for name, value in zip(model.metrics_names, baseline_results):\n",
    "  print(name, ': ', value)\n",
    "print()\n",
    "\n",
    "plot_cm(test_labels, test_predictions_baseline)\n"
   ]
  },
  {
   "cell_type": "code",
   "execution_count": null,
   "metadata": {},
   "outputs": [],
   "source": []
  }
 ],
 "metadata": {
  "kernelspec": {
   "display_name": ".venv",
   "language": "python",
   "name": "python3"
  },
  "language_info": {
   "codemirror_mode": {
    "name": "ipython",
    "version": 3
   },
   "file_extension": ".py",
   "mimetype": "text/x-python",
   "name": "python",
   "nbconvert_exporter": "python",
   "pygments_lexer": "ipython3",
   "version": "3.10.11"
  }
 },
 "nbformat": 4,
 "nbformat_minor": 2
}
